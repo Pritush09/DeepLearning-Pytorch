{
  "nbformat": 4,
  "nbformat_minor": 0,
  "metadata": {
    "colab": {
      "provenance": [],
      "authorship_tag": "ABX9TyPRVQSCU5wsVmbBYiCGPtO4",
      "include_colab_link": true
    },
    "kernelspec": {
      "name": "python3",
      "display_name": "Python 3"
    },
    "language_info": {
      "name": "python"
    },
    "gpuClass": "standard"
  },
  "cells": [
    {
      "cell_type": "markdown",
      "metadata": {
        "id": "view-in-github",
        "colab_type": "text"
      },
      "source": [
        "<a href=\"https://colab.research.google.com/github/Pritush09/DeepLearning-Pytorch/blob/master/00_Pytorch_Fundamental.ipynb\" target=\"_parent\"><img src=\"https://colab.research.google.com/assets/colab-badge.svg\" alt=\"Open In Colab\"/></a>"
      ]
    },
    {
      "cell_type": "code",
      "execution_count": 2,
      "metadata": {
        "colab": {
          "base_uri": "https://localhost:8080/"
        },
        "id": "sN8ftBEkCNCV",
        "outputId": "7feace97-7ff8-407d-cfb1-acc3839ad7d3"
      },
      "outputs": [
        {
          "output_type": "stream",
          "name": "stdout",
          "text": [
            "/bin/bash: nvidia-smi: command not found\n"
          ]
        }
      ],
      "source": [
        "!nvidia-smi \n",
        "# for lookin the gpu type which we are alloted"
      ]
    },
    {
      "cell_type": "markdown",
      "source": [
        "#CUDA® is a parallel computing platform and programming model developed by NVIDIA for general computing on graphical processing units (GPUs)"
      ],
      "metadata": {
        "id": "PfUHOrnnG0_W"
      }
    },
    {
      "cell_type": "code",
      "source": [
        "import torch\n",
        "import pandas as pd\n",
        "import numpy as np\n",
        "import seaborn as sns\n",
        "import matplotlib.pyplot as plt\n",
        "%matplotlib inline"
      ],
      "metadata": {
        "id": "mE0kaQa4CeCC"
      },
      "execution_count": 3,
      "outputs": []
    },
    {
      "cell_type": "code",
      "source": [
        "print(torch.__version__)"
      ],
      "metadata": {
        "colab": {
          "base_uri": "https://localhost:8080/"
        },
        "id": "8qGeAKe6DNOD",
        "outputId": "92e7dc0b-e454-4a84-81f6-82708f3672f3"
      },
      "execution_count": 4,
      "outputs": [
        {
          "output_type": "stream",
          "name": "stdout",
          "text": [
            "2.0.0+cu118\n"
          ]
        }
      ]
    },
    {
      "cell_type": "markdown",
      "source": [
        "## Introduction To **tensors**"
      ],
      "metadata": {
        "id": "xCZTXxekERML"
      }
    },
    {
      "cell_type": "markdown",
      "source": [
        "torch.tensor() always copies data. If you have a Tensor data and just want to change its requires_grad flag, use requires_grad_() or detach() to avoid a copy.\n",
        " If you have a numpy array and want to avoid a copy, use torch.as_tensor()."
      ],
      "metadata": {
        "id": "8nl4GsmcI2E7"
      }
    },
    {
      "cell_type": "markdown",
      "source": [
        "Random sampling creation ops are listed under Random sampling and include: \n",
        "torch.rand() torch.rand_like() torch.randn() torch.randn_like() torch.randint() torch.randint_like() torch.randperm() You may also use torch.empty() with the In-place random sampling methods to create torch.\n",
        "Tensor s with values sampled from a broader range of distributions."
      ],
      "metadata": {
        "id": "IvKmwdPMI91j"
      }
    },
    {
      "cell_type": "markdown",
      "source": [
        "tensors aare created using `torch.tensor()` link = https://pytorch.org/docs/stable/tensors.html"
      ],
      "metadata": {
        "id": "OIINfUzhJgEe"
      }
    },
    {
      "cell_type": "code",
      "source": [
        "#creating a scalars\n",
        "scalar = torch.tensor(120)\n",
        "scalar"
      ],
      "metadata": {
        "id": "gjrXTYmPFYXc",
        "outputId": "319df415-7023-4209-a818-d8540ba8f75e",
        "colab": {
          "base_uri": "https://localhost:8080/"
        }
      },
      "execution_count": 5,
      "outputs": [
        {
          "output_type": "execute_result",
          "data": {
            "text/plain": [
              "tensor(120)"
            ]
          },
          "metadata": {},
          "execution_count": 5
        }
      ]
    },
    {
      "cell_type": "code",
      "source": [
        "scalar.ndim #Scalar doesnt have dimensions"
      ],
      "metadata": {
        "id": "3_abMVTJF_y6",
        "outputId": "5cf2c865-9e29-4c32-d77f-ab7227f513be",
        "colab": {
          "base_uri": "https://localhost:8080/"
        }
      },
      "execution_count": 6,
      "outputs": [
        {
          "output_type": "execute_result",
          "data": {
            "text/plain": [
              "0"
            ]
          },
          "metadata": {},
          "execution_count": 6
        }
      ]
    },
    {
      "cell_type": "code",
      "source": [
        "# get tensor back as python int\n",
        "type(scalar.item())"
      ],
      "metadata": {
        "id": "ap5rn5osKQbZ",
        "outputId": "4ff8b4fd-f6f8-48ce-f91e-85b5f6b2dc82",
        "colab": {
          "base_uri": "https://localhost:8080/"
        }
      },
      "execution_count": 7,
      "outputs": [
        {
          "output_type": "execute_result",
          "data": {
            "text/plain": [
              "int"
            ]
          },
          "metadata": {},
          "execution_count": 7
        }
      ]
    },
    {
      "cell_type": "code",
      "source": [
        "#vector \n",
        "vector = torch.tensor([2,3])\n",
        "v1 = torch.tensor([[1,2]])\n",
        "vector"
      ],
      "metadata": {
        "id": "WXQRniEZKaOX",
        "outputId": "d6463710-8748-4492-8be1-8670bf6618c7",
        "colab": {
          "base_uri": "https://localhost:8080/"
        }
      },
      "execution_count": 8,
      "outputs": [
        {
          "output_type": "execute_result",
          "data": {
            "text/plain": [
              "tensor([2, 3])"
            ]
          },
          "metadata": {},
          "execution_count": 8
        }
      ]
    },
    {
      "cell_type": "code",
      "source": [
        "print(vector.ndim)\n",
        "print(v1.ndim)"
      ],
      "metadata": {
        "id": "3PtMWB-xK5eE",
        "outputId": "f11b5ee8-afd9-403f-dfc4-d78e4ee16f5e",
        "colab": {
          "base_uri": "https://localhost:8080/"
        }
      },
      "execution_count": 9,
      "outputs": [
        {
          "output_type": "stream",
          "name": "stdout",
          "text": [
            "1\n",
            "2\n"
          ]
        }
      ]
    },
    {
      "cell_type": "code",
      "source": [
        "vector.shape"
      ],
      "metadata": {
        "id": "k4xuu4SBK815",
        "outputId": "191ac3fb-a941-4d5e-b2c9-1ac01b2bf25f",
        "colab": {
          "base_uri": "https://localhost:8080/"
        }
      },
      "execution_count": 10,
      "outputs": [
        {
          "output_type": "execute_result",
          "data": {
            "text/plain": [
              "torch.Size([2])"
            ]
          },
          "metadata": {},
          "execution_count": 10
        }
      ]
    },
    {
      "cell_type": "code",
      "source": [
        "v1.shape"
      ],
      "metadata": {
        "id": "h9QvOYEMOf5t",
        "outputId": "7ddc1ca4-d78c-4456-b584-af5b590481cf",
        "colab": {
          "base_uri": "https://localhost:8080/"
        }
      },
      "execution_count": 11,
      "outputs": [
        {
          "output_type": "execute_result",
          "data": {
            "text/plain": [
              "torch.Size([1, 2])"
            ]
          },
          "metadata": {},
          "execution_count": 11
        }
      ]
    },
    {
      "cell_type": "code",
      "source": [
        "# MATRIX \n",
        "matrix =  torch.tensor([[1,1],[2,2]])\n",
        "matrix.shape"
      ],
      "metadata": {
        "id": "oeH8d9OdOi5l",
        "outputId": "862c173e-881b-49e9-d1ae-33cb6488181b",
        "colab": {
          "base_uri": "https://localhost:8080/"
        }
      },
      "execution_count": 12,
      "outputs": [
        {
          "output_type": "execute_result",
          "data": {
            "text/plain": [
              "torch.Size([2, 2])"
            ]
          },
          "metadata": {},
          "execution_count": 12
        }
      ]
    },
    {
      "cell_type": "code",
      "source": [
        "matrix.ndim"
      ],
      "metadata": {
        "id": "Spu5Kt5YPcmU",
        "outputId": "324fe393-4bd4-4b3d-be4d-b8b9afb055bc",
        "colab": {
          "base_uri": "https://localhost:8080/"
        }
      },
      "execution_count": 13,
      "outputs": [
        {
          "output_type": "execute_result",
          "data": {
            "text/plain": [
              "2"
            ]
          },
          "metadata": {},
          "execution_count": 13
        }
      ]
    },
    {
      "cell_type": "code",
      "source": [
        "matrix[0]"
      ],
      "metadata": {
        "id": "9cdSPmN1PtcU",
        "outputId": "907c965b-0692-44cb-9dd7-6693f2fc5ada",
        "colab": {
          "base_uri": "https://localhost:8080/"
        }
      },
      "execution_count": 14,
      "outputs": [
        {
          "output_type": "execute_result",
          "data": {
            "text/plain": [
              "tensor([1, 1])"
            ]
          },
          "metadata": {},
          "execution_count": 14
        }
      ]
    },
    {
      "cell_type": "code",
      "source": [
        "# TENSORS \n",
        "tsnr = torch.tensor([[[[1,1,1,1],\n",
        "                      [1,2,3,4],\n",
        "                      [1,1,2,2]]],\n",
        "                     [[[1,1,1,1],\n",
        "                       [2,2,2,2],\n",
        "                       [3,3,3,3]]]])"
      ],
      "metadata": {
        "id": "W6HFLJbFP59t"
      },
      "execution_count": 15,
      "outputs": []
    },
    {
      "cell_type": "code",
      "source": [
        "tsnr.shape"
      ],
      "metadata": {
        "id": "GQsOan3qQVGD",
        "outputId": "7f318a2d-f951-4adb-c94a-eca8298aa4ab",
        "colab": {
          "base_uri": "https://localhost:8080/"
        }
      },
      "execution_count": 16,
      "outputs": [
        {
          "output_type": "execute_result",
          "data": {
            "text/plain": [
              "torch.Size([2, 1, 3, 4])"
            ]
          },
          "metadata": {},
          "execution_count": 16
        }
      ]
    },
    {
      "cell_type": "markdown",
      "source": [
        "# Note: we use upper case letter to represent matix and lower case letter to represent a scaler and a array "
      ],
      "metadata": {
        "id": "1gnVsqJ6Qebr"
      }
    },
    {
      "cell_type": "markdown",
      "source": [
        "### Random Tensors\n",
        "it is important because the NN start with  random numbers as their weight and bias and then adjust it according to there leaaning to get  a good reuslt \n",
        "\n",
        "`start with random numbers -> look at the data  -> update random number \n",
        "to represent the data in best way`\n",
        "\n",
        "`torch.rand` https://pytorch.org/docs/stable/generated/torch.randn.html"
      ],
      "metadata": {
        "id": "Qc_o_iOmTTsX"
      }
    },
    {
      "cell_type": "code",
      "source": [
        "# Random tensors \n",
        "random_tensor = torch.rand(3,4)"
      ],
      "metadata": {
        "id": "AkwufS93UCfe"
      },
      "execution_count": 17,
      "outputs": []
    },
    {
      "cell_type": "code",
      "source": [
        "random_tensor"
      ],
      "metadata": {
        "id": "MzqELdPqVT8p",
        "outputId": "8523bf92-25d2-4b20-aca3-5e9908743d67",
        "colab": {
          "base_uri": "https://localhost:8080/"
        }
      },
      "execution_count": 18,
      "outputs": [
        {
          "output_type": "execute_result",
          "data": {
            "text/plain": [
              "tensor([[0.4015, 0.0267, 0.2762, 0.6695],\n",
              "        [0.3921, 0.3644, 0.6292, 0.2077],\n",
              "        [0.0580, 0.8229, 0.6532, 0.6122]])"
            ]
          },
          "metadata": {},
          "execution_count": 18
        }
      ]
    },
    {
      "cell_type": "code",
      "source": [
        "random_tensor.ndim"
      ],
      "metadata": {
        "id": "_t-B0dDbVYrZ",
        "outputId": "65a4b285-bbbe-4485-a6b8-4a776f129621",
        "colab": {
          "base_uri": "https://localhost:8080/"
        }
      },
      "execution_count": 19,
      "outputs": [
        {
          "output_type": "execute_result",
          "data": {
            "text/plain": [
              "2"
            ]
          },
          "metadata": {},
          "execution_count": 19
        }
      ]
    },
    {
      "cell_type": "code",
      "source": [
        "# creating image with the tensors \n",
        "# in the format height , width , colorchannel(RGB)\n",
        "img = torch.rand(size=(224,224,3))\n",
        "img"
      ],
      "metadata": {
        "id": "WE5M8tvYVv9g",
        "outputId": "26b3a39a-0b02-4e41-8ae9-6e7226aba006",
        "colab": {
          "base_uri": "https://localhost:8080/"
        }
      },
      "execution_count": 20,
      "outputs": [
        {
          "output_type": "execute_result",
          "data": {
            "text/plain": [
              "tensor([[[2.2985e-01, 4.5012e-01, 8.7875e-01],\n",
              "         [9.7495e-01, 6.6532e-01, 2.8360e-01],\n",
              "         [8.2554e-01, 5.4710e-01, 1.5084e-01],\n",
              "         ...,\n",
              "         [2.7804e-02, 8.0982e-02, 9.1188e-01],\n",
              "         [2.3079e-01, 8.1021e-01, 8.1227e-02],\n",
              "         [1.9975e-01, 6.4651e-01, 7.6088e-01]],\n",
              "\n",
              "        [[4.3807e-01, 3.0884e-01, 8.6672e-02],\n",
              "         [3.6769e-01, 6.8768e-03, 5.1992e-01],\n",
              "         [1.5357e-01, 2.6878e-01, 9.5548e-01],\n",
              "         ...,\n",
              "         [4.8580e-01, 9.3764e-01, 7.8882e-01],\n",
              "         [2.5198e-02, 8.4792e-01, 5.6163e-01],\n",
              "         [7.1541e-01, 5.8122e-01, 5.5438e-03]],\n",
              "\n",
              "        [[5.2586e-01, 5.6842e-01, 1.8437e-01],\n",
              "         [1.1209e-01, 2.0607e-01, 9.6222e-01],\n",
              "         [9.5697e-01, 4.6556e-01, 2.9949e-01],\n",
              "         ...,\n",
              "         [3.4302e-01, 4.6415e-01, 5.1778e-01],\n",
              "         [4.2265e-02, 3.1720e-01, 8.1672e-01],\n",
              "         [6.7837e-01, 5.5497e-01, 6.2730e-01]],\n",
              "\n",
              "        ...,\n",
              "\n",
              "        [[4.3307e-01, 9.5347e-02, 9.5414e-02],\n",
              "         [8.6737e-01, 2.3257e-01, 4.0838e-01],\n",
              "         [8.9079e-01, 9.1347e-01, 7.0064e-01],\n",
              "         ...,\n",
              "         [7.7962e-01, 8.2476e-02, 6.1299e-01],\n",
              "         [7.0167e-01, 6.3449e-03, 1.5408e-01],\n",
              "         [5.3399e-01, 8.2956e-01, 3.1412e-01]],\n",
              "\n",
              "        [[1.7421e-01, 7.1146e-01, 8.1819e-04],\n",
              "         [4.8246e-01, 3.5474e-01, 5.2859e-02],\n",
              "         [9.2949e-03, 3.2997e-01, 2.3346e-01],\n",
              "         ...,\n",
              "         [8.4047e-01, 1.0114e-01, 5.8447e-01],\n",
              "         [5.4904e-01, 3.0203e-01, 3.5275e-01],\n",
              "         [4.8013e-01, 6.9402e-01, 2.1199e-01]],\n",
              "\n",
              "        [[7.9433e-01, 5.9522e-02, 4.4948e-01],\n",
              "         [2.6048e-01, 6.4145e-01, 3.7321e-01],\n",
              "         [4.1464e-01, 2.0846e-02, 4.6009e-02],\n",
              "         ...,\n",
              "         [2.2593e-02, 2.6244e-01, 6.7046e-01],\n",
              "         [1.9904e-01, 1.0272e-01, 7.7200e-01],\n",
              "         [9.1316e-01, 2.5846e-01, 3.2869e-01]]])"
            ]
          },
          "metadata": {},
          "execution_count": 20
        }
      ]
    },
    {
      "cell_type": "code",
      "source": [
        "img = torch.rand(size=(3,224,224))\n",
        "img\n",
        "# ths is correct for sure"
      ],
      "metadata": {
        "id": "YJsTseZdW6q4",
        "outputId": "f8330d1a-5afb-460e-a8a8-416fa3e41560",
        "colab": {
          "base_uri": "https://localhost:8080/"
        }
      },
      "execution_count": 21,
      "outputs": [
        {
          "output_type": "execute_result",
          "data": {
            "text/plain": [
              "tensor([[[0.6275, 0.1064, 0.0251,  ..., 0.5044, 0.9751, 0.0907],\n",
              "         [0.5528, 0.3033, 0.5539,  ..., 0.0502, 0.3407, 0.7710],\n",
              "         [0.6417, 0.3788, 0.7076,  ..., 0.2403, 0.1265, 0.9954],\n",
              "         ...,\n",
              "         [0.0966, 0.7475, 0.5055,  ..., 0.2182, 0.6347, 0.6316],\n",
              "         [0.3821, 0.8310, 0.2617,  ..., 0.5294, 0.5085, 0.4777],\n",
              "         [0.9584, 0.2196, 0.7043,  ..., 0.5127, 0.1408, 0.2117]],\n",
              "\n",
              "        [[0.0534, 0.7361, 0.7977,  ..., 0.0234, 0.3871, 0.0874],\n",
              "         [0.3901, 0.3159, 0.7714,  ..., 0.6759, 0.5018, 0.5242],\n",
              "         [0.4652, 0.4409, 0.0394,  ..., 0.9812, 0.6453, 0.8013],\n",
              "         ...,\n",
              "         [0.0244, 0.5857, 0.5883,  ..., 0.5202, 0.4502, 0.9207],\n",
              "         [0.7200, 0.7839, 0.3863,  ..., 0.2391, 0.4953, 0.4882],\n",
              "         [0.8838, 0.4790, 0.9945,  ..., 0.7397, 0.9438, 0.2788]],\n",
              "\n",
              "        [[0.9829, 0.5143, 0.4581,  ..., 0.3139, 0.5140, 0.5585],\n",
              "         [0.5272, 0.7985, 0.1375,  ..., 0.8943, 0.4575, 0.9700],\n",
              "         [0.7902, 0.7613, 0.9701,  ..., 0.4195, 0.1494, 0.4419],\n",
              "         ...,\n",
              "         [0.4618, 0.3409, 0.8357,  ..., 0.2138, 0.8159, 0.0032],\n",
              "         [0.4321, 0.2847, 0.6912,  ..., 0.4781, 0.1677, 0.8484],\n",
              "         [0.8573, 0.5978, 0.6032,  ..., 0.2188, 0.6682, 0.2789]]])"
            ]
          },
          "metadata": {},
          "execution_count": 21
        }
      ]
    },
    {
      "cell_type": "markdown",
      "source": [
        "# zeros and ones\n"
      ],
      "metadata": {
        "id": "n13RcargXqC3"
      }
    },
    {
      "cell_type": "code",
      "source": [
        "# Create a tensor of all zeros\n",
        "zeros = torch.zeros(size=(3, 4))\n",
        "zeros, zeros.dtype"
      ],
      "metadata": {
        "id": "FGcYLQ9wYnIH",
        "outputId": "6fadcc4d-5186-4be3-cef7-6d3f4412dfe9",
        "colab": {
          "base_uri": "https://localhost:8080/"
        }
      },
      "execution_count": 22,
      "outputs": [
        {
          "output_type": "execute_result",
          "data": {
            "text/plain": [
              "(tensor([[0., 0., 0., 0.],\n",
              "         [0., 0., 0., 0.],\n",
              "         [0., 0., 0., 0.]]),\n",
              " torch.float32)"
            ]
          },
          "metadata": {},
          "execution_count": 22
        }
      ]
    },
    {
      "cell_type": "code",
      "source": [
        "# Create a tensor of all ones\n",
        "ones = torch.ones(size=(3, 4))\n",
        "ones, ones.dtype"
      ],
      "metadata": {
        "id": "9hjQi837YqA2",
        "outputId": "1527ca23-eb69-4aa6-b399-bf1d98b8dffd",
        "colab": {
          "base_uri": "https://localhost:8080/"
        }
      },
      "execution_count": 23,
      "outputs": [
        {
          "output_type": "execute_result",
          "data": {
            "text/plain": [
              "(tensor([[1., 1., 1., 1.],\n",
              "         [1., 1., 1., 1.],\n",
              "         [1., 1., 1., 1.]]),\n",
              " torch.float32)"
            ]
          },
          "metadata": {},
          "execution_count": 23
        }
      ]
    },
    {
      "cell_type": "markdown",
      "source": [
        "\n",
        "Creating a range and tensors like\n",
        "Sometimes you might want a range of numbers, such as 1 to 10 or 0 to 100.\n",
        "\n",
        "You can use torch.arange(start, end, step) to do so.\n",
        "\n",
        "Where:\n",
        "\n",
        "start = start of range (e.g. 0)\n",
        "end = end of range (e.g. 10)\n",
        "step = how many steps in between each value (e.g. 1).\n",
        "\n",
        "Note: In Python, you can use range() to create a range. However in PyTorch, torch.range() is deprecated and may show an error in the future."
      ],
      "metadata": {
        "id": "Hqhto_5-Yp9-"
      }
    },
    {
      "cell_type": "code",
      "source": [
        "# Use torch.arange(), torch.range() is deprecated \n",
        "zero_to_ten_deprecated = torch.range(0, 10) # Note: this may return an error in the future\n",
        "\n",
        "# Create a range of values 0 to 10\n",
        "zero_to_ten = torch.arange(start=0, end=10, step=1)\n",
        "zero_to_ten"
      ],
      "metadata": {
        "id": "nkRU1ETAYp7X",
        "outputId": "2d39952f-0722-4217-cd47-95b370eabc9a",
        "colab": {
          "base_uri": "https://localhost:8080/"
        }
      },
      "execution_count": 24,
      "outputs": [
        {
          "output_type": "stream",
          "name": "stderr",
          "text": [
            "<ipython-input-24-a09072c806d9>:2: UserWarning: torch.range is deprecated and will be removed in a future release because its behavior is inconsistent with Python's range builtin. Instead, use torch.arange, which produces values in [start, end).\n",
            "  zero_to_ten_deprecated = torch.range(0, 10) # Note: this may return an error in the future\n"
          ]
        },
        {
          "output_type": "execute_result",
          "data": {
            "text/plain": [
              "tensor([0, 1, 2, 3, 4, 5, 6, 7, 8, 9])"
            ]
          },
          "metadata": {},
          "execution_count": 24
        }
      ]
    },
    {
      "cell_type": "markdown",
      "source": [
        "Sometimes you might want one tensor of a certain type with the same shape as another tensor.\n",
        "\n",
        "For example, a tensor of all zeros with the same shape as a previous tensor.\n",
        "\n",
        "To do so you can use `torch.zeros_like(input)` or `torch.ones_like(input)` which return a tensor filled with zeros or ones in the same shape as the input respectively."
      ],
      "metadata": {
        "id": "fkdvg17FYp4z"
      }
    },
    {
      "cell_type": "code",
      "source": [
        "# Can also create a tensor of zeros similar to another tensor\n",
        "ten_zeros = torch.zeros_like(input=zero_to_ten) # will have same shape\n",
        "ten_zeros"
      ],
      "metadata": {
        "id": "ZvmIWl_9Yp2F",
        "outputId": "31265d13-89d3-4d14-e22b-e74fb1f924db",
        "colab": {
          "base_uri": "https://localhost:8080/"
        }
      },
      "execution_count": 25,
      "outputs": [
        {
          "output_type": "execute_result",
          "data": {
            "text/plain": [
              "tensor([0, 0, 0, 0, 0, 0, 0, 0, 0, 0])"
            ]
          },
          "metadata": {},
          "execution_count": 25
        }
      ]
    },
    {
      "cell_type": "markdown",
      "source": [
        "Tensor datatypes\n",
        "There are many different tensor datatypes available in PyTorch.\n",
        "\n",
        "Some are specific for CPU and some are better for GPU.\n",
        "\n",
        "Getting to know which is which can take some time.\n",
        "\n",
        "Generally if you see torch.cuda anywhere, the tensor is being used for GPU (since Nvidia GPUs use a computing toolkit called CUDA).\n",
        "\n",
        "The most common type (and generally the default) is torch.float32 or torch.float.\n",
        "\n",
        "This is referred to as \"32-bit floating point\".\n",
        "\n",
        "But there's also 16-bit floating point (torch.float16 or torch.half) and 64-bit floating point (torch.float64 or torch.double).\n",
        "\n",
        "And to confuse things even more there's also 8-bit, 16-bit, 32-bit and 64-bit integers.\n",
        "\n",
        "Plus more!\n",
        "\n",
        "Note: An integer is a flat round number like 7 whereas a float has a decimal 7.0.\n",
        "\n",
        "The reason for all of these is to do with precision in computing.\n",
        "\n",
        "Precision is the amount of detail used to describe a number.\n",
        "\n",
        "The higher the precision value (8, 16, 32), the more detail and hence data used to express a number.\n",
        "\n",
        "This matters in deep learning and numerical computing because you're making so many operations, the more detail you have to calculate on, the more compute you have to use.\n",
        "\n",
        "So lower precision datatypes are generally faster to compute on but sacrifice some performance on evaluation metrics like accuracy (faster to compute but less accurate).\n",
        "\n",
        "Resources:\n",
        "\n",
        "See the PyTorch documentation for a list of all available tensor datatypes.\n",
        "Read the Wikipedia page for an overview of what precision in computing is.\n",
        "Let's see how to create some tensors with specific datatypes. We can do so using the dtype parameter."
      ],
      "metadata": {
        "id": "v1h_KS0LYpwF"
      }
    },
    {
      "cell_type": "code",
      "source": [
        "# Default datatype for tensors is float32\n",
        "float_32_tensor = torch.tensor([3.0, 6.0, 9.0],\n",
        "                               dtype=None, # defaults to None, which is torch.float32 or whatever datatype is passed\n",
        "                               device=None, # defaults to None, which uses the default tensor type\n",
        "                               requires_grad=False) # if True, operations performed on the tensor are recorded \n",
        "\n",
        "float_32_tensor.shape, float_32_tensor.dtype, float_32_tensor.device"
      ],
      "metadata": {
        "id": "tUDAjJfEciRC",
        "outputId": "3afb1217-c4ee-4083-e189-a4eac2454608",
        "colab": {
          "base_uri": "https://localhost:8080/"
        }
      },
      "execution_count": 26,
      "outputs": [
        {
          "output_type": "execute_result",
          "data": {
            "text/plain": [
              "(torch.Size([3]), torch.float32, device(type='cpu'))"
            ]
          },
          "metadata": {},
          "execution_count": 26
        }
      ]
    },
    {
      "cell_type": "markdown",
      "source": [
        "\n",
        "Aside from shape issues (tensor shapes don't match up), two of the other most common issues you'll come across in PyTorch are datatype and device issues.\n",
        "\n",
        "For example, one of tensors is torch.float32 and the other is torch.float16 (PyTorch often likes tensors to be the same format).\n",
        "\n",
        "Or one of your tensors is on the CPU and the other is on the GPU (PyTorch likes calculations between tensors to be on the same device)."
      ],
      "metadata": {
        "id": "zt7Ck-eqcuY8"
      }
    },
    {
      "cell_type": "code",
      "source": [
        "float_16_tensor = torch.tensor([3.0, 6.0, 9.0],\n",
        "                               dtype=torch.float16) # torch.half would also work\n",
        "\n",
        "float_16_tensor.dtype"
      ],
      "metadata": {
        "id": "vyqc36OEen9E",
        "outputId": "04a67f33-fd6f-4846-c6c8-331ac38bc48a",
        "colab": {
          "base_uri": "https://localhost:8080/"
        }
      },
      "execution_count": 27,
      "outputs": [
        {
          "output_type": "execute_result",
          "data": {
            "text/plain": [
              "torch.float16"
            ]
          },
          "metadata": {},
          "execution_count": 27
        }
      ]
    },
    {
      "cell_type": "markdown",
      "source": [
        "\n",
        "Getting information from tensors\n",
        "Once you've created tensors (or someone else or a PyTorch module has created them for you), you might want to get some information from them.\n",
        "\n",
        "We've seen these before but three of the most common attributes you'll want to find out about tensors are:\n",
        "\n",
        "shape - what shape is the tensor? (some operations require specific shape rules)\n",
        "\n",
        "dtype - what datatype are the elements within the tensor stored in?\n",
        "\n",
        "device - what device is the tensor stored on? (usually GPU or CPU)"
      ],
      "metadata": {
        "id": "pKIcmZ_newjx"
      }
    },
    {
      "cell_type": "code",
      "source": [
        "# Create a tensor\n",
        "some_tensor = torch.rand(3, 4)\n",
        "\n",
        "# Find out details about it\n",
        "print(some_tensor)\n",
        "print(f\"Shape of tensor: {some_tensor.shape}\")\n",
        "print(f\"Datatype of tensor: {some_tensor.dtype}\")\n",
        "print(f\"Device tensor is stored on: {some_tensor.device}\") # will default to CPU"
      ],
      "metadata": {
        "id": "G-SL6fsqe0mE",
        "outputId": "f606fa13-5e43-4366-9901-bb8d82c04524",
        "colab": {
          "base_uri": "https://localhost:8080/"
        }
      },
      "execution_count": 28,
      "outputs": [
        {
          "output_type": "stream",
          "name": "stdout",
          "text": [
            "tensor([[0.2198, 0.6540, 0.9845, 0.9354],\n",
            "        [0.1174, 0.0726, 0.1602, 0.4232],\n",
            "        [0.6199, 0.1462, 0.8228, 0.6416]])\n",
            "Shape of tensor: torch.Size([3, 4])\n",
            "Datatype of tensor: torch.float32\n",
            "Device tensor is stored on: cpu\n"
          ]
        }
      ]
    },
    {
      "cell_type": "markdown",
      "source": [
        "Note: When you run into issues in PyTorch, it's very often one to do with one of the three attributes above. So when the error messages show up, sing yourself a little song called \"what, what, where\":\n",
        "\n",
        "\"what shape are my tensors? what datatype are they and where are they stored? what shape, what datatype, where where where\""
      ],
      "metadata": {
        "id": "3_epGuJKnt0y"
      }
    },
    {
      "cell_type": "markdown",
      "source": [
        "\n",
        "# Manipulating tensors (tensor operations)\n",
        "In deep learning, data (images, text, video, audio, protein structures, etc) gets represented as tensors.\n",
        "\n",
        "A model learns by investigating those tensors and performing a series of operations (could be 1,000,000s+) on tensors to create a representation of the patterns in the input data.\n",
        "\n",
        "These operations are often a wonderful dance between:\n",
        "\n",
        "Addition\n",
        "Substraction\n",
        "Multiplication (element-wise)\n",
        "Division\n",
        "Matrix multiplication\n",
        "And that's it. Sure there are a few more here and there but these are the basic building blocks of neural networks.\n",
        "\n",
        "Stacking these building blocks in the right way, you can create the most sophisticated of neural networks (just like lego!).\n",
        "\n",
        "Basic operations\n",
        "Let's start with a few of the fundamental operations, addition (+), subtraction (-), mutliplication (*).\n",
        "\n",
        "They work just as you think they would."
      ],
      "metadata": {
        "id": "z299UZOhn7lR"
      }
    },
    {
      "cell_type": "code",
      "source": [
        "# Create a tensor of values and add a number to it\n",
        "tensor = torch.tensor([1, 2, 3])\n",
        "tensor + 10"
      ],
      "metadata": {
        "id": "fpNYUwtqohcJ",
        "outputId": "86aa2a5e-17c1-423a-c6da-8289c31a597c",
        "colab": {
          "base_uri": "https://localhost:8080/"
        }
      },
      "execution_count": 29,
      "outputs": [
        {
          "output_type": "execute_result",
          "data": {
            "text/plain": [
              "tensor([11, 12, 13])"
            ]
          },
          "metadata": {},
          "execution_count": 29
        }
      ]
    },
    {
      "cell_type": "code",
      "source": [
        "# Multiply it by 10\n",
        "tensor * 10"
      ],
      "metadata": {
        "id": "_Lcn4dO6ovUg",
        "outputId": "a5a03e51-0a48-4778-c3f4-01eeeef0fa5f",
        "colab": {
          "base_uri": "https://localhost:8080/"
        }
      },
      "execution_count": 30,
      "outputs": [
        {
          "output_type": "execute_result",
          "data": {
            "text/plain": [
              "tensor([10, 20, 30])"
            ]
          },
          "metadata": {},
          "execution_count": 30
        }
      ]
    },
    {
      "cell_type": "markdown",
      "source": [
        "\n",
        "Notice how the tensor values above didn't end up being tensor([110, 120, 130]), this is because the values inside the tensor don't change unless they're reassigned."
      ],
      "metadata": {
        "id": "U72V7vQ_oyH4"
      }
    },
    {
      "cell_type": "code",
      "source": [
        "# Subtract and reassign\n",
        "tensor = tensor - 10\n",
        "tensor"
      ],
      "metadata": {
        "id": "YJuQEVHOo7yY",
        "outputId": "209f9bd7-242e-4921-d3d7-985ce778aa1e",
        "colab": {
          "base_uri": "https://localhost:8080/"
        }
      },
      "execution_count": 31,
      "outputs": [
        {
          "output_type": "execute_result",
          "data": {
            "text/plain": [
              "tensor([-9, -8, -7])"
            ]
          },
          "metadata": {},
          "execution_count": 31
        }
      ]
    },
    {
      "cell_type": "code",
      "source": [
        "tensor = tensor+10\n",
        "tensor"
      ],
      "metadata": {
        "id": "rbqdIrlcpIJo",
        "outputId": "549e8a71-4a03-4664-b345-b14290d933ff",
        "colab": {
          "base_uri": "https://localhost:8080/"
        }
      },
      "execution_count": 32,
      "outputs": [
        {
          "output_type": "execute_result",
          "data": {
            "text/plain": [
              "tensor([1, 2, 3])"
            ]
          },
          "metadata": {},
          "execution_count": 32
        }
      ]
    },
    {
      "cell_type": "markdown",
      "source": [
        "PyTorch also has a bunch of built-in functions like torch.mul() (short for multiplcation) and torch.add() to perform basic operations."
      ],
      "metadata": {
        "id": "tIOQDJqKpMfq"
      }
    },
    {
      "cell_type": "code",
      "source": [
        "# Can also use torch functions\n",
        "torch.multiply(tensor, 10)"
      ],
      "metadata": {
        "id": "6pS2_ZUGpdJo",
        "outputId": "1b89b800-de50-4c5b-afd8-0dead53a815c",
        "colab": {
          "base_uri": "https://localhost:8080/"
        }
      },
      "execution_count": 33,
      "outputs": [
        {
          "output_type": "execute_result",
          "data": {
            "text/plain": [
              "tensor([10, 20, 30])"
            ]
          },
          "metadata": {},
          "execution_count": 33
        }
      ]
    },
    {
      "cell_type": "code",
      "source": [
        "tensor"
      ],
      "metadata": {
        "id": "jnjWwsiypl4Q",
        "outputId": "e2e0e5f9-b7bd-47c4-e88c-ce08cd7fbf83",
        "colab": {
          "base_uri": "https://localhost:8080/"
        }
      },
      "execution_count": 34,
      "outputs": [
        {
          "output_type": "execute_result",
          "data": {
            "text/plain": [
              "tensor([1, 2, 3])"
            ]
          },
          "metadata": {},
          "execution_count": 34
        }
      ]
    },
    {
      "cell_type": "code",
      "source": [
        "# BUt in usecase the symbols are more used \n",
        "# Element-wise multiplication (each element multiplies its equivalent, index 0->0, 1->1, 2->2)\n",
        "print(tensor, \"*\", tensor)\n",
        "print(\"Equals:\", tensor * tensor)"
      ],
      "metadata": {
        "id": "SRH4rHmSppgp",
        "outputId": "b4abdd47-d78e-420c-88b8-117ce44add1d",
        "colab": {
          "base_uri": "https://localhost:8080/"
        }
      },
      "execution_count": 35,
      "outputs": [
        {
          "output_type": "stream",
          "name": "stdout",
          "text": [
            "tensor([1, 2, 3]) * tensor([1, 2, 3])\n",
            "Equals: tensor([1, 4, 9])\n"
          ]
        }
      ]
    },
    {
      "cell_type": "markdown",
      "source": [
        "\n",
        "# Matrix multiplication (is all you need)\n",
        "One of the most common operations in machine learning and deep learning algorithms (like neural networks) is matrix multiplication.\n",
        "\n",
        "PyTorch implements matrix multiplication functionality in the torch.matmul() method.\n",
        "\n",
        "The main two rules for matrix multiplication to remember are:\n",
        "\n",
        "The inner dimensions must match:\n",
        "\n",
        "(3, 2) @ (3, 2) won't work\n",
        "\n",
        "(2, 3) @ (3, 2) will work\n",
        "\n",
        "(3, 2) @ (2, 3) will work\n",
        "\n",
        "The resulting matrix has the shape of the outer dimensions:\n",
        "\n",
        "(2, 3) @ (3, 2) -> (2, 2)\n",
        "\n",
        "(3, 2) @ (2, 3) -> (3, 3)\n",
        "\n",
        "Note: \"@\" in Python is the symbol for matrix multiplication."
      ],
      "metadata": {
        "id": "L-_hFTjtp1ed"
      }
    },
    {
      "cell_type": "code",
      "source": [
        "tensor = torch.tensor([1, 2, 3])\n",
        "tensor.shape"
      ],
      "metadata": {
        "id": "x1xoXGetqU9g",
        "outputId": "a64dbcd1-1c77-4ab1-8346-cd58c89e70da",
        "colab": {
          "base_uri": "https://localhost:8080/"
        }
      },
      "execution_count": 36,
      "outputs": [
        {
          "output_type": "execute_result",
          "data": {
            "text/plain": [
              "torch.Size([3])"
            ]
          },
          "metadata": {},
          "execution_count": 36
        }
      ]
    },
    {
      "cell_type": "markdown",
      "source": [
        "he difference between element-wise multiplication and matrix multiplication is the addition of values.\n",
        "\n",
        "For our tensor variable with values [1, 2, 3]:\n",
        "\n",
        "     Operation  \t                     Calculation\t               Code\n",
        "\n",
        "    Element-wise multiplication    [1*1, 2*2, 3*3] = [1, 4, 9]\t  tensor * tensor\n",
        "    Matrix multiplication\t       [1*1 + 2*2 + 3*3] = [14]\ttensor.matmul(tensor)"
      ],
      "metadata": {
        "id": "LVy34w3Fqf03"
      }
    },
    {
      "cell_type": "code",
      "source": [
        "tensor * tensor"
      ],
      "metadata": {
        "id": "5j-LgYser1r_",
        "outputId": "c6efb1fe-a08c-4c37-a227-27feeb1c2785",
        "colab": {
          "base_uri": "https://localhost:8080/"
        }
      },
      "execution_count": 37,
      "outputs": [
        {
          "output_type": "execute_result",
          "data": {
            "text/plain": [
              "tensor([1, 4, 9])"
            ]
          },
          "metadata": {},
          "execution_count": 37
        }
      ]
    },
    {
      "cell_type": "code",
      "source": [
        "# Matrix multiplication\n",
        "tensor.matmul(tensor)"
      ],
      "metadata": {
        "id": "YaqIUKEmr_8P",
        "outputId": "981b9451-6fb5-4393-8566-bf722dc081ff",
        "colab": {
          "base_uri": "https://localhost:8080/"
        }
      },
      "execution_count": 38,
      "outputs": [
        {
          "output_type": "execute_result",
          "data": {
            "text/plain": [
              "tensor(14)"
            ]
          },
          "metadata": {},
          "execution_count": 38
        }
      ]
    },
    {
      "cell_type": "code",
      "source": [
        "# Can also use the \"@\" symbol for matrix multiplication, though not recommended\n",
        "tensor @ tensor"
      ],
      "metadata": {
        "id": "bGrAFVcysCEO",
        "outputId": "403ab81b-fe0c-4643-dba2-d57f27705eda",
        "colab": {
          "base_uri": "https://localhost:8080/"
        }
      },
      "execution_count": 39,
      "outputs": [
        {
          "output_type": "execute_result",
          "data": {
            "text/plain": [
              "tensor(14)"
            ]
          },
          "metadata": {},
          "execution_count": 39
        }
      ]
    },
    {
      "cell_type": "markdown",
      "source": [
        "\n",
        "You can do matrix multiplication by hand but it's not recommended.\n",
        "\n",
        "The in-built torch.matmul() method is faster."
      ],
      "metadata": {
        "id": "bXxExe1-sHnX"
      }
    },
    {
      "cell_type": "code",
      "source": [
        "len(tensor)"
      ],
      "metadata": {
        "id": "TVxeOgx1sd2a",
        "outputId": "0487696d-4776-4a8e-aec7-7aff5917c12f",
        "colab": {
          "base_uri": "https://localhost:8080/"
        }
      },
      "execution_count": 40,
      "outputs": [
        {
          "output_type": "execute_result",
          "data": {
            "text/plain": [
              "3"
            ]
          },
          "metadata": {},
          "execution_count": 40
        }
      ]
    },
    {
      "cell_type": "code",
      "source": [
        "%%time\n",
        "# Matrix multiplication by hand \n",
        "# (avoid doing operations with for loops at all cost, they are computationally expensive)\n",
        "value = 0\n",
        "for i in range(len(tensor)):\n",
        "  value += tensor[i] * tensor[i]\n",
        "value"
      ],
      "metadata": {
        "id": "XDQ5THfAsOTW",
        "outputId": "8c4f977a-e215-405a-824e-6030aedc6e30",
        "colab": {
          "base_uri": "https://localhost:8080/"
        }
      },
      "execution_count": 41,
      "outputs": [
        {
          "output_type": "stream",
          "name": "stdout",
          "text": [
            "CPU times: user 225 µs, sys: 40 µs, total: 265 µs\n",
            "Wall time: 270 µs\n"
          ]
        },
        {
          "output_type": "execute_result",
          "data": {
            "text/plain": [
              "tensor(14)"
            ]
          },
          "metadata": {},
          "execution_count": 41
        }
      ]
    },
    {
      "cell_type": "code",
      "source": [
        "%%time\n",
        "torch.matmul(tensor, tensor)"
      ],
      "metadata": {
        "id": "u3FMMV4nsTq1",
        "outputId": "8c072c25-d8c8-487a-b415-e08243bce3b6",
        "colab": {
          "base_uri": "https://localhost:8080/"
        }
      },
      "execution_count": 42,
      "outputs": [
        {
          "output_type": "stream",
          "name": "stdout",
          "text": [
            "CPU times: user 106 µs, sys: 0 ns, total: 106 µs\n",
            "Wall time: 111 µs\n"
          ]
        },
        {
          "output_type": "execute_result",
          "data": {
            "text/plain": [
              "tensor(14)"
            ]
          },
          "metadata": {},
          "execution_count": 42
        }
      ]
    },
    {
      "cell_type": "markdown",
      "source": [
        "\n",
        "# One of the most common errors in deep learning (shape errors)\n",
        "Because much of deep learning is multiplying and performing operations on matrices and matrices have a strict rule about what shapes and sizes can be combined, one of the most common errors you'll run into in deep learning is shape mismatches."
      ],
      "metadata": {
        "id": "8U6ce8hwJLeX"
      }
    },
    {
      "cell_type": "code",
      "source": [
        "# Shapes need to be in the right way  \n",
        "tensor_A = torch.tensor([[1, 2],\n",
        "                         [3, 4],\n",
        "                         [5, 6]], dtype=torch.float32)\n",
        "\n",
        "tensor_B = torch.tensor([[7, 10],\n",
        "                         [8, 11], \n",
        "                         [9, 12]], dtype=torch.float32)\n",
        "\n",
        "# torch.matmul(tensor_A, tensor_B)     # (this will error)"
      ],
      "metadata": {
        "id": "sKXHUipEKzCu"
      },
      "execution_count": 43,
      "outputs": []
    },
    {
      "cell_type": "markdown",
      "source": [
        "We can make matrix multiplication work between tensor_A and tensor_B by making their inner dimensions match.\n",
        "\n",
        "One of the ways to do this is with a transpose (switch the dimensions of a given tensor).\n",
        "\n",
        "You can perform transposes in PyTorch using either:\n",
        "\n",
        "torch.transpose(input, dim0, dim1) - where input is the desired tensor to transpose and dim0 and dim1 are the dimensions to be swapped.\n",
        "tensor.T - where tensor is the desired tensor to transpose."
      ],
      "metadata": {
        "id": "Nf-muoJQL5CX"
      }
    },
    {
      "cell_type": "code",
      "source": [
        "# View tensor_A and tensor_B\n",
        "print(tensor_A)\n",
        "print(tensor_B)"
      ],
      "metadata": {
        "id": "Fv-QqtkAMF29",
        "outputId": "96ba45c1-1c61-4764-8866-870b858bd6d5",
        "colab": {
          "base_uri": "https://localhost:8080/"
        }
      },
      "execution_count": 44,
      "outputs": [
        {
          "output_type": "stream",
          "name": "stdout",
          "text": [
            "tensor([[1., 2.],\n",
            "        [3., 4.],\n",
            "        [5., 6.]])\n",
            "tensor([[ 7., 10.],\n",
            "        [ 8., 11.],\n",
            "        [ 9., 12.]])\n"
          ]
        }
      ]
    },
    {
      "cell_type": "code",
      "source": [
        "# View tensor_A and tensor_B.T\n",
        "print(tensor_A)\n",
        "print(tensor_B.T)"
      ],
      "metadata": {
        "id": "l91t29RYRgmq",
        "outputId": "27a84064-1bd4-4d49-80e6-d60c9994344c",
        "colab": {
          "base_uri": "https://localhost:8080/"
        }
      },
      "execution_count": 45,
      "outputs": [
        {
          "output_type": "stream",
          "name": "stdout",
          "text": [
            "tensor([[1., 2.],\n",
            "        [3., 4.],\n",
            "        [5., 6.]])\n",
            "tensor([[ 7.,  8.,  9.],\n",
            "        [10., 11., 12.]])\n"
          ]
        }
      ]
    },
    {
      "cell_type": "code",
      "source": [
        "# The operation works when tensor_B is transposed\n",
        "print(f\"Original shapes: tensor_A = {tensor_A.shape}, tensor_B = {tensor_B.shape}\\n\")\n",
        "print(f\"New shapes: tensor_A = {tensor_A.shape} (same as above), tensor_B.T = {tensor_B.T.shape}\\n\")\n",
        "print(f\"Multiplying: {tensor_A.shape} * {tensor_B.T.shape} <- inner dimensions match\\n\")\n",
        "print(\"Output:\\n\")\n",
        "output = torch.matmul(tensor_A, tensor_B.T)\n",
        "print(output) \n",
        "print(f\"\\nOutput shape: {output.shape}\")"
      ],
      "metadata": {
        "id": "_uSdbruARkKy",
        "outputId": "c4745c78-6e5e-42be-f86c-649c1c9d0b9b",
        "colab": {
          "base_uri": "https://localhost:8080/"
        }
      },
      "execution_count": 46,
      "outputs": [
        {
          "output_type": "stream",
          "name": "stdout",
          "text": [
            "Original shapes: tensor_A = torch.Size([3, 2]), tensor_B = torch.Size([3, 2])\n",
            "\n",
            "New shapes: tensor_A = torch.Size([3, 2]) (same as above), tensor_B.T = torch.Size([2, 3])\n",
            "\n",
            "Multiplying: torch.Size([3, 2]) * torch.Size([2, 3]) <- inner dimensions match\n",
            "\n",
            "Output:\n",
            "\n",
            "tensor([[ 27.,  30.,  33.],\n",
            "        [ 61.,  68.,  75.],\n",
            "        [ 95., 106., 117.]])\n",
            "\n",
            "Output shape: torch.Size([3, 3])\n"
          ]
        }
      ]
    },
    {
      "cell_type": "code",
      "source": [
        "# torch.mm is a shortcut for matmul\n",
        "torch.mm(tensor_A, tensor_B.T)"
      ],
      "metadata": {
        "id": "qHmLYRHnRo6N",
        "outputId": "85a4b7ce-2dab-4a48-ff23-ada29f5e3aa1",
        "colab": {
          "base_uri": "https://localhost:8080/"
        }
      },
      "execution_count": 47,
      "outputs": [
        {
          "output_type": "execute_result",
          "data": {
            "text/plain": [
              "tensor([[ 27.,  30.,  33.],\n",
              "        [ 61.,  68.,  75.],\n",
              "        [ 95., 106., 117.]])"
            ]
          },
          "metadata": {},
          "execution_count": 47
        }
      ]
    },
    {
      "cell_type": "markdown",
      "source": [
        "we can create animation on this this multiplication ussing http://matrixmultiplication.xyz/\n",
        " \n",
        "dot product of two matrices.\n",
        "\n",
        "Neural networks are full of matrix multiplications and dot products.\n",
        "The torch.nn.Linear() module also known as a feed-forward layer or fully connected layer, implements a matrix multiplication between an input x and a weights matrix A.\n",
        "\n",
        "y\n",
        "=\n",
        "x\n",
        "⋅\n",
        "A\n",
        "T\n",
        "+\n",
        "b\n",
        "\n",
        "Where:\n",
        "\n",
        "x is the input to the layer (deep learning is a stack of layers like torch.nn.Linear() and others on top of each other).\n",
        "\n",
        "A is the weights matrix created by the layer, this starts out as random numbers that get adjusted as a neural network learns to better represent patterns in the data (notice the \"T\", that's because the weights matrix gets transposed).\n",
        "\n",
        "Note: You might also often see W or another letter like X used to showcase the weights matrix.\n",
        "\n",
        "b is the bias term used to slightly offset the weights and inputs.\n",
        "\n",
        "y is the output (a manipulation of the input in the hopes to discover patterns in it).\n",
        "\n",
        "This is a linear function and can be used to draw a straight line!"
      ],
      "metadata": {
        "id": "pEnzeWXqRwJi"
      }
    },
    {
      "cell_type": "code",
      "source": [
        "tensor_A"
      ],
      "metadata": {
        "id": "LJ6VanjfHR7k",
        "outputId": "cf6d5834-076b-4051-9ffd-430510fe2605",
        "colab": {
          "base_uri": "https://localhost:8080/"
        }
      },
      "execution_count": 48,
      "outputs": [
        {
          "output_type": "execute_result",
          "data": {
            "text/plain": [
              "tensor([[1., 2.],\n",
              "        [3., 4.],\n",
              "        [5., 6.]])"
            ]
          },
          "metadata": {},
          "execution_count": 48
        }
      ]
    },
    {
      "cell_type": "code",
      "source": [
        "# Since the linear layer starts with a random weights matrix, let's make it reproducible (more on this later)\n",
        "torch.manual_seed(42)\n",
        "# This uses matrix multiplication\n",
        "linear = torch.nn.Linear(in_features=1, # in_features = matches inner dimension of input \n",
        "                         out_features=6) # out_features = describes outer value \n",
        "x = tensor_A\n",
        "output = linear(x)\n",
        "print(f\"Input shape: {x.shape}\\n\")\n",
        "print(f\"Output:\\n{output}\\n\\nOutput shape: {output.shape}\")\n",
        "\n",
        "# the error explains it all what is happening"
      ],
      "metadata": {
        "id": "cXtlVLvfGb4l",
        "outputId": "dd5d956d-03f8-494b-cac2-2f3c2e4d0bdf",
        "colab": {
          "base_uri": "https://localhost:8080/",
          "height": 380
        }
      },
      "execution_count": 49,
      "outputs": [
        {
          "output_type": "error",
          "ename": "RuntimeError",
          "evalue": "ignored",
          "traceback": [
            "\u001b[0;31m---------------------------------------------------------------------------\u001b[0m",
            "\u001b[0;31mRuntimeError\u001b[0m                              Traceback (most recent call last)",
            "\u001b[0;32m<ipython-input-49-ed2777687058>\u001b[0m in \u001b[0;36m<cell line: 7>\u001b[0;34m()\u001b[0m\n\u001b[1;32m      5\u001b[0m                          out_features=6) # out_features = describes outer value \n\u001b[1;32m      6\u001b[0m \u001b[0mx\u001b[0m \u001b[0;34m=\u001b[0m \u001b[0mtensor_A\u001b[0m\u001b[0;34m\u001b[0m\u001b[0;34m\u001b[0m\u001b[0m\n\u001b[0;32m----> 7\u001b[0;31m \u001b[0moutput\u001b[0m \u001b[0;34m=\u001b[0m \u001b[0mlinear\u001b[0m\u001b[0;34m(\u001b[0m\u001b[0mx\u001b[0m\u001b[0;34m)\u001b[0m\u001b[0;34m\u001b[0m\u001b[0;34m\u001b[0m\u001b[0m\n\u001b[0m\u001b[1;32m      8\u001b[0m \u001b[0mprint\u001b[0m\u001b[0;34m(\u001b[0m\u001b[0;34mf\"Input shape: {x.shape}\\n\"\u001b[0m\u001b[0;34m)\u001b[0m\u001b[0;34m\u001b[0m\u001b[0;34m\u001b[0m\u001b[0m\n\u001b[1;32m      9\u001b[0m \u001b[0mprint\u001b[0m\u001b[0;34m(\u001b[0m\u001b[0;34mf\"Output:\\n{output}\\n\\nOutput shape: {output.shape}\"\u001b[0m\u001b[0;34m)\u001b[0m\u001b[0;34m\u001b[0m\u001b[0;34m\u001b[0m\u001b[0m\n",
            "\u001b[0;32m/usr/local/lib/python3.9/dist-packages/torch/nn/modules/module.py\u001b[0m in \u001b[0;36m_call_impl\u001b[0;34m(self, *args, **kwargs)\u001b[0m\n\u001b[1;32m   1499\u001b[0m                 \u001b[0;32mor\u001b[0m \u001b[0m_global_backward_pre_hooks\u001b[0m \u001b[0;32mor\u001b[0m \u001b[0m_global_backward_hooks\u001b[0m\u001b[0;34m\u001b[0m\u001b[0;34m\u001b[0m\u001b[0m\n\u001b[1;32m   1500\u001b[0m                 or _global_forward_hooks or _global_forward_pre_hooks):\n\u001b[0;32m-> 1501\u001b[0;31m             \u001b[0;32mreturn\u001b[0m \u001b[0mforward_call\u001b[0m\u001b[0;34m(\u001b[0m\u001b[0;34m*\u001b[0m\u001b[0margs\u001b[0m\u001b[0;34m,\u001b[0m \u001b[0;34m**\u001b[0m\u001b[0mkwargs\u001b[0m\u001b[0;34m)\u001b[0m\u001b[0;34m\u001b[0m\u001b[0;34m\u001b[0m\u001b[0m\n\u001b[0m\u001b[1;32m   1502\u001b[0m         \u001b[0;31m# Do not call functions when jit is used\u001b[0m\u001b[0;34m\u001b[0m\u001b[0;34m\u001b[0m\u001b[0m\n\u001b[1;32m   1503\u001b[0m         \u001b[0mfull_backward_hooks\u001b[0m\u001b[0;34m,\u001b[0m \u001b[0mnon_full_backward_hooks\u001b[0m \u001b[0;34m=\u001b[0m \u001b[0;34m[\u001b[0m\u001b[0;34m]\u001b[0m\u001b[0;34m,\u001b[0m \u001b[0;34m[\u001b[0m\u001b[0;34m]\u001b[0m\u001b[0;34m\u001b[0m\u001b[0;34m\u001b[0m\u001b[0m\n",
            "\u001b[0;32m/usr/local/lib/python3.9/dist-packages/torch/nn/modules/linear.py\u001b[0m in \u001b[0;36mforward\u001b[0;34m(self, input)\u001b[0m\n\u001b[1;32m    112\u001b[0m \u001b[0;34m\u001b[0m\u001b[0m\n\u001b[1;32m    113\u001b[0m     \u001b[0;32mdef\u001b[0m \u001b[0mforward\u001b[0m\u001b[0;34m(\u001b[0m\u001b[0mself\u001b[0m\u001b[0;34m,\u001b[0m \u001b[0minput\u001b[0m\u001b[0;34m:\u001b[0m \u001b[0mTensor\u001b[0m\u001b[0;34m)\u001b[0m \u001b[0;34m->\u001b[0m \u001b[0mTensor\u001b[0m\u001b[0;34m:\u001b[0m\u001b[0;34m\u001b[0m\u001b[0;34m\u001b[0m\u001b[0m\n\u001b[0;32m--> 114\u001b[0;31m         \u001b[0;32mreturn\u001b[0m \u001b[0mF\u001b[0m\u001b[0;34m.\u001b[0m\u001b[0mlinear\u001b[0m\u001b[0;34m(\u001b[0m\u001b[0minput\u001b[0m\u001b[0;34m,\u001b[0m \u001b[0mself\u001b[0m\u001b[0;34m.\u001b[0m\u001b[0mweight\u001b[0m\u001b[0;34m,\u001b[0m \u001b[0mself\u001b[0m\u001b[0;34m.\u001b[0m\u001b[0mbias\u001b[0m\u001b[0;34m)\u001b[0m\u001b[0;34m\u001b[0m\u001b[0;34m\u001b[0m\u001b[0m\n\u001b[0m\u001b[1;32m    115\u001b[0m \u001b[0;34m\u001b[0m\u001b[0m\n\u001b[1;32m    116\u001b[0m     \u001b[0;32mdef\u001b[0m \u001b[0mextra_repr\u001b[0m\u001b[0;34m(\u001b[0m\u001b[0mself\u001b[0m\u001b[0;34m)\u001b[0m \u001b[0;34m->\u001b[0m \u001b[0mstr\u001b[0m\u001b[0;34m:\u001b[0m\u001b[0;34m\u001b[0m\u001b[0;34m\u001b[0m\u001b[0m\n",
            "\u001b[0;31mRuntimeError\u001b[0m: mat1 and mat2 shapes cannot be multiplied (3x2 and 1x6)"
          ]
        }
      ]
    },
    {
      "cell_type": "code",
      "source": [
        "# Since the linear layer starts with a random weights matrix, let's make it reproducible (more on this later)\n",
        "torch.manual_seed(42)\n",
        "# This uses matrix multiplication\n",
        "linear = torch.nn.Linear(in_features=2, # in_features = matches inner dimension of input \n",
        "                         out_features=6) # out_features = describes outer value \n",
        "x = tensor_A\n",
        "output = linear(x)\n",
        "print(f\"Input shape: {x.shape}\\n\")\n",
        "print(f\"Output:\\n{output}\\n\\nOutput shape: {output.shape}\")"
      ],
      "metadata": {
        "id": "vVjNGR2fHIv_",
        "outputId": "27b8f360-a9b1-473b-9855-67d63e2766ef",
        "colab": {
          "base_uri": "https://localhost:8080/"
        }
      },
      "execution_count": 50,
      "outputs": [
        {
          "output_type": "stream",
          "name": "stdout",
          "text": [
            "Input shape: torch.Size([3, 2])\n",
            "\n",
            "Output:\n",
            "tensor([[2.2368, 1.2292, 0.4714, 0.3864, 0.1309, 0.9838],\n",
            "        [4.4919, 2.1970, 0.4469, 0.5285, 0.3401, 2.4777],\n",
            "        [6.7469, 3.1648, 0.4224, 0.6705, 0.5493, 3.9716]],\n",
            "       grad_fn=<AddmmBackward0>)\n",
            "\n",
            "Output shape: torch.Size([3, 6])\n"
          ]
        }
      ]
    },
    {
      "cell_type": "markdown",
      "source": [
        "Finding the min, max, mean, sum, etc (aggregation)\n",
        "Now we've seen a few ways to manipulate tensors, let's run through a few ways to aggregate them (go from more values to less values).\n",
        "\n",
        "First we'll create a tensor and then find the max, min, mean and sum of it."
      ],
      "metadata": {
        "id": "fFp4-pvgHo1a"
      }
    },
    {
      "cell_type": "code",
      "source": [
        "x = torch.arange(0,10)\n",
        "x"
      ],
      "metadata": {
        "id": "r1sXhw6bIUk5",
        "outputId": "4af7bc3e-1777-4e22-a382-6a8101894f52",
        "colab": {
          "base_uri": "https://localhost:8080/"
        }
      },
      "execution_count": 51,
      "outputs": [
        {
          "output_type": "execute_result",
          "data": {
            "text/plain": [
              "tensor([0, 1, 2, 3, 4, 5, 6, 7, 8, 9])"
            ]
          },
          "metadata": {},
          "execution_count": 51
        }
      ]
    },
    {
      "cell_type": "code",
      "source": [
        "print(f\"Minimum: {x.min()}\")\n",
        "print(f\"Maximum: {x.max()}\")\n",
        "# print(f\"Mean: {x.mean()}\") # this will error\n",
        "print(f\"Mean: {x.type(torch.float32).mean()}\") # won't work without float datatype\n",
        "print(f\"Sum: {x.sum()}\")"
      ],
      "metadata": {
        "id": "SrI8w-7hIp1o",
        "outputId": "6c3efe8d-dca5-4986-86d3-1d118dc3cd7d",
        "colab": {
          "base_uri": "https://localhost:8080/"
        }
      },
      "execution_count": 52,
      "outputs": [
        {
          "output_type": "stream",
          "name": "stdout",
          "text": [
            "Minimum: 0\n",
            "Maximum: 9\n",
            "Mean: 4.5\n",
            "Sum: 45\n"
          ]
        }
      ]
    },
    {
      "cell_type": "markdown",
      "source": [
        "# Note: You may find some methods such as torch.mean() require tensors to be in torch.float32 (the most common) or another specific datatype, otherwise the operation will fail."
      ],
      "metadata": {
        "id": "oqsGXOnDIrl1"
      }
    },
    {
      "cell_type": "code",
      "source": [
        "torch.max(x), torch.min(x), torch.mean(x.type(torch.float32)), torch.sum(x)"
      ],
      "metadata": {
        "id": "s1nXnJ7BI0xl",
        "outputId": "d5817324-8532-4232-cac1-c78e565b65a8",
        "colab": {
          "base_uri": "https://localhost:8080/"
        }
      },
      "execution_count": 53,
      "outputs": [
        {
          "output_type": "execute_result",
          "data": {
            "text/plain": [
              "(tensor(9), tensor(0), tensor(4.5000), tensor(45))"
            ]
          },
          "metadata": {},
          "execution_count": 53
        }
      ]
    },
    {
      "cell_type": "markdown",
      "source": [
        "\n",
        "# Positional min/max\n",
        "You can also find the index of a tensor where the max or minimum occurs with torch.argmax() and torch.argmin() respectively.\n",
        "\n",
        "This is helpful incase you just want the position where the highest (or lowest) value is and not the actual value itself (we'll see this in a later section when using the softmax activation function).\n",
        "https://pytorch.org/docs/stable/generated/torch.nn.Softmax.html"
      ],
      "metadata": {
        "id": "MdhZszXPI51E"
      }
    },
    {
      "cell_type": "code",
      "source": [
        "# Create a tensor\n",
        "tensor = torch.arange(10, 100, 10)\n",
        "print(f\"Tensor: {tensor}\")\n",
        "\n",
        "# Returns index of max and min values\n",
        "print(f\"Index where max value occurs: {tensor.argmax()}\")\n",
        "print(f\"Index where min value occurs: {tensor.argmin()}\")"
      ],
      "metadata": {
        "id": "aB-6RqA_JUcG",
        "outputId": "7cf8f1c5-f742-4b80-d364-96f6d5596b83",
        "colab": {
          "base_uri": "https://localhost:8080/"
        }
      },
      "execution_count": 54,
      "outputs": [
        {
          "output_type": "stream",
          "name": "stdout",
          "text": [
            "Tensor: tensor([10, 20, 30, 40, 50, 60, 70, 80, 90])\n",
            "Index where max value occurs: 8\n",
            "Index where min value occurs: 0\n"
          ]
        }
      ]
    },
    {
      "cell_type": "markdown",
      "source": [
        "\n",
        "# Change tensor datatype\n",
        "As mentioned, a common issue with deep learning operations is having your tensors in different datatypes.\n",
        "\n",
        "If one tensor is in torch.float64 and another is in torch.float32, you might run into some errors.\n",
        "\n",
        "But there's a fix.\n",
        "\n",
        "You can change the datatypes of tensors using torch.Tensor.type(dtype=None) where the dtype parameter is the datatype you'd like to use.\n",
        "\n",
        "First we'll create a tensor and check it's datatype (the default is torch.float32)."
      ],
      "metadata": {
        "id": "7Ia09OCFJpEF"
      }
    },
    {
      "cell_type": "code",
      "source": [
        "tensor = torch.arange(10., 100., 10.)\n",
        "tensor.dtype"
      ],
      "metadata": {
        "id": "aWelNmONKP3-",
        "outputId": "1d5c78c2-c608-4fdd-e429-f0f0c09c3df9",
        "colab": {
          "base_uri": "https://localhost:8080/"
        }
      },
      "execution_count": 55,
      "outputs": [
        {
          "output_type": "execute_result",
          "data": {
            "text/plain": [
              "torch.float32"
            ]
          },
          "metadata": {},
          "execution_count": 55
        }
      ]
    },
    {
      "cell_type": "code",
      "source": [
        "tensor = tensor.type(torch.float16)\n",
        "tensor.dtype"
      ],
      "metadata": {
        "id": "WRkGPkPbKUPX",
        "outputId": "56624c5a-853e-49d4-b046-3b2c881201e9",
        "colab": {
          "base_uri": "https://localhost:8080/"
        }
      },
      "execution_count": 56,
      "outputs": [
        {
          "output_type": "execute_result",
          "data": {
            "text/plain": [
              "torch.float16"
            ]
          },
          "metadata": {},
          "execution_count": 56
        }
      ]
    },
    {
      "cell_type": "markdown",
      "source": [
        "Note: Different datatypes can be confusing to begin with. But think of it like this, the lower the number (e.g. 32, 16, 8), the less precise a computer stores the value. And with a lower amount of storage, this generally results in faster computation and a smaller overall model. Mobile-based neural networks often operate with 8-bit integers, smaller and faster to run but less accurate than their float32 counterparts. For more on this, I'd read up about precision in computing."
      ],
      "metadata": {
        "id": "upPRtvo2KteB"
      }
    },
    {
      "cell_type": "markdown",
      "source": [
        "# Reshaping, stacking, squeezing and unsqueezing"
      ],
      "metadata": {
        "id": "vT3MMRYWLDkH"
      }
    },
    {
      "cell_type": "code",
      "source": [
        "# creating a matrix \n",
        "tensor = torch.arange(1,11)\n",
        "tensor"
      ],
      "metadata": {
        "id": "4F3qlzWrMmWw",
        "outputId": "d68ac9ef-b201-43a1-d7d9-ecdf89af0c8f",
        "colab": {
          "base_uri": "https://localhost:8080/"
        }
      },
      "execution_count": 57,
      "outputs": [
        {
          "output_type": "execute_result",
          "data": {
            "text/plain": [
              "tensor([ 1,  2,  3,  4,  5,  6,  7,  8,  9, 10])"
            ]
          },
          "metadata": {},
          "execution_count": 57
        }
      ]
    },
    {
      "cell_type": "code",
      "source": [
        "tensor.shape,tensor.dtype"
      ],
      "metadata": {
        "id": "6jzT_jbMSvLX",
        "outputId": "55bd2b0c-92e7-4208-ba4d-2e552d73571c",
        "colab": {
          "base_uri": "https://localhost:8080/"
        }
      },
      "execution_count": 58,
      "outputs": [
        {
          "output_type": "execute_result",
          "data": {
            "text/plain": [
              "(torch.Size([10]), torch.int64)"
            ]
          },
          "metadata": {},
          "execution_count": 58
        }
      ]
    },
    {
      "cell_type": "code",
      "source": [
        "tensor.reshape(2,5)"
      ],
      "metadata": {
        "id": "tag-abPeS9Nz",
        "outputId": "663935a6-cb59-4daa-a287-13b27ded23de",
        "colab": {
          "base_uri": "https://localhost:8080/"
        }
      },
      "execution_count": 59,
      "outputs": [
        {
          "output_type": "execute_result",
          "data": {
            "text/plain": [
              "tensor([[ 1,  2,  3,  4,  5],\n",
              "        [ 6,  7,  8,  9, 10]])"
            ]
          },
          "metadata": {},
          "execution_count": 59
        }
      ]
    },
    {
      "cell_type": "code",
      "source": [
        "tensor.shape\n",
        "# it doesnt chages the real one shape"
      ],
      "metadata": {
        "id": "vr_pqDekTEFM",
        "outputId": "7ab4337b-7f94-4e78-d8ff-80632ce05ee9",
        "colab": {
          "base_uri": "https://localhost:8080/"
        }
      },
      "execution_count": 60,
      "outputs": [
        {
          "output_type": "execute_result",
          "data": {
            "text/plain": [
              "torch.Size([10])"
            ]
          },
          "metadata": {},
          "execution_count": 60
        }
      ]
    },
    {
      "cell_type": "code",
      "source": [
        "# USing the view function\n",
        "# Change view (keeps same data as original but changes view)\n",
        "# See more: https://stackoverflow.com/a/54507446/7900723 \n",
        "tensor.view(5,2) , tensor.shape"
      ],
      "metadata": {
        "id": "o8mDRnccTHjq",
        "outputId": "f6a43788-4b3a-4a14-b0e9-6f105a550be2",
        "colab": {
          "base_uri": "https://localhost:8080/"
        }
      },
      "execution_count": 61,
      "outputs": [
        {
          "output_type": "execute_result",
          "data": {
            "text/plain": [
              "(tensor([[ 1,  2],\n",
              "         [ 3,  4],\n",
              "         [ 5,  6],\n",
              "         [ 7,  8],\n",
              "         [ 9, 10]]),\n",
              " torch.Size([10]))"
            ]
          },
          "metadata": {},
          "execution_count": 61
        }
      ]
    },
    {
      "cell_type": "code",
      "source": [
        "z = tensor.view(5,2)\n",
        "z , z.shape"
      ],
      "metadata": {
        "id": "TBOYqiPiUUGk",
        "outputId": "a754721c-eecd-40b8-9820-6ac55c3a188c",
        "colab": {
          "base_uri": "https://localhost:8080/"
        }
      },
      "execution_count": 62,
      "outputs": [
        {
          "output_type": "execute_result",
          "data": {
            "text/plain": [
              "(tensor([[ 1,  2],\n",
              "         [ 3,  4],\n",
              "         [ 5,  6],\n",
              "         [ 7,  8],\n",
              "         [ 9, 10]]),\n",
              " torch.Size([5, 2]))"
            ]
          },
          "metadata": {},
          "execution_count": 62
        }
      ]
    },
    {
      "cell_type": "markdown",
      "source": [
        "### Remember though, changing the view of a tensor with torch.view() really only creates a new view of the same tensor.\n",
        "\n",
        "So changing the view changes the original tensor too."
      ],
      "metadata": {
        "id": "DoESzOQtUu9Z"
      }
    },
    {
      "cell_type": "code",
      "source": [
        "z[0,:] = 10\n",
        "z , tensor"
      ],
      "metadata": {
        "id": "EWncu2ZYU3UC",
        "outputId": "80c91bea-257b-4edc-fddc-aa82b96a700c",
        "colab": {
          "base_uri": "https://localhost:8080/"
        }
      },
      "execution_count": 63,
      "outputs": [
        {
          "output_type": "execute_result",
          "data": {
            "text/plain": [
              "(tensor([[10, 10],\n",
              "         [ 3,  4],\n",
              "         [ 5,  6],\n",
              "         [ 7,  8],\n",
              "         [ 9, 10]]),\n",
              " tensor([10, 10,  3,  4,  5,  6,  7,  8,  9, 10]))"
            ]
          },
          "metadata": {},
          "execution_count": 63
        }
      ]
    },
    {
      "cell_type": "markdown",
      "source": [
        "### Here we can see the same goes for the reshape method"
      ],
      "metadata": {
        "id": "1dip9OjrVxK1"
      }
    },
    {
      "cell_type": "code",
      "source": [
        "reshaped  = tensor.reshape(2,5)\n",
        "reshaped , reshaped.shape"
      ],
      "metadata": {
        "id": "nhuIYRMEVLNt",
        "outputId": "07d799ff-e8a8-43b0-d2dc-1e6af53bca88",
        "colab": {
          "base_uri": "https://localhost:8080/"
        }
      },
      "execution_count": 64,
      "outputs": [
        {
          "output_type": "execute_result",
          "data": {
            "text/plain": [
              "(tensor([[10, 10,  3,  4,  5],\n",
              "         [ 6,  7,  8,  9, 10]]),\n",
              " torch.Size([2, 5]))"
            ]
          },
          "metadata": {},
          "execution_count": 64
        }
      ]
    },
    {
      "cell_type": "code",
      "source": [
        "reshaped[0,0] = 1\n",
        "reshaped[0,1] = 2\n",
        "reshaped , tensor"
      ],
      "metadata": {
        "id": "lu1zW6oxVf0a",
        "outputId": "f20102ee-d6a9-4f3b-d2a8-5beb7aa74722",
        "colab": {
          "base_uri": "https://localhost:8080/"
        }
      },
      "execution_count": 65,
      "outputs": [
        {
          "output_type": "execute_result",
          "data": {
            "text/plain": [
              "(tensor([[ 1,  2,  3,  4,  5],\n",
              "         [ 6,  7,  8,  9, 10]]),\n",
              " tensor([ 1,  2,  3,  4,  5,  6,  7,  8,  9, 10]))"
            ]
          },
          "metadata": {},
          "execution_count": 65
        }
      ]
    },
    {
      "cell_type": "markdown",
      "source": [
        "# Stack"
      ],
      "metadata": {
        "id": "T097IGRjW1NY"
      }
    },
    {
      "cell_type": "markdown",
      "source": [
        "If we wanted to stack our new tensor on top of itself five times, we could do so with `torch.stack()`."
      ],
      "metadata": {
        "id": "_Xejz_WbVvTm"
      }
    },
    {
      "cell_type": "markdown",
      "source": [
        "dim (int) – dimension to insert. Has to be between 0 and the number of dimensions of concatenated tensors (inclusive)"
      ],
      "metadata": {
        "id": "tCPH_MQOW6Nm"
      }
    },
    {
      "cell_type": "code",
      "source": [
        "# Stack tensors on top of each other\n",
        "x_stacked = torch.stack([x, x, x, x], dim=0)\n",
        "# this is vertical \n",
        "x_stacked"
      ],
      "metadata": {
        "id": "3x5_mNfVWFIl",
        "outputId": "f4f2be9a-4000-4a11-ad52-0e7cb7ff574f",
        "colab": {
          "base_uri": "https://localhost:8080/"
        }
      },
      "execution_count": 66,
      "outputs": [
        {
          "output_type": "execute_result",
          "data": {
            "text/plain": [
              "tensor([[0, 1, 2, 3, 4, 5, 6, 7, 8, 9],\n",
              "        [0, 1, 2, 3, 4, 5, 6, 7, 8, 9],\n",
              "        [0, 1, 2, 3, 4, 5, 6, 7, 8, 9],\n",
              "        [0, 1, 2, 3, 4, 5, 6, 7, 8, 9]])"
            ]
          },
          "metadata": {},
          "execution_count": 66
        }
      ]
    },
    {
      "cell_type": "code",
      "source": [
        "# Stack tensors on top of each other\n",
        "x_stacked = torch.stack([x, x, x, x], dim=1) \n",
        "# this is horizontal after transposing\n",
        "x_stacked"
      ],
      "metadata": {
        "id": "hsxPjTESWJiR",
        "outputId": "12675125-cf2f-4384-c203-e4054b649d7a",
        "colab": {
          "base_uri": "https://localhost:8080/"
        }
      },
      "execution_count": 67,
      "outputs": [
        {
          "output_type": "execute_result",
          "data": {
            "text/plain": [
              "tensor([[0, 0, 0, 0],\n",
              "        [1, 1, 1, 1],\n",
              "        [2, 2, 2, 2],\n",
              "        [3, 3, 3, 3],\n",
              "        [4, 4, 4, 4],\n",
              "        [5, 5, 5, 5],\n",
              "        [6, 6, 6, 6],\n",
              "        [7, 7, 7, 7],\n",
              "        [8, 8, 8, 8],\n",
              "        [9, 9, 9, 9]])"
            ]
          },
          "metadata": {},
          "execution_count": 67
        }
      ]
    },
    {
      "cell_type": "code",
      "source": [
        "x_stack = torch.stack([x,x,x,x],dim=-2)\n",
        "x_stack"
      ],
      "metadata": {
        "id": "xwh8dRN0WUNn",
        "outputId": "48bceb3a-70a7-44b0-9a32-046aa0343e43",
        "colab": {
          "base_uri": "https://localhost:8080/"
        }
      },
      "execution_count": 68,
      "outputs": [
        {
          "output_type": "execute_result",
          "data": {
            "text/plain": [
              "tensor([[0, 1, 2, 3, 4, 5, 6, 7, 8, 9],\n",
              "        [0, 1, 2, 3, 4, 5, 6, 7, 8, 9],\n",
              "        [0, 1, 2, 3, 4, 5, 6, 7, 8, 9],\n",
              "        [0, 1, 2, 3, 4, 5, 6, 7, 8, 9]])"
            ]
          },
          "metadata": {},
          "execution_count": 68
        }
      ]
    },
    {
      "cell_type": "code",
      "source": [
        "x_stack = torch.stack([x,x,x,x],dim=-1)\n",
        "x_stack"
      ],
      "metadata": {
        "id": "hRm3wewzXTzD",
        "outputId": "ada27640-afb0-42cf-faa2-ea1124b02e33",
        "colab": {
          "base_uri": "https://localhost:8080/"
        }
      },
      "execution_count": 69,
      "outputs": [
        {
          "output_type": "execute_result",
          "data": {
            "text/plain": [
              "tensor([[0, 0, 0, 0],\n",
              "        [1, 1, 1, 1],\n",
              "        [2, 2, 2, 2],\n",
              "        [3, 3, 3, 3],\n",
              "        [4, 4, 4, 4],\n",
              "        [5, 5, 5, 5],\n",
              "        [6, 6, 6, 6],\n",
              "        [7, 7, 7, 7],\n",
              "        [8, 8, 8, 8],\n",
              "        [9, 9, 9, 9]])"
            ]
          },
          "metadata": {},
          "execution_count": 69
        }
      ]
    },
    {
      "cell_type": "markdown",
      "source": [
        "# Squeezing\n",
        "How about removing all single dimensions from a tensor?\n",
        "\n",
        "To do so you can use torch.squeeze()"
      ],
      "metadata": {
        "id": "X2x52fQlX7cw"
      }
    },
    {
      "cell_type": "code",
      "source": [
        "print(f\"Previous tensor: \\n{reshaped}\")\n",
        "print(f\"Previous shape: {reshaped.shape}\")\n",
        "\n",
        "# Remove extra dimension from x_reshaped\n",
        "x_squeezed = reshaped.squeeze()\n",
        "print(f\"\\nNew tensor: \\n{x_squeezed}\")\n",
        "print(f\"New shape: {x_squeezed.shape}\")"
      ],
      "metadata": {
        "id": "cGzHsraAYrDt",
        "outputId": "a505d91e-2a53-4088-fe3a-f2893d26a36c",
        "colab": {
          "base_uri": "https://localhost:8080/"
        }
      },
      "execution_count": 71,
      "outputs": [
        {
          "output_type": "stream",
          "name": "stdout",
          "text": [
            "Previous tensor: \n",
            "tensor([[ 1,  2,  3,  4,  5],\n",
            "        [ 6,  7,  8,  9, 10]])\n",
            "Previous shape: torch.Size([2, 5])\n",
            "\n",
            "New tensor: \n",
            "tensor([[ 1,  2,  3,  4,  5],\n",
            "        [ 6,  7,  8,  9, 10]])\n",
            "New shape: torch.Size([2, 5])\n"
          ]
        }
      ]
    },
    {
      "cell_type": "markdown",
      "source": [
        "##### # We can see this dont work on the 2d tensor"
      ],
      "metadata": {
        "id": "IEm1ACdtYvCK"
      }
    },
    {
      "cell_type": "code",
      "source": [
        "x = torch.arange(1,11)\n",
        "print(f\"Previous tensor: {x}\")\n",
        "x = x.reshape(1,10)\n",
        "print(f\"Previous shape: {x.shape}\")\n",
        "\n",
        "# Remove extra dimension from x_reshaped\n",
        "x_squeezed = x.squeeze()\n",
        "print(f\"\\nNew tensor: {x_squeezed}\")\n",
        "print(f\"New shape: {x_squeezed.shape}\")"
      ],
      "metadata": {
        "id": "dQuYTFHPZqVm",
        "outputId": "cd3c4e9b-ea50-48ab-8758-20c0b89dcbab",
        "colab": {
          "base_uri": "https://localhost:8080/"
        }
      },
      "execution_count": 72,
      "outputs": [
        {
          "output_type": "stream",
          "name": "stdout",
          "text": [
            "Previous tensor: tensor([ 1,  2,  3,  4,  5,  6,  7,  8,  9, 10])\n",
            "Previous shape: torch.Size([1, 10])\n",
            "\n",
            "New tensor: tensor([ 1,  2,  3,  4,  5,  6,  7,  8,  9, 10])\n",
            "New shape: torch.Size([10])\n"
          ]
        }
      ]
    },
    {
      "cell_type": "markdown",
      "source": [
        "\n",
        "And to do the reverse of `torch.squeeze()` you can use `torch.unsqueeze()` to add a dimension value of 1 at a specific index."
      ],
      "metadata": {
        "id": "t8j0ixIZZ3gS"
      }
    },
    {
      "cell_type": "code",
      "source": [
        "print(f\"Previous tensor: {x_squeezed}\")\n",
        "print(f\"Previous shape: {x_squeezed.shape}\")\n",
        "\n",
        "## Add an extra dimension with unsqueeze\n",
        "x_unsqueezed = x_squeezed.unsqueeze(dim=0)\n",
        "print(f\"\\nNew tensor: {x_unsqueezed}\")\n",
        "print(f\"New shape: {x_unsqueezed.shape}\")"
      ],
      "metadata": {
        "id": "uUaJtDASVbqG",
        "outputId": "fd352ba8-b596-4dbe-9ac0-a622157b6f2e",
        "colab": {
          "base_uri": "https://localhost:8080/"
        }
      },
      "execution_count": 73,
      "outputs": [
        {
          "output_type": "stream",
          "name": "stdout",
          "text": [
            "Previous tensor: tensor([ 1,  2,  3,  4,  5,  6,  7,  8,  9, 10])\n",
            "Previous shape: torch.Size([10])\n",
            "\n",
            "New tensor: tensor([[ 1,  2,  3,  4,  5,  6,  7,  8,  9, 10]])\n",
            "New shape: torch.Size([1, 10])\n"
          ]
        }
      ]
    },
    {
      "cell_type": "markdown",
      "source": [
        "\n",
        "You can also rearrange the order of axes values with torch.permute(input, dims), where the input gets turned into a view with new dims."
      ],
      "metadata": {
        "id": "Qvx61v_FVjFT"
      }
    },
    {
      "cell_type": "code",
      "source": [
        "# Create tensor with specific shape\n",
        "x_original = torch.rand(size=(224, 224, 3))\n",
        "# Permute the original tensor to rearrange the axis order\n",
        "x_permuted = x_original.permute(2, 0, 1) # shifts axis 0->1, 1->2, 2->0\n",
        "\n",
        "print(f\"Previous shape: {x_original.shape}\")\n",
        "print(f\"New shape: {x_permuted.shape}\")"
      ],
      "metadata": {
        "id": "Yc48wIdxV60B",
        "outputId": "2c7f9f2a-adc8-437c-fac1-b37e2af68d27",
        "colab": {
          "base_uri": "https://localhost:8080/"
        }
      },
      "execution_count": 79,
      "outputs": [
        {
          "output_type": "stream",
          "name": "stdout",
          "text": [
            "\n",
            "\n",
            "torch.Size([224, 224, 3])\n",
            "\n",
            "\n",
            "Previous shape: torch.Size([224, 224, 3])\n",
            "New shape: torch.Size([3, 224, 224])\n"
          ]
        }
      ]
    },
    {
      "cell_type": "code",
      "source": [
        "x_original[0].shape"
      ],
      "metadata": {
        "id": "4ajo6DpeV9hF",
        "outputId": "cb90b1bd-ca35-4031-b0ae-f9aedb4275cf",
        "colab": {
          "base_uri": "https://localhost:8080/"
        }
      },
      "execution_count": 83,
      "outputs": [
        {
          "output_type": "execute_result",
          "data": {
            "text/plain": [
              "torch.Size([224, 3])"
            ]
          },
          "metadata": {},
          "execution_count": 83
        }
      ]
    },
    {
      "cell_type": "markdown",
      "source": [
        "`Note:` Because permuting returns a view (shares the same data as the original), the values in the permuted tensor will be the same as the original tensor and if you change the values in the view, it will change the values of the original."
      ],
      "metadata": {
        "id": "4fBSgAfUWNN2"
      }
    },
    {
      "cell_type": "markdown",
      "source": [
        "# Indexing (selecting data from tensors)\n",
        "Sometimes you'll want to select specific data from tensors (for example, only the first column or second row).\n",
        "\n",
        "To do so, you can use indexing."
      ],
      "metadata": {
        "id": "dlc726JsW2O6"
      }
    },
    {
      "cell_type": "code",
      "source": [
        "x = torch.arange(1, 19).reshape(2, 3, 3)\n",
        "x, x.shape"
      ],
      "metadata": {
        "id": "rbVjyGDaXC4r",
        "outputId": "b7217d5f-9311-48a9-97da-15b0e7d3a11f",
        "colab": {
          "base_uri": "https://localhost:8080/"
        }
      },
      "execution_count": 87,
      "outputs": [
        {
          "output_type": "execute_result",
          "data": {
            "text/plain": [
              "(tensor([[[ 1,  2,  3],\n",
              "          [ 4,  5,  6],\n",
              "          [ 7,  8,  9]],\n",
              " \n",
              "         [[10, 11, 12],\n",
              "          [13, 14, 15],\n",
              "          [16, 17, 18]]]),\n",
              " torch.Size([2, 3, 3]))"
            ]
          },
          "metadata": {},
          "execution_count": 87
        }
      ]
    },
    {
      "cell_type": "markdown",
      "source": [
        "Indexing values goes outer dimension -> inner dimension (check out the square brackets)."
      ],
      "metadata": {
        "id": "XD6tWV8HXGaw"
      }
    },
    {
      "cell_type": "code",
      "source": [
        "# Let's index bracket by bracket\n",
        "print(f\"First square bracket:\\n{x[0]}\") \n",
        "print(f\"Second square bracket: {x[0][0]}\") \n",
        "print(f\"Third square bracket: {x[0][0][0]}\")"
      ],
      "metadata": {
        "id": "irfC9asqXXgO",
        "outputId": "04a21eda-20e0-41a4-8d39-d84fce172929",
        "colab": {
          "base_uri": "https://localhost:8080/"
        }
      },
      "execution_count": 88,
      "outputs": [
        {
          "output_type": "stream",
          "name": "stdout",
          "text": [
            "First square bracket:\n",
            "tensor([[1, 2, 3],\n",
            "        [4, 5, 6],\n",
            "        [7, 8, 9]])\n",
            "Second square bracket: tensor([1, 2, 3])\n",
            "Third square bracket: 1\n"
          ]
        }
      ]
    },
    {
      "cell_type": "markdown",
      "source": [
        "\n",
        "You can also use : to specify \"all values in this dimension\" and then use a comma (,) to add another dimension."
      ],
      "metadata": {
        "id": "p3DqPE1qXa6b"
      }
    },
    {
      "cell_type": "code",
      "source": [
        "x.shape"
      ],
      "metadata": {
        "id": "eVXuMG8_YLRk",
        "outputId": "ae4f540b-8f7c-47d6-ad9a-5b1b1786d171",
        "colab": {
          "base_uri": "https://localhost:8080/"
        }
      },
      "execution_count": 90,
      "outputs": [
        {
          "output_type": "execute_result",
          "data": {
            "text/plain": [
              "torch.Size([2, 3, 3])"
            ]
          },
          "metadata": {},
          "execution_count": 90
        }
      ]
    },
    {
      "cell_type": "code",
      "source": [
        "x"
      ],
      "metadata": {
        "id": "uEi6nncvYc4a",
        "outputId": "6a0f9a52-4ec2-4715-a8b7-415a9b50d59c",
        "colab": {
          "base_uri": "https://localhost:8080/"
        }
      },
      "execution_count": 94,
      "outputs": [
        {
          "output_type": "execute_result",
          "data": {
            "text/plain": [
              "tensor([[[ 1,  2,  3],\n",
              "         [ 4,  5,  6],\n",
              "         [ 7,  8,  9]],\n",
              "\n",
              "        [[10, 11, 12],\n",
              "         [13, 14, 15],\n",
              "         [16, 17, 18]]])"
            ]
          },
          "metadata": {},
          "execution_count": 94
        }
      ]
    },
    {
      "cell_type": "code",
      "source": [
        "# Get all values of 0th dimension and the 0 index of 1st dimension\n",
        "x[:, 0, :3]"
      ],
      "metadata": {
        "id": "TBcv-rxnXxBx",
        "outputId": "1ad5c7c8-d8de-4539-c658-371a00e43e90",
        "colab": {
          "base_uri": "https://localhost:8080/"
        }
      },
      "execution_count": 93,
      "outputs": [
        {
          "output_type": "execute_result",
          "data": {
            "text/plain": [
              "tensor([[ 1,  2,  3],\n",
              "        [10, 11, 12]])"
            ]
          },
          "metadata": {},
          "execution_count": 93
        }
      ]
    },
    {
      "cell_type": "code",
      "source": [
        "# Get all values of 0th & 1st dimensions but only index 1 of 2nd dimension\n",
        "x[:, :, 1] ,  x[:, :, 1].shape"
      ],
      "metadata": {
        "id": "dSA0TGQmX0hy",
        "outputId": "39190cc0-1b47-44ca-857e-7e579b0d1ccc",
        "colab": {
          "base_uri": "https://localhost:8080/"
        }
      },
      "execution_count": 96,
      "outputs": [
        {
          "output_type": "execute_result",
          "data": {
            "text/plain": [
              "(tensor([[ 2,  5,  8],\n",
              "         [11, 14, 17]]),\n",
              " torch.Size([2, 3]))"
            ]
          },
          "metadata": {},
          "execution_count": 96
        }
      ]
    },
    {
      "cell_type": "code",
      "source": [
        "# Get all values of the 0 dimension but only the 1 index value of the 1st and 2nd dimension\n",
        "x[:, 1, 1]"
      ],
      "metadata": {
        "id": "NXkkyvu3YfkQ",
        "outputId": "81ebf6a7-7a29-4877-df91-1a1cde2beb4a",
        "colab": {
          "base_uri": "https://localhost:8080/"
        }
      },
      "execution_count": 97,
      "outputs": [
        {
          "output_type": "execute_result",
          "data": {
            "text/plain": [
              "tensor([ 5, 14])"
            ]
          },
          "metadata": {},
          "execution_count": 97
        }
      ]
    },
    {
      "cell_type": "code",
      "source": [
        "# Get index 0 of 0th and 1st dimension and all values of 2nd dimension \n",
        "x[0, 0, :]  , x[0][0]"
      ],
      "metadata": {
        "id": "l_h4ymTeZ-_c",
        "outputId": "324597b8-15fb-4874-c8db-3f0b953533de",
        "colab": {
          "base_uri": "https://localhost:8080/"
        }
      },
      "execution_count": 99,
      "outputs": [
        {
          "output_type": "execute_result",
          "data": {
            "text/plain": [
              "(tensor([1, 2, 3]), tensor([1, 2, 3]))"
            ]
          },
          "metadata": {},
          "execution_count": 99
        }
      ]
    },
    {
      "cell_type": "markdown",
      "source": [
        "# PyTorch tensors & NumPy\n",
        "Since NumPy is a popular Python numerical computing library, PyTorch has functionality to interact with it nicely.\n",
        "\n",
        "The two main methods you'll want to use for NumPy to PyTorch (and back again) are:\n",
        "\n",
        "torch.from_numpy(ndarray) - NumPy array -> PyTorch tensor.\n",
        "\n",
        "torch.Tensor.numpy() - PyTorch tensor -> NumPy array."
      ],
      "metadata": {
        "id": "J1DswuCRaD7T"
      }
    },
    {
      "cell_type": "code",
      "source": [
        "import numpy as np\n",
        "array = np.arange(1.0, 8.0)\n",
        "tensor = torch.from_numpy(array)\n",
        "array, tensor"
      ],
      "metadata": {
        "id": "6tj3l_SraeUa",
        "outputId": "f517eea7-94d0-461c-f12c-f8283bce4bf7",
        "colab": {
          "base_uri": "https://localhost:8080/"
        }
      },
      "execution_count": 100,
      "outputs": [
        {
          "output_type": "execute_result",
          "data": {
            "text/plain": [
              "(array([1., 2., 3., 4., 5., 6., 7.]),\n",
              " tensor([1., 2., 3., 4., 5., 6., 7.], dtype=torch.float64))"
            ]
          },
          "metadata": {},
          "execution_count": 100
        }
      ]
    },
    {
      "cell_type": "markdown",
      "source": [
        "`Note:` By default, NumPy arrays are created with the datatype float64 and if you convert it to a PyTorch tensor, it'll keep the same datatype (as above).\n",
        "\n",
        "However, many PyTorch calculations default to using float32.\n",
        "\n",
        "So if you want to convert your NumPy array (float64) -> PyTorch tensor (float64) -> PyTorch tensor (float32), you can use tensor = torch.from_numpy(array).type(torch.float32)."
      ],
      "metadata": {
        "id": "M-63VL3va-4d"
      }
    },
    {
      "cell_type": "code",
      "source": [],
      "metadata": {
        "id": "NPsGsR8lbOef"
      },
      "execution_count": null,
      "outputs": []
    }
  ]
}