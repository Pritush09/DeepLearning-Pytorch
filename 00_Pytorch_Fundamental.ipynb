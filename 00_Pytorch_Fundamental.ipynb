{
  "nbformat": 4,
  "nbformat_minor": 0,
  "metadata": {
    "colab": {
      "provenance": [],
      "authorship_tag": "ABX9TyNSkwKNu4KF41GNQC9K+Tyo",
      "include_colab_link": true
    },
    "kernelspec": {
      "name": "python3",
      "display_name": "Python 3"
    },
    "language_info": {
      "name": "python"
    },
    "gpuClass": "standard"
  },
  "cells": [
    {
      "cell_type": "markdown",
      "metadata": {
        "id": "view-in-github",
        "colab_type": "text"
      },
      "source": [
        "<a href=\"https://colab.research.google.com/github/Pritush09/DeepLearning-Pytorch/blob/master/00_Pytorch_Fundamental.ipynb\" target=\"_parent\"><img src=\"https://colab.research.google.com/assets/colab-badge.svg\" alt=\"Open In Colab\"/></a>"
      ]
    },
    {
      "cell_type": "code",
      "execution_count": 1,
      "metadata": {
        "colab": {
          "base_uri": "https://localhost:8080/"
        },
        "id": "sN8ftBEkCNCV",
        "outputId": "5a86569a-fd53-46fd-d273-51ada7e24d97"
      },
      "outputs": [
        {
          "output_type": "stream",
          "name": "stdout",
          "text": [
            "NVIDIA-SMI has failed because it couldn't communicate with the NVIDIA driver. Make sure that the latest NVIDIA driver is installed and running.\n",
            "\n"
          ]
        }
      ],
      "source": [
        "!nvidia-smi \n",
        "# for lookin the gpu type which we are alloted"
      ]
    },
    {
      "cell_type": "markdown",
      "source": [
        "#CUDA® is a parallel computing platform and programming model developed by NVIDIA for general computing on graphical processing units (GPUs)"
      ],
      "metadata": {
        "id": "PfUHOrnnG0_W"
      }
    },
    {
      "cell_type": "code",
      "source": [
        "import torch\n",
        "import pandas as pd\n",
        "import numpy as np\n",
        "import seaborn as sns\n",
        "import matplotlib.pyplot as plt\n",
        "%matplotlib inline"
      ],
      "metadata": {
        "id": "mE0kaQa4CeCC"
      },
      "execution_count": 2,
      "outputs": []
    },
    {
      "cell_type": "code",
      "source": [
        "print(torch.__version__)"
      ],
      "metadata": {
        "colab": {
          "base_uri": "https://localhost:8080/"
        },
        "id": "8qGeAKe6DNOD",
        "outputId": "2c9e3384-3794-4014-c4e6-f34c73fff680"
      },
      "execution_count": 3,
      "outputs": [
        {
          "output_type": "stream",
          "name": "stdout",
          "text": [
            "1.13.1+cu116\n"
          ]
        }
      ]
    },
    {
      "cell_type": "markdown",
      "source": [
        "## Introduction To **tensors**"
      ],
      "metadata": {
        "id": "xCZTXxekERML"
      }
    },
    {
      "cell_type": "markdown",
      "source": [
        "torch.tensor() always copies data. If you have a Tensor data and just want to change its requires_grad flag, use requires_grad_() or detach() to avoid a copy.\n",
        " If you have a numpy array and want to avoid a copy, use torch.as_tensor()."
      ],
      "metadata": {
        "id": "8nl4GsmcI2E7"
      }
    },
    {
      "cell_type": "markdown",
      "source": [
        "Random sampling creation ops are listed under Random sampling and include: \n",
        "torch.rand() torch.rand_like() torch.randn() torch.randn_like() torch.randint() torch.randint_like() torch.randperm() You may also use torch.empty() with the In-place random sampling methods to create torch.\n",
        "Tensor s with values sampled from a broader range of distributions."
      ],
      "metadata": {
        "id": "IvKmwdPMI91j"
      }
    },
    {
      "cell_type": "markdown",
      "source": [
        "tensors aare created using `torch.tensor()` link = https://pytorch.org/docs/stable/tensors.html"
      ],
      "metadata": {
        "id": "OIINfUzhJgEe"
      }
    },
    {
      "cell_type": "code",
      "source": [
        "#creating a scalars\n",
        "scalar = torch.tensor(120)\n",
        "scalar"
      ],
      "metadata": {
        "id": "gjrXTYmPFYXc",
        "outputId": "f716d55a-1ae0-4ec2-d64a-49a3755e5f37",
        "colab": {
          "base_uri": "https://localhost:8080/"
        }
      },
      "execution_count": 4,
      "outputs": [
        {
          "output_type": "execute_result",
          "data": {
            "text/plain": [
              "tensor(120)"
            ]
          },
          "metadata": {},
          "execution_count": 4
        }
      ]
    },
    {
      "cell_type": "code",
      "source": [
        "scalar.ndim #Scalar doesnt have dimensions"
      ],
      "metadata": {
        "id": "3_abMVTJF_y6",
        "outputId": "749a8198-ba4e-4b6b-ce08-67e8150bdaf2",
        "colab": {
          "base_uri": "https://localhost:8080/"
        }
      },
      "execution_count": 6,
      "outputs": [
        {
          "output_type": "execute_result",
          "data": {
            "text/plain": [
              "0"
            ]
          },
          "metadata": {},
          "execution_count": 6
        }
      ]
    },
    {
      "cell_type": "code",
      "source": [
        "# get tensor back as python int\n",
        "type(scalar.item())"
      ],
      "metadata": {
        "id": "ap5rn5osKQbZ",
        "outputId": "7ae41f00-f766-4c64-fb5d-bf1ae9c156be",
        "colab": {
          "base_uri": "https://localhost:8080/"
        }
      },
      "execution_count": 10,
      "outputs": [
        {
          "output_type": "execute_result",
          "data": {
            "text/plain": [
              "int"
            ]
          },
          "metadata": {},
          "execution_count": 10
        }
      ]
    },
    {
      "cell_type": "code",
      "source": [
        "#vector \n",
        "vector = torch.tensor([2,3])\n",
        "v1 = torch.tensor([[1,2]])\n",
        "vector"
      ],
      "metadata": {
        "id": "WXQRniEZKaOX",
        "outputId": "26d78027-ec9b-42d4-fc5a-c729cc45ffa3",
        "colab": {
          "base_uri": "https://localhost:8080/"
        }
      },
      "execution_count": 13,
      "outputs": [
        {
          "output_type": "execute_result",
          "data": {
            "text/plain": [
              "tensor([2, 3])"
            ]
          },
          "metadata": {},
          "execution_count": 13
        }
      ]
    },
    {
      "cell_type": "code",
      "source": [
        "print(vector.ndim)\n",
        "print(v1.ndim)"
      ],
      "metadata": {
        "id": "3PtMWB-xK5eE",
        "outputId": "003ab411-c6e2-4bb8-ff6a-8218f4194ae5",
        "colab": {
          "base_uri": "https://localhost:8080/"
        }
      },
      "execution_count": 15,
      "outputs": [
        {
          "output_type": "stream",
          "name": "stdout",
          "text": [
            "1\n",
            "2\n"
          ]
        }
      ]
    },
    {
      "cell_type": "code",
      "source": [],
      "metadata": {
        "id": "k4xuu4SBK815"
      },
      "execution_count": null,
      "outputs": []
    }
  ]
}