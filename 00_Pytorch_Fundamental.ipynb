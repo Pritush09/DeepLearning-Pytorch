{
  "nbformat": 4,
  "nbformat_minor": 0,
  "metadata": {
    "colab": {
      "provenance": [],
      "authorship_tag": "ABX9TyNk+a0r40Z53183Jed2yx38",
      "include_colab_link": true
    },
    "kernelspec": {
      "name": "python3",
      "display_name": "Python 3"
    },
    "language_info": {
      "name": "python"
    },
    "gpuClass": "standard"
  },
  "cells": [
    {
      "cell_type": "markdown",
      "metadata": {
        "id": "view-in-github",
        "colab_type": "text"
      },
      "source": [
        "<a href=\"https://colab.research.google.com/github/Pritush09/DeepLearning-Pytorch/blob/master/00_Pytorch_Fundamental.ipynb\" target=\"_parent\"><img src=\"https://colab.research.google.com/assets/colab-badge.svg\" alt=\"Open In Colab\"/></a>"
      ]
    },
    {
      "cell_type": "code",
      "execution_count": 2,
      "metadata": {
        "colab": {
          "base_uri": "https://localhost:8080/"
        },
        "id": "sN8ftBEkCNCV",
        "outputId": "4c53b8b3-a581-418f-de61-177256fa0e68"
      },
      "outputs": [
        {
          "output_type": "stream",
          "name": "stdout",
          "text": [
            "NVIDIA-SMI has failed because it couldn't communicate with the NVIDIA driver. Make sure that the latest NVIDIA driver is installed and running.\n",
            "\n"
          ]
        }
      ],
      "source": [
        "!nvidia-smi \n",
        "# for lookin the gpu type which we are alloted"
      ]
    },
    {
      "cell_type": "markdown",
      "source": [
        "#CUDA® is a parallel computing platform and programming model developed by NVIDIA for general computing on graphical processing units (GPUs)"
      ],
      "metadata": {
        "id": "PfUHOrnnG0_W"
      }
    },
    {
      "cell_type": "code",
      "source": [
        "import torch\n",
        "import pandas as pd\n",
        "import numpy as np\n",
        "import seaborn as sns\n",
        "import matplotlib.pyplot as plt\n",
        "%matplotlib inline"
      ],
      "metadata": {
        "id": "mE0kaQa4CeCC"
      },
      "execution_count": 3,
      "outputs": []
    },
    {
      "cell_type": "code",
      "source": [
        "print(torch.__version__)"
      ],
      "metadata": {
        "colab": {
          "base_uri": "https://localhost:8080/"
        },
        "id": "8qGeAKe6DNOD",
        "outputId": "0e132ada-9f44-4ae3-f36b-5b5f6b00a402"
      },
      "execution_count": 4,
      "outputs": [
        {
          "output_type": "stream",
          "name": "stdout",
          "text": [
            "2.0.0+cu118\n"
          ]
        }
      ]
    },
    {
      "cell_type": "markdown",
      "source": [
        "## Introduction To **tensors**"
      ],
      "metadata": {
        "id": "xCZTXxekERML"
      }
    },
    {
      "cell_type": "markdown",
      "source": [
        "torch.tensor() always copies data. If you have a Tensor data and just want to change its requires_grad flag, use requires_grad_() or detach() to avoid a copy.\n",
        " If you have a numpy array and want to avoid a copy, use torch.as_tensor()."
      ],
      "metadata": {
        "id": "8nl4GsmcI2E7"
      }
    },
    {
      "cell_type": "markdown",
      "source": [
        "Random sampling creation ops are listed under Random sampling and include: \n",
        "torch.rand() torch.rand_like() torch.randn() torch.randn_like() torch.randint() torch.randint_like() torch.randperm() You may also use torch.empty() with the In-place random sampling methods to create torch.\n",
        "Tensor s with values sampled from a broader range of distributions."
      ],
      "metadata": {
        "id": "IvKmwdPMI91j"
      }
    },
    {
      "cell_type": "markdown",
      "source": [
        "tensors aare created using `torch.tensor()` link = https://pytorch.org/docs/stable/tensors.html"
      ],
      "metadata": {
        "id": "OIINfUzhJgEe"
      }
    },
    {
      "cell_type": "code",
      "source": [
        "#creating a scalars\n",
        "scalar = torch.tensor(120)\n",
        "scalar"
      ],
      "metadata": {
        "id": "gjrXTYmPFYXc",
        "outputId": "fab97183-89fd-4ecc-c696-5ae91c4fe36a",
        "colab": {
          "base_uri": "https://localhost:8080/"
        }
      },
      "execution_count": 5,
      "outputs": [
        {
          "output_type": "execute_result",
          "data": {
            "text/plain": [
              "tensor(120)"
            ]
          },
          "metadata": {},
          "execution_count": 5
        }
      ]
    },
    {
      "cell_type": "code",
      "source": [
        "scalar.ndim #Scalar doesnt have dimensions"
      ],
      "metadata": {
        "id": "3_abMVTJF_y6",
        "outputId": "cf0cf4e6-39f4-4f1e-9c2d-684badde60c9",
        "colab": {
          "base_uri": "https://localhost:8080/"
        }
      },
      "execution_count": 6,
      "outputs": [
        {
          "output_type": "execute_result",
          "data": {
            "text/plain": [
              "0"
            ]
          },
          "metadata": {},
          "execution_count": 6
        }
      ]
    },
    {
      "cell_type": "code",
      "source": [
        "# get tensor back as python int\n",
        "type(scalar.item())"
      ],
      "metadata": {
        "id": "ap5rn5osKQbZ",
        "outputId": "972e5ac2-446f-436d-f284-26249a552816",
        "colab": {
          "base_uri": "https://localhost:8080/"
        }
      },
      "execution_count": 7,
      "outputs": [
        {
          "output_type": "execute_result",
          "data": {
            "text/plain": [
              "int"
            ]
          },
          "metadata": {},
          "execution_count": 7
        }
      ]
    },
    {
      "cell_type": "code",
      "source": [
        "#vector \n",
        "vector = torch.tensor([2,3])\n",
        "v1 = torch.tensor([[1,2]])\n",
        "vector"
      ],
      "metadata": {
        "id": "WXQRniEZKaOX",
        "outputId": "24f315e2-e7b3-4ae1-d487-66caa456a044",
        "colab": {
          "base_uri": "https://localhost:8080/"
        }
      },
      "execution_count": 8,
      "outputs": [
        {
          "output_type": "execute_result",
          "data": {
            "text/plain": [
              "tensor([2, 3])"
            ]
          },
          "metadata": {},
          "execution_count": 8
        }
      ]
    },
    {
      "cell_type": "code",
      "source": [
        "print(vector.ndim)\n",
        "print(v1.ndim)"
      ],
      "metadata": {
        "id": "3PtMWB-xK5eE",
        "outputId": "40348b87-6d88-4dd8-f0ee-9f1edfee5990",
        "colab": {
          "base_uri": "https://localhost:8080/"
        }
      },
      "execution_count": 9,
      "outputs": [
        {
          "output_type": "stream",
          "name": "stdout",
          "text": [
            "1\n",
            "2\n"
          ]
        }
      ]
    },
    {
      "cell_type": "code",
      "source": [
        "vector.shape"
      ],
      "metadata": {
        "id": "k4xuu4SBK815",
        "outputId": "63775966-be53-4e45-d723-4e964560ea38",
        "colab": {
          "base_uri": "https://localhost:8080/"
        }
      },
      "execution_count": 10,
      "outputs": [
        {
          "output_type": "execute_result",
          "data": {
            "text/plain": [
              "torch.Size([2])"
            ]
          },
          "metadata": {},
          "execution_count": 10
        }
      ]
    },
    {
      "cell_type": "code",
      "source": [
        "v1.shape"
      ],
      "metadata": {
        "id": "h9QvOYEMOf5t",
        "outputId": "1886edef-48cf-4cc5-d5de-8812f4eef347",
        "colab": {
          "base_uri": "https://localhost:8080/"
        }
      },
      "execution_count": 11,
      "outputs": [
        {
          "output_type": "execute_result",
          "data": {
            "text/plain": [
              "torch.Size([1, 2])"
            ]
          },
          "metadata": {},
          "execution_count": 11
        }
      ]
    },
    {
      "cell_type": "code",
      "source": [
        "# MATRIX \n",
        "matrix =  torch.tensor([[1,1],[2,2]])\n",
        "matrix.shape"
      ],
      "metadata": {
        "id": "oeH8d9OdOi5l",
        "outputId": "5c8d78d9-a744-497a-cc19-324110ae0f30",
        "colab": {
          "base_uri": "https://localhost:8080/"
        }
      },
      "execution_count": 12,
      "outputs": [
        {
          "output_type": "execute_result",
          "data": {
            "text/plain": [
              "torch.Size([2, 2])"
            ]
          },
          "metadata": {},
          "execution_count": 12
        }
      ]
    },
    {
      "cell_type": "code",
      "source": [
        "matrix.ndim"
      ],
      "metadata": {
        "id": "Spu5Kt5YPcmU",
        "outputId": "0d8bf783-2e16-486f-b606-03928a4b982e",
        "colab": {
          "base_uri": "https://localhost:8080/"
        }
      },
      "execution_count": 13,
      "outputs": [
        {
          "output_type": "execute_result",
          "data": {
            "text/plain": [
              "2"
            ]
          },
          "metadata": {},
          "execution_count": 13
        }
      ]
    },
    {
      "cell_type": "code",
      "source": [
        "matrix[0]"
      ],
      "metadata": {
        "id": "9cdSPmN1PtcU",
        "outputId": "12518311-d01d-4dc8-a383-cbf2b4a37461",
        "colab": {
          "base_uri": "https://localhost:8080/"
        }
      },
      "execution_count": 14,
      "outputs": [
        {
          "output_type": "execute_result",
          "data": {
            "text/plain": [
              "tensor([1, 1])"
            ]
          },
          "metadata": {},
          "execution_count": 14
        }
      ]
    },
    {
      "cell_type": "code",
      "source": [
        "# TENSORS \n",
        "tsnr = torch.tensor([[[[1,1,1,1],\n",
        "                      [1,2,3,4],\n",
        "                      [1,1,2,2]]],\n",
        "                     [[[1,1,1,1],\n",
        "                       [2,2,2,2],\n",
        "                       [3,3,3,3]]]])"
      ],
      "metadata": {
        "id": "W6HFLJbFP59t"
      },
      "execution_count": 15,
      "outputs": []
    },
    {
      "cell_type": "code",
      "source": [
        "tsnr.shape"
      ],
      "metadata": {
        "id": "GQsOan3qQVGD",
        "outputId": "8a5426e6-350a-4212-dfb8-67a1cd6cd5a0",
        "colab": {
          "base_uri": "https://localhost:8080/"
        }
      },
      "execution_count": 16,
      "outputs": [
        {
          "output_type": "execute_result",
          "data": {
            "text/plain": [
              "torch.Size([2, 1, 3, 4])"
            ]
          },
          "metadata": {},
          "execution_count": 16
        }
      ]
    },
    {
      "cell_type": "markdown",
      "source": [
        "# Note: we use upper case letter to represent matix and lower case letter to represent a scaler and a array "
      ],
      "metadata": {
        "id": "1gnVsqJ6Qebr"
      }
    },
    {
      "cell_type": "markdown",
      "source": [
        "### Random Tensors\n",
        "it is important because the NN start with  random numbers as their weight and bias and then adjust it according to there leaaning to get  a good reuslt \n",
        "\n",
        "`start with random numbers -> look at the data  -> update random number \n",
        "to represent the data in best way`\n",
        "\n",
        "`torch.rand` https://pytorch.org/docs/stable/generated/torch.randn.html"
      ],
      "metadata": {
        "id": "Qc_o_iOmTTsX"
      }
    },
    {
      "cell_type": "code",
      "source": [
        "# Random tensors \n",
        "random_tensor = torch.rand(3,4)"
      ],
      "metadata": {
        "id": "AkwufS93UCfe"
      },
      "execution_count": 17,
      "outputs": []
    },
    {
      "cell_type": "code",
      "source": [
        "random_tensor"
      ],
      "metadata": {
        "id": "MzqELdPqVT8p",
        "outputId": "b9dedbbc-013f-4f0e-b632-1126885b797b",
        "colab": {
          "base_uri": "https://localhost:8080/"
        }
      },
      "execution_count": 18,
      "outputs": [
        {
          "output_type": "execute_result",
          "data": {
            "text/plain": [
              "tensor([[0.8869, 0.6390, 0.6448, 0.1471],\n",
              "        [0.7156, 0.7161, 0.0756, 0.7444],\n",
              "        [0.1627, 0.4358, 0.2576, 0.2631]])"
            ]
          },
          "metadata": {},
          "execution_count": 18
        }
      ]
    },
    {
      "cell_type": "code",
      "source": [
        "random_tensor.ndim"
      ],
      "metadata": {
        "id": "_t-B0dDbVYrZ",
        "outputId": "9fe38dfa-3cde-46d8-cb14-d50d5735e856",
        "colab": {
          "base_uri": "https://localhost:8080/"
        }
      },
      "execution_count": 19,
      "outputs": [
        {
          "output_type": "execute_result",
          "data": {
            "text/plain": [
              "2"
            ]
          },
          "metadata": {},
          "execution_count": 19
        }
      ]
    },
    {
      "cell_type": "code",
      "source": [
        "# creating image with the tensors \n",
        "# in the format height , width , colorchannel(RGB)\n",
        "img = torch.rand(size=(224,224,3))\n",
        "img"
      ],
      "metadata": {
        "id": "WE5M8tvYVv9g",
        "outputId": "8f576354-f901-4c3d-9e02-af55b2ba35a7",
        "colab": {
          "base_uri": "https://localhost:8080/"
        }
      },
      "execution_count": 20,
      "outputs": [
        {
          "output_type": "execute_result",
          "data": {
            "text/plain": [
              "tensor([[[0.3107, 0.1965, 0.1736],\n",
              "         [0.6463, 0.9465, 0.3682],\n",
              "         [0.1664, 0.0324, 0.5888],\n",
              "         ...,\n",
              "         [0.1325, 0.8100, 0.1705],\n",
              "         [0.5075, 0.1324, 0.5537],\n",
              "         [0.8781, 0.5574, 0.5481]],\n",
              "\n",
              "        [[0.6740, 0.1434, 0.0108],\n",
              "         [0.2889, 0.5369, 0.2508],\n",
              "         [0.5047, 0.6475, 0.4796],\n",
              "         ...,\n",
              "         [0.6524, 0.5774, 0.0046],\n",
              "         [0.1946, 0.6488, 0.2316],\n",
              "         [0.0749, 0.1154, 0.7616]],\n",
              "\n",
              "        [[0.0680, 0.3578, 0.0617],\n",
              "         [0.6490, 0.6688, 0.4819],\n",
              "         [0.6842, 0.3347, 0.2256],\n",
              "         ...,\n",
              "         [0.6686, 0.7645, 0.9912],\n",
              "         [0.6000, 0.0444, 0.8978],\n",
              "         [0.9593, 0.2340, 0.3963]],\n",
              "\n",
              "        ...,\n",
              "\n",
              "        [[0.4356, 0.8191, 0.1035],\n",
              "         [0.1680, 0.3781, 0.1375],\n",
              "         [0.4778, 0.4151, 0.0962],\n",
              "         ...,\n",
              "         [0.7495, 0.4238, 0.1273],\n",
              "         [0.6378, 0.9939, 0.2206],\n",
              "         [0.2354, 0.4151, 0.3542]],\n",
              "\n",
              "        [[0.5813, 0.0636, 0.4712],\n",
              "         [0.6373, 0.1113, 0.1629],\n",
              "         [0.7275, 0.6751, 0.3071],\n",
              "         ...,\n",
              "         [0.4390, 0.5274, 0.7303],\n",
              "         [0.3379, 0.9911, 0.4991],\n",
              "         [0.4604, 0.8824, 0.2238]],\n",
              "\n",
              "        [[0.0606, 0.3964, 0.6675],\n",
              "         [0.9862, 0.7723, 0.5083],\n",
              "         [0.3955, 0.5483, 0.3252],\n",
              "         ...,\n",
              "         [0.6061, 0.4488, 0.8756],\n",
              "         [0.3812, 0.6566, 0.3372],\n",
              "         [0.4228, 0.8893, 0.6706]]])"
            ]
          },
          "metadata": {},
          "execution_count": 20
        }
      ]
    },
    {
      "cell_type": "code",
      "source": [
        "img = torch.rand(size=(3,224,224))\n",
        "img\n",
        "# ths is correct for sure"
      ],
      "metadata": {
        "id": "YJsTseZdW6q4",
        "outputId": "6e7b7c62-958d-4236-c8be-2d9caa41546b",
        "colab": {
          "base_uri": "https://localhost:8080/"
        }
      },
      "execution_count": 21,
      "outputs": [
        {
          "output_type": "execute_result",
          "data": {
            "text/plain": [
              "tensor([[[0.4195, 0.8638, 0.9281,  ..., 0.6649, 0.6274, 0.4152],\n",
              "         [0.6292, 0.5758, 0.1396,  ..., 0.6739, 0.9897, 0.4435],\n",
              "         [0.6125, 0.2083, 0.2712,  ..., 0.1704, 0.3388, 0.0387],\n",
              "         ...,\n",
              "         [0.9260, 0.0810, 0.9525,  ..., 0.5141, 0.1295, 0.9480],\n",
              "         [0.6717, 0.5511, 0.8154,  ..., 0.9528, 0.7581, 0.7263],\n",
              "         [0.8360, 0.1731, 0.4790,  ..., 0.3743, 0.8541, 0.2799]],\n",
              "\n",
              "        [[0.1903, 0.0468, 0.9882,  ..., 0.5916, 0.4495, 0.2412],\n",
              "         [0.6294, 0.7804, 0.6986,  ..., 0.5421, 0.5763, 0.7707],\n",
              "         [0.9848, 0.9678, 0.1302,  ..., 0.9358, 0.7397, 0.6473],\n",
              "         ...,\n",
              "         [0.4523, 0.8208, 0.0849,  ..., 0.4421, 0.6265, 0.7604],\n",
              "         [0.1666, 0.8807, 0.6707,  ..., 0.6157, 0.0034, 0.7764],\n",
              "         [0.5551, 0.6339, 0.6579,  ..., 0.6753, 0.2702, 0.1521]],\n",
              "\n",
              "        [[0.2049, 0.1904, 0.5874,  ..., 0.8874, 0.7513, 0.4287],\n",
              "         [0.4752, 0.4996, 0.7067,  ..., 0.0623, 0.8985, 0.4478],\n",
              "         [0.1850, 0.5739, 0.1611,  ..., 0.6604, 0.5720, 0.1744],\n",
              "         ...,\n",
              "         [0.8923, 0.4351, 0.2980,  ..., 0.3561, 0.5827, 0.5099],\n",
              "         [0.5795, 0.8616, 0.2392,  ..., 0.0800, 0.9499, 0.5820],\n",
              "         [0.1137, 0.3438, 0.0870,  ..., 0.8844, 0.5982, 0.9234]]])"
            ]
          },
          "metadata": {},
          "execution_count": 21
        }
      ]
    },
    {
      "cell_type": "markdown",
      "source": [
        "# zeros and ones\n"
      ],
      "metadata": {
        "id": "n13RcargXqC3"
      }
    },
    {
      "cell_type": "code",
      "source": [
        "# Create a tensor of all zeros\n",
        "zeros = torch.zeros(size=(3, 4))\n",
        "zeros, zeros.dtype"
      ],
      "metadata": {
        "id": "FGcYLQ9wYnIH",
        "outputId": "36f3b82e-2358-4442-d76a-1fdcfec650fa",
        "colab": {
          "base_uri": "https://localhost:8080/"
        }
      },
      "execution_count": 22,
      "outputs": [
        {
          "output_type": "execute_result",
          "data": {
            "text/plain": [
              "(tensor([[0., 0., 0., 0.],\n",
              "         [0., 0., 0., 0.],\n",
              "         [0., 0., 0., 0.]]),\n",
              " torch.float32)"
            ]
          },
          "metadata": {},
          "execution_count": 22
        }
      ]
    },
    {
      "cell_type": "code",
      "source": [
        "# Create a tensor of all ones\n",
        "ones = torch.ones(size=(3, 4))\n",
        "ones, ones.dtype"
      ],
      "metadata": {
        "id": "9hjQi837YqA2",
        "outputId": "5549a589-ee95-4b66-920c-e1a23ed8300c",
        "colab": {
          "base_uri": "https://localhost:8080/"
        }
      },
      "execution_count": 23,
      "outputs": [
        {
          "output_type": "execute_result",
          "data": {
            "text/plain": [
              "(tensor([[1., 1., 1., 1.],\n",
              "         [1., 1., 1., 1.],\n",
              "         [1., 1., 1., 1.]]),\n",
              " torch.float32)"
            ]
          },
          "metadata": {},
          "execution_count": 23
        }
      ]
    },
    {
      "cell_type": "markdown",
      "source": [
        "\n",
        "Creating a range and tensors like\n",
        "Sometimes you might want a range of numbers, such as 1 to 10 or 0 to 100.\n",
        "\n",
        "You can use torch.arange(start, end, step) to do so.\n",
        "\n",
        "Where:\n",
        "\n",
        "start = start of range (e.g. 0)\n",
        "end = end of range (e.g. 10)\n",
        "step = how many steps in between each value (e.g. 1).\n",
        "\n",
        "Note: In Python, you can use range() to create a range. However in PyTorch, torch.range() is deprecated and may show an error in the future."
      ],
      "metadata": {
        "id": "Hqhto_5-Yp9-"
      }
    },
    {
      "cell_type": "code",
      "source": [
        "# Use torch.arange(), torch.range() is deprecated \n",
        "zero_to_ten_deprecated = torch.range(0, 10) # Note: this may return an error in the future\n",
        "\n",
        "# Create a range of values 0 to 10\n",
        "zero_to_ten = torch.arange(start=0, end=10, step=1)\n",
        "zero_to_ten"
      ],
      "metadata": {
        "id": "nkRU1ETAYp7X",
        "outputId": "83d46b46-d19f-4cb0-db74-27a8bb104c4c",
        "colab": {
          "base_uri": "https://localhost:8080/"
        }
      },
      "execution_count": 24,
      "outputs": [
        {
          "output_type": "stream",
          "name": "stderr",
          "text": [
            "<ipython-input-24-a09072c806d9>:2: UserWarning: torch.range is deprecated and will be removed in a future release because its behavior is inconsistent with Python's range builtin. Instead, use torch.arange, which produces values in [start, end).\n",
            "  zero_to_ten_deprecated = torch.range(0, 10) # Note: this may return an error in the future\n"
          ]
        },
        {
          "output_type": "execute_result",
          "data": {
            "text/plain": [
              "tensor([0, 1, 2, 3, 4, 5, 6, 7, 8, 9])"
            ]
          },
          "metadata": {},
          "execution_count": 24
        }
      ]
    },
    {
      "cell_type": "markdown",
      "source": [
        "Sometimes you might want one tensor of a certain type with the same shape as another tensor.\n",
        "\n",
        "For example, a tensor of all zeros with the same shape as a previous tensor.\n",
        "\n",
        "To do so you can use `torch.zeros_like(input)` or `torch.ones_like(input)` which return a tensor filled with zeros or ones in the same shape as the input respectively."
      ],
      "metadata": {
        "id": "fkdvg17FYp4z"
      }
    },
    {
      "cell_type": "code",
      "source": [
        "# Can also create a tensor of zeros similar to another tensor\n",
        "ten_zeros = torch.zeros_like(input=zero_to_ten) # will have same shape\n",
        "ten_zeros"
      ],
      "metadata": {
        "id": "ZvmIWl_9Yp2F",
        "outputId": "1f145ea8-52ac-4f95-9fbf-bd69d715d5d8",
        "colab": {
          "base_uri": "https://localhost:8080/"
        }
      },
      "execution_count": 25,
      "outputs": [
        {
          "output_type": "execute_result",
          "data": {
            "text/plain": [
              "tensor([0, 0, 0, 0, 0, 0, 0, 0, 0, 0])"
            ]
          },
          "metadata": {},
          "execution_count": 25
        }
      ]
    },
    {
      "cell_type": "markdown",
      "source": [
        "Tensor datatypes\n",
        "There are many different tensor datatypes available in PyTorch.\n",
        "\n",
        "Some are specific for CPU and some are better for GPU.\n",
        "\n",
        "Getting to know which is which can take some time.\n",
        "\n",
        "Generally if you see torch.cuda anywhere, the tensor is being used for GPU (since Nvidia GPUs use a computing toolkit called CUDA).\n",
        "\n",
        "The most common type (and generally the default) is torch.float32 or torch.float.\n",
        "\n",
        "This is referred to as \"32-bit floating point\".\n",
        "\n",
        "But there's also 16-bit floating point (torch.float16 or torch.half) and 64-bit floating point (torch.float64 or torch.double).\n",
        "\n",
        "And to confuse things even more there's also 8-bit, 16-bit, 32-bit and 64-bit integers.\n",
        "\n",
        "Plus more!\n",
        "\n",
        "Note: An integer is a flat round number like 7 whereas a float has a decimal 7.0.\n",
        "\n",
        "The reason for all of these is to do with precision in computing.\n",
        "\n",
        "Precision is the amount of detail used to describe a number.\n",
        "\n",
        "The higher the precision value (8, 16, 32), the more detail and hence data used to express a number.\n",
        "\n",
        "This matters in deep learning and numerical computing because you're making so many operations, the more detail you have to calculate on, the more compute you have to use.\n",
        "\n",
        "So lower precision datatypes are generally faster to compute on but sacrifice some performance on evaluation metrics like accuracy (faster to compute but less accurate).\n",
        "\n",
        "Resources:\n",
        "\n",
        "See the PyTorch documentation for a list of all available tensor datatypes.\n",
        "Read the Wikipedia page for an overview of what precision in computing is.\n",
        "Let's see how to create some tensors with specific datatypes. We can do so using the dtype parameter."
      ],
      "metadata": {
        "id": "v1h_KS0LYpwF"
      }
    },
    {
      "cell_type": "code",
      "source": [
        "# Default datatype for tensors is float32\n",
        "float_32_tensor = torch.tensor([3.0, 6.0, 9.0],\n",
        "                               dtype=None, # defaults to None, which is torch.float32 or whatever datatype is passed\n",
        "                               device=None, # defaults to None, which uses the default tensor type\n",
        "                               requires_grad=False) # if True, operations performed on the tensor are recorded \n",
        "\n",
        "float_32_tensor.shape, float_32_tensor.dtype, float_32_tensor.device"
      ],
      "metadata": {
        "id": "tUDAjJfEciRC",
        "outputId": "19ac6265-c937-4bc4-b0b9-b468afc52377",
        "colab": {
          "base_uri": "https://localhost:8080/"
        }
      },
      "execution_count": 26,
      "outputs": [
        {
          "output_type": "execute_result",
          "data": {
            "text/plain": [
              "(torch.Size([3]), torch.float32, device(type='cpu'))"
            ]
          },
          "metadata": {},
          "execution_count": 26
        }
      ]
    },
    {
      "cell_type": "markdown",
      "source": [
        "\n",
        "Aside from shape issues (tensor shapes don't match up), two of the other most common issues you'll come across in PyTorch are datatype and device issues.\n",
        "\n",
        "For example, one of tensors is torch.float32 and the other is torch.float16 (PyTorch often likes tensors to be the same format).\n",
        "\n",
        "Or one of your tensors is on the CPU and the other is on the GPU (PyTorch likes calculations between tensors to be on the same device)."
      ],
      "metadata": {
        "id": "zt7Ck-eqcuY8"
      }
    },
    {
      "cell_type": "code",
      "source": [
        "float_16_tensor = torch.tensor([3.0, 6.0, 9.0],\n",
        "                               dtype=torch.float16) # torch.half would also work\n",
        "\n",
        "float_16_tensor.dtype"
      ],
      "metadata": {
        "id": "vyqc36OEen9E",
        "outputId": "4766be7c-cf10-499e-af90-4a2ae07e1db9",
        "colab": {
          "base_uri": "https://localhost:8080/"
        }
      },
      "execution_count": 27,
      "outputs": [
        {
          "output_type": "execute_result",
          "data": {
            "text/plain": [
              "torch.float16"
            ]
          },
          "metadata": {},
          "execution_count": 27
        }
      ]
    },
    {
      "cell_type": "markdown",
      "source": [
        "\n",
        "Getting information from tensors\n",
        "Once you've created tensors (or someone else or a PyTorch module has created them for you), you might want to get some information from them.\n",
        "\n",
        "We've seen these before but three of the most common attributes you'll want to find out about tensors are:\n",
        "\n",
        "shape - what shape is the tensor? (some operations require specific shape rules)\n",
        "\n",
        "dtype - what datatype are the elements within the tensor stored in?\n",
        "\n",
        "device - what device is the tensor stored on? (usually GPU or CPU)"
      ],
      "metadata": {
        "id": "pKIcmZ_newjx"
      }
    },
    {
      "cell_type": "code",
      "source": [
        "# Create a tensor\n",
        "some_tensor = torch.rand(3, 4)\n",
        "\n",
        "# Find out details about it\n",
        "print(some_tensor)\n",
        "print(f\"Shape of tensor: {some_tensor.shape}\")\n",
        "print(f\"Datatype of tensor: {some_tensor.dtype}\")\n",
        "print(f\"Device tensor is stored on: {some_tensor.device}\") # will default to CPU"
      ],
      "metadata": {
        "id": "G-SL6fsqe0mE",
        "outputId": "3794498f-d952-48ee-bdde-653f315f26d4",
        "colab": {
          "base_uri": "https://localhost:8080/"
        }
      },
      "execution_count": 28,
      "outputs": [
        {
          "output_type": "stream",
          "name": "stdout",
          "text": [
            "tensor([[0.2139, 0.8572, 0.2266, 0.1973],\n",
            "        [0.4133, 0.5153, 0.1845, 0.6648],\n",
            "        [0.5355, 0.0196, 0.3024, 0.7469]])\n",
            "Shape of tensor: torch.Size([3, 4])\n",
            "Datatype of tensor: torch.float32\n",
            "Device tensor is stored on: cpu\n"
          ]
        }
      ]
    },
    {
      "cell_type": "markdown",
      "source": [
        "Note: When you run into issues in PyTorch, it's very often one to do with one of the three attributes above. So when the error messages show up, sing yourself a little song called \"what, what, where\":\n",
        "\n",
        "\"what shape are my tensors? what datatype are they and where are they stored? what shape, what datatype, where where where\""
      ],
      "metadata": {
        "id": "3_epGuJKnt0y"
      }
    },
    {
      "cell_type": "markdown",
      "source": [
        "\n",
        "# Manipulating tensors (tensor operations)\n",
        "In deep learning, data (images, text, video, audio, protein structures, etc) gets represented as tensors.\n",
        "\n",
        "A model learns by investigating those tensors and performing a series of operations (could be 1,000,000s+) on tensors to create a representation of the patterns in the input data.\n",
        "\n",
        "These operations are often a wonderful dance between:\n",
        "\n",
        "Addition\n",
        "Substraction\n",
        "Multiplication (element-wise)\n",
        "Division\n",
        "Matrix multiplication\n",
        "And that's it. Sure there are a few more here and there but these are the basic building blocks of neural networks.\n",
        "\n",
        "Stacking these building blocks in the right way, you can create the most sophisticated of neural networks (just like lego!).\n",
        "\n",
        "Basic operations\n",
        "Let's start with a few of the fundamental operations, addition (+), subtraction (-), mutliplication (*).\n",
        "\n",
        "They work just as you think they would."
      ],
      "metadata": {
        "id": "z299UZOhn7lR"
      }
    },
    {
      "cell_type": "code",
      "source": [
        "# Create a tensor of values and add a number to it\n",
        "tensor = torch.tensor([1, 2, 3])\n",
        "tensor + 10"
      ],
      "metadata": {
        "id": "fpNYUwtqohcJ",
        "outputId": "3897a90c-6341-47cc-df20-9f619c00b05f",
        "colab": {
          "base_uri": "https://localhost:8080/"
        }
      },
      "execution_count": 29,
      "outputs": [
        {
          "output_type": "execute_result",
          "data": {
            "text/plain": [
              "tensor([11, 12, 13])"
            ]
          },
          "metadata": {},
          "execution_count": 29
        }
      ]
    },
    {
      "cell_type": "code",
      "source": [
        "# Multiply it by 10\n",
        "tensor * 10"
      ],
      "metadata": {
        "id": "_Lcn4dO6ovUg",
        "outputId": "cabad9ff-b15d-4cdb-84cf-b71355e44878",
        "colab": {
          "base_uri": "https://localhost:8080/"
        }
      },
      "execution_count": 30,
      "outputs": [
        {
          "output_type": "execute_result",
          "data": {
            "text/plain": [
              "tensor([10, 20, 30])"
            ]
          },
          "metadata": {},
          "execution_count": 30
        }
      ]
    },
    {
      "cell_type": "markdown",
      "source": [
        "\n",
        "Notice how the tensor values above didn't end up being tensor([110, 120, 130]), this is because the values inside the tensor don't change unless they're reassigned."
      ],
      "metadata": {
        "id": "U72V7vQ_oyH4"
      }
    },
    {
      "cell_type": "code",
      "source": [
        "# Subtract and reassign\n",
        "tensor = tensor - 10\n",
        "tensor"
      ],
      "metadata": {
        "id": "YJuQEVHOo7yY",
        "outputId": "1a4b8390-cbd5-4051-f6b1-84bfe5d17dfe",
        "colab": {
          "base_uri": "https://localhost:8080/"
        }
      },
      "execution_count": 31,
      "outputs": [
        {
          "output_type": "execute_result",
          "data": {
            "text/plain": [
              "tensor([-9, -8, -7])"
            ]
          },
          "metadata": {},
          "execution_count": 31
        }
      ]
    },
    {
      "cell_type": "code",
      "source": [
        "tensor = tensor+10\n",
        "tensor"
      ],
      "metadata": {
        "id": "rbqdIrlcpIJo",
        "outputId": "b1e9190c-c813-49ea-a7a7-8a629f91055b",
        "colab": {
          "base_uri": "https://localhost:8080/"
        }
      },
      "execution_count": 32,
      "outputs": [
        {
          "output_type": "execute_result",
          "data": {
            "text/plain": [
              "tensor([1, 2, 3])"
            ]
          },
          "metadata": {},
          "execution_count": 32
        }
      ]
    },
    {
      "cell_type": "markdown",
      "source": [
        "PyTorch also has a bunch of built-in functions like torch.mul() (short for multiplcation) and torch.add() to perform basic operations."
      ],
      "metadata": {
        "id": "tIOQDJqKpMfq"
      }
    },
    {
      "cell_type": "code",
      "source": [
        "# Can also use torch functions\n",
        "torch.multiply(tensor, 10)"
      ],
      "metadata": {
        "id": "6pS2_ZUGpdJo",
        "outputId": "18c5a306-f763-47dc-8a9b-cabe45a9dd22",
        "colab": {
          "base_uri": "https://localhost:8080/"
        }
      },
      "execution_count": 33,
      "outputs": [
        {
          "output_type": "execute_result",
          "data": {
            "text/plain": [
              "tensor([10, 20, 30])"
            ]
          },
          "metadata": {},
          "execution_count": 33
        }
      ]
    },
    {
      "cell_type": "code",
      "source": [
        "tensor"
      ],
      "metadata": {
        "id": "jnjWwsiypl4Q",
        "outputId": "07f08e39-fcd8-47cb-f84d-d27ebdaa299e",
        "colab": {
          "base_uri": "https://localhost:8080/"
        }
      },
      "execution_count": 34,
      "outputs": [
        {
          "output_type": "execute_result",
          "data": {
            "text/plain": [
              "tensor([1, 2, 3])"
            ]
          },
          "metadata": {},
          "execution_count": 34
        }
      ]
    },
    {
      "cell_type": "code",
      "source": [
        "# BUt in usecase the symbols are more used \n",
        "# Element-wise multiplication (each element multiplies its equivalent, index 0->0, 1->1, 2->2)\n",
        "print(tensor, \"*\", tensor)\n",
        "print(\"Equals:\", tensor * tensor)"
      ],
      "metadata": {
        "id": "SRH4rHmSppgp",
        "outputId": "fad72f15-3f5c-45d4-fd46-31c49af9f0ed",
        "colab": {
          "base_uri": "https://localhost:8080/"
        }
      },
      "execution_count": 35,
      "outputs": [
        {
          "output_type": "stream",
          "name": "stdout",
          "text": [
            "tensor([1, 2, 3]) * tensor([1, 2, 3])\n",
            "Equals: tensor([1, 4, 9])\n"
          ]
        }
      ]
    },
    {
      "cell_type": "markdown",
      "source": [
        "\n",
        "# Matrix multiplication (is all you need)\n",
        "One of the most common operations in machine learning and deep learning algorithms (like neural networks) is matrix multiplication.\n",
        "\n",
        "PyTorch implements matrix multiplication functionality in the torch.matmul() method.\n",
        "\n",
        "The main two rules for matrix multiplication to remember are:\n",
        "\n",
        "The inner dimensions must match:\n",
        "\n",
        "(3, 2) @ (3, 2) won't work\n",
        "\n",
        "(2, 3) @ (3, 2) will work\n",
        "\n",
        "(3, 2) @ (2, 3) will work\n",
        "\n",
        "The resulting matrix has the shape of the outer dimensions:\n",
        "\n",
        "(2, 3) @ (3, 2) -> (2, 2)\n",
        "\n",
        "(3, 2) @ (2, 3) -> (3, 3)\n",
        "\n",
        "Note: \"@\" in Python is the symbol for matrix multiplication."
      ],
      "metadata": {
        "id": "L-_hFTjtp1ed"
      }
    },
    {
      "cell_type": "code",
      "source": [
        "tensor = torch.tensor([1, 2, 3])\n",
        "tensor.shape"
      ],
      "metadata": {
        "id": "x1xoXGetqU9g",
        "outputId": "2a1bdb14-2097-4882-a0df-233fa784bd29",
        "colab": {
          "base_uri": "https://localhost:8080/"
        }
      },
      "execution_count": 36,
      "outputs": [
        {
          "output_type": "execute_result",
          "data": {
            "text/plain": [
              "torch.Size([3])"
            ]
          },
          "metadata": {},
          "execution_count": 36
        }
      ]
    },
    {
      "cell_type": "markdown",
      "source": [
        "he difference between element-wise multiplication and matrix multiplication is the addition of values.\n",
        "\n",
        "For our tensor variable with values [1, 2, 3]:\n",
        "\n",
        "     Operation  \t                     Calculation\t               Code\n",
        "\n",
        "    Element-wise multiplication    [1*1, 2*2, 3*3] = [1, 4, 9]\t  tensor * tensor\n",
        "    Matrix multiplication\t       [1*1 + 2*2 + 3*3] = [14]\ttensor.matmul(tensor)"
      ],
      "metadata": {
        "id": "LVy34w3Fqf03"
      }
    },
    {
      "cell_type": "code",
      "source": [
        "tensor * tensor"
      ],
      "metadata": {
        "id": "5j-LgYser1r_",
        "outputId": "3290b23d-2a64-45bc-8908-adc57cd14bf1",
        "colab": {
          "base_uri": "https://localhost:8080/"
        }
      },
      "execution_count": 37,
      "outputs": [
        {
          "output_type": "execute_result",
          "data": {
            "text/plain": [
              "tensor([1, 4, 9])"
            ]
          },
          "metadata": {},
          "execution_count": 37
        }
      ]
    },
    {
      "cell_type": "code",
      "source": [
        "# Matrix multiplication\n",
        "tensor.matmul(tensor)"
      ],
      "metadata": {
        "id": "YaqIUKEmr_8P",
        "outputId": "8258e50c-2b56-4ce2-909c-3c7d330898fb",
        "colab": {
          "base_uri": "https://localhost:8080/"
        }
      },
      "execution_count": 38,
      "outputs": [
        {
          "output_type": "execute_result",
          "data": {
            "text/plain": [
              "tensor(14)"
            ]
          },
          "metadata": {},
          "execution_count": 38
        }
      ]
    },
    {
      "cell_type": "code",
      "source": [
        "# Can also use the \"@\" symbol for matrix multiplication, though not recommended\n",
        "tensor @ tensor"
      ],
      "metadata": {
        "id": "bGrAFVcysCEO",
        "outputId": "abf08e6c-e296-4ac1-a618-5d564fe6a8c5",
        "colab": {
          "base_uri": "https://localhost:8080/"
        }
      },
      "execution_count": 39,
      "outputs": [
        {
          "output_type": "execute_result",
          "data": {
            "text/plain": [
              "tensor(14)"
            ]
          },
          "metadata": {},
          "execution_count": 39
        }
      ]
    },
    {
      "cell_type": "markdown",
      "source": [
        "\n",
        "You can do matrix multiplication by hand but it's not recommended.\n",
        "\n",
        "The in-built torch.matmul() method is faster."
      ],
      "metadata": {
        "id": "bXxExe1-sHnX"
      }
    },
    {
      "cell_type": "code",
      "source": [
        "len(tensor)"
      ],
      "metadata": {
        "id": "TVxeOgx1sd2a",
        "outputId": "9280c79f-95a5-46d8-c488-0c0b88d21562",
        "colab": {
          "base_uri": "https://localhost:8080/"
        }
      },
      "execution_count": 40,
      "outputs": [
        {
          "output_type": "execute_result",
          "data": {
            "text/plain": [
              "3"
            ]
          },
          "metadata": {},
          "execution_count": 40
        }
      ]
    },
    {
      "cell_type": "code",
      "source": [
        "%%time\n",
        "# Matrix multiplication by hand \n",
        "# (avoid doing operations with for loops at all cost, they are computationally expensive)\n",
        "value = 0\n",
        "for i in range(len(tensor)):\n",
        "  value += tensor[i] * tensor[i]\n",
        "value"
      ],
      "metadata": {
        "id": "XDQ5THfAsOTW",
        "outputId": "6fc56198-8c22-4888-c650-e0bbdaae1567",
        "colab": {
          "base_uri": "https://localhost:8080/"
        }
      },
      "execution_count": 41,
      "outputs": [
        {
          "output_type": "stream",
          "name": "stdout",
          "text": [
            "CPU times: user 273 µs, sys: 0 ns, total: 273 µs\n",
            "Wall time: 282 µs\n"
          ]
        },
        {
          "output_type": "execute_result",
          "data": {
            "text/plain": [
              "tensor(14)"
            ]
          },
          "metadata": {},
          "execution_count": 41
        }
      ]
    },
    {
      "cell_type": "code",
      "source": [
        "%%time\n",
        "torch.matmul(tensor, tensor)"
      ],
      "metadata": {
        "id": "u3FMMV4nsTq1",
        "outputId": "2f8f8d9f-e535-4f17-e0c5-819289314402",
        "colab": {
          "base_uri": "https://localhost:8080/"
        }
      },
      "execution_count": 42,
      "outputs": [
        {
          "output_type": "stream",
          "name": "stdout",
          "text": [
            "CPU times: user 97 µs, sys: 19 µs, total: 116 µs\n",
            "Wall time: 123 µs\n"
          ]
        },
        {
          "output_type": "execute_result",
          "data": {
            "text/plain": [
              "tensor(14)"
            ]
          },
          "metadata": {},
          "execution_count": 42
        }
      ]
    },
    {
      "cell_type": "markdown",
      "source": [
        "\n",
        "# One of the most common errors in deep learning (shape errors)\n",
        "Because much of deep learning is multiplying and performing operations on matrices and matrices have a strict rule about what shapes and sizes can be combined, one of the most common errors you'll run into in deep learning is shape mismatches."
      ],
      "metadata": {
        "id": "8U6ce8hwJLeX"
      }
    },
    {
      "cell_type": "code",
      "source": [
        "# Shapes need to be in the right way  \n",
        "tensor_A = torch.tensor([[1, 2],\n",
        "                         [3, 4],\n",
        "                         [5, 6]], dtype=torch.float32)\n",
        "\n",
        "tensor_B = torch.tensor([[7, 10],\n",
        "                         [8, 11], \n",
        "                         [9, 12]], dtype=torch.float32)\n",
        "\n",
        "# torch.matmul(tensor_A, tensor_B)     # (this will error)"
      ],
      "metadata": {
        "id": "sKXHUipEKzCu"
      },
      "execution_count": 44,
      "outputs": []
    },
    {
      "cell_type": "markdown",
      "source": [
        "We can make matrix multiplication work between tensor_A and tensor_B by making their inner dimensions match.\n",
        "\n",
        "One of the ways to do this is with a transpose (switch the dimensions of a given tensor).\n",
        "\n",
        "You can perform transposes in PyTorch using either:\n",
        "\n",
        "torch.transpose(input, dim0, dim1) - where input is the desired tensor to transpose and dim0 and dim1 are the dimensions to be swapped.\n",
        "tensor.T - where tensor is the desired tensor to transpose."
      ],
      "metadata": {
        "id": "Nf-muoJQL5CX"
      }
    },
    {
      "cell_type": "code",
      "source": [
        "# View tensor_A and tensor_B\n",
        "print(tensor_A)\n",
        "print(tensor_B)"
      ],
      "metadata": {
        "id": "Fv-QqtkAMF29",
        "outputId": "65db690d-3a87-44d3-9639-2afaced59d9b",
        "colab": {
          "base_uri": "https://localhost:8080/"
        }
      },
      "execution_count": 45,
      "outputs": [
        {
          "output_type": "stream",
          "name": "stdout",
          "text": [
            "tensor([[1., 2.],\n",
            "        [3., 4.],\n",
            "        [5., 6.]])\n",
            "tensor([[ 7., 10.],\n",
            "        [ 8., 11.],\n",
            "        [ 9., 12.]])\n"
          ]
        }
      ]
    },
    {
      "cell_type": "code",
      "source": [
        "# View tensor_A and tensor_B.T\n",
        "print(tensor_A)\n",
        "print(tensor_B.T)"
      ],
      "metadata": {
        "id": "l91t29RYRgmq",
        "outputId": "281a3b3f-6616-48af-baf3-16ea107ed0f2",
        "colab": {
          "base_uri": "https://localhost:8080/"
        }
      },
      "execution_count": 46,
      "outputs": [
        {
          "output_type": "stream",
          "name": "stdout",
          "text": [
            "tensor([[1., 2.],\n",
            "        [3., 4.],\n",
            "        [5., 6.]])\n",
            "tensor([[ 7.,  8.,  9.],\n",
            "        [10., 11., 12.]])\n"
          ]
        }
      ]
    },
    {
      "cell_type": "code",
      "source": [
        "# The operation works when tensor_B is transposed\n",
        "print(f\"Original shapes: tensor_A = {tensor_A.shape}, tensor_B = {tensor_B.shape}\\n\")\n",
        "print(f\"New shapes: tensor_A = {tensor_A.shape} (same as above), tensor_B.T = {tensor_B.T.shape}\\n\")\n",
        "print(f\"Multiplying: {tensor_A.shape} * {tensor_B.T.shape} <- inner dimensions match\\n\")\n",
        "print(\"Output:\\n\")\n",
        "output = torch.matmul(tensor_A, tensor_B.T)\n",
        "print(output) \n",
        "print(f\"\\nOutput shape: {output.shape}\")"
      ],
      "metadata": {
        "id": "_uSdbruARkKy",
        "outputId": "04771a18-5ece-4cd0-93c2-3495252aaae3",
        "colab": {
          "base_uri": "https://localhost:8080/"
        }
      },
      "execution_count": 47,
      "outputs": [
        {
          "output_type": "stream",
          "name": "stdout",
          "text": [
            "Original shapes: tensor_A = torch.Size([3, 2]), tensor_B = torch.Size([3, 2])\n",
            "\n",
            "New shapes: tensor_A = torch.Size([3, 2]) (same as above), tensor_B.T = torch.Size([2, 3])\n",
            "\n",
            "Multiplying: torch.Size([3, 2]) * torch.Size([2, 3]) <- inner dimensions match\n",
            "\n",
            "Output:\n",
            "\n",
            "tensor([[ 27.,  30.,  33.],\n",
            "        [ 61.,  68.,  75.],\n",
            "        [ 95., 106., 117.]])\n",
            "\n",
            "Output shape: torch.Size([3, 3])\n"
          ]
        }
      ]
    },
    {
      "cell_type": "code",
      "source": [
        "# torch.mm is a shortcut for matmul\n",
        "torch.mm(tensor_A, tensor_B.T)"
      ],
      "metadata": {
        "id": "qHmLYRHnRo6N",
        "outputId": "95cb9abf-3fa5-4424-c28a-f6d48099e42b",
        "colab": {
          "base_uri": "https://localhost:8080/"
        }
      },
      "execution_count": 48,
      "outputs": [
        {
          "output_type": "execute_result",
          "data": {
            "text/plain": [
              "tensor([[ 27.,  30.,  33.],\n",
              "        [ 61.,  68.,  75.],\n",
              "        [ 95., 106., 117.]])"
            ]
          },
          "metadata": {},
          "execution_count": 48
        }
      ]
    },
    {
      "cell_type": "code",
      "source": [],
      "metadata": {
        "id": "pEnzeWXqRwJi"
      },
      "execution_count": null,
      "outputs": []
    }
  ]
}