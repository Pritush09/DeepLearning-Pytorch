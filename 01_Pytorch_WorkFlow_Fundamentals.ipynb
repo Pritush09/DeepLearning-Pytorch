{
  "nbformat": 4,
  "nbformat_minor": 0,
  "metadata": {
    "colab": {
      "provenance": [],
      "authorship_tag": "ABX9TyOMPgBI9cU2QQu80nXK6rn/",
      "include_colab_link": true
    },
    "kernelspec": {
      "name": "python3",
      "display_name": "Python 3"
    },
    "language_info": {
      "name": "python"
    }
  },
  "cells": [
    {
      "cell_type": "markdown",
      "metadata": {
        "id": "view-in-github",
        "colab_type": "text"
      },
      "source": [
        "<a href=\"https://colab.research.google.com/github/Pritush09/DeepLearning-Pytorch/blob/master/01_Pytorch_WorkFlow_Fundamentals.ipynb\" target=\"_parent\"><img src=\"https://colab.research.google.com/assets/colab-badge.svg\" alt=\"Open In Colab\"/></a>"
      ]
    },
    {
      "cell_type": "markdown",
      "source": [
        "Where can can you get help?\n",
        "All of the materials for this course are available on GitHub.(https://github.com/mrdbourke/pytorch-deep-learning)\n",
        "\n",
        "And if you run into trouble, you can ask a question on the Discussions page there too.\n",
        "\n",
        "There's also the PyTorch developer forums(https://discuss.pytorch.org/), a very helpful place for all things PyTorch.\n",
        "\n",
        "Let's start by putting what we're covering into a dictionary to reference later."
      ],
      "metadata": {
        "id": "sYUFE0j0jiKO"
      }
    },
    {
      "cell_type": "markdown",
      "source": [
        "We're going to get \n",
        "\n",
        "torch\n",
        "\n",
        "`torch.nn` (nn stands for neural network and this package contains the building \n",
        "blocks for creating neural networks in PyTorch) and \n",
        "\n",
        "matplotlib."
      ],
      "metadata": {
        "id": "FOE93Jlbl6ra"
      }
    },
    {
      "cell_type": "code",
      "source": [
        "import torch\n",
        "from torch import nn # nn contains all of PyTorch's building blocks for neural networks\n",
        "import matplotlib.pyplot as plt\n",
        "\n",
        "# Check PyTorch version\n",
        "torch.__version__"
      ],
      "metadata": {
        "id": "kjUg-g5-mKen",
        "colab": {
          "base_uri": "https://localhost:8080/",
          "height": 35
        },
        "outputId": "3bbdc160-bb1e-4dc9-aff9-37e03ee22333"
      },
      "execution_count": 1,
      "outputs": [
        {
          "output_type": "execute_result",
          "data": {
            "text/plain": [
              "'2.0.0+cu118'"
            ],
            "application/vnd.google.colaboratory.intrinsic+json": {
              "type": "string"
            }
          },
          "metadata": {},
          "execution_count": 1
        }
      ]
    },
    {
      "cell_type": "markdown",
      "source": [
        "\n",
        "# 1. Data (preparing and loading)\n",
        "I want to stress that \"data\" in machine learning can be almost anything you can imagine. A table of numbers (like a big Excel spreadsheet), images of any kind, videos (YouTube has lots of data!), audio files like songs or podcasts, protein structures, text and more.\n",
        "\n",
        "machine learning is a game of two parts: 1. turn your data into a representative set of numbers and 2. build or pick a model to learn the representation as best as possible\n",
        "\n",
        "### Machine learning is a game of two parts:\n",
        "\n",
        "Turn your data, whatever it is, into numbers (a representation).\n",
        "\n",
        "Pick or build a model to learn the representation as best as possible."
      ],
      "metadata": {
        "id": "MDQtfnNImfos"
      }
    },
    {
      "cell_type": "markdown",
      "source": [
        "let's create our data as a straight line.\n",
        "\n",
        "We'll use linear regression to create the data with known parameters (things that can be learned by a model) and then we'll use PyTorch to see if we can build model to estimate these parameters using gradient descent."
      ],
      "metadata": {
        "id": "JONWCExmn7Ts"
      }
    },
    {
      "cell_type": "code",
      "source": [
        "torch.arange(0,1,0.01)"
      ],
      "metadata": {
        "id": "AEjeHUlfoczC",
        "colab": {
          "base_uri": "https://localhost:8080/"
        },
        "outputId": "69edb4e8-b232-4b8b-d0c1-3c830c71c988"
      },
      "execution_count": 2,
      "outputs": [
        {
          "output_type": "execute_result",
          "data": {
            "text/plain": [
              "tensor([0.0000, 0.0100, 0.0200, 0.0300, 0.0400, 0.0500, 0.0600, 0.0700, 0.0800,\n",
              "        0.0900, 0.1000, 0.1100, 0.1200, 0.1300, 0.1400, 0.1500, 0.1600, 0.1700,\n",
              "        0.1800, 0.1900, 0.2000, 0.2100, 0.2200, 0.2300, 0.2400, 0.2500, 0.2600,\n",
              "        0.2700, 0.2800, 0.2900, 0.3000, 0.3100, 0.3200, 0.3300, 0.3400, 0.3500,\n",
              "        0.3600, 0.3700, 0.3800, 0.3900, 0.4000, 0.4100, 0.4200, 0.4300, 0.4400,\n",
              "        0.4500, 0.4600, 0.4700, 0.4800, 0.4900, 0.5000, 0.5100, 0.5200, 0.5300,\n",
              "        0.5400, 0.5500, 0.5600, 0.5700, 0.5800, 0.5900, 0.6000, 0.6100, 0.6200,\n",
              "        0.6300, 0.6400, 0.6500, 0.6600, 0.6700, 0.6800, 0.6900, 0.7000, 0.7100,\n",
              "        0.7200, 0.7300, 0.7400, 0.7500, 0.7600, 0.7700, 0.7800, 0.7900, 0.8000,\n",
              "        0.8100, 0.8200, 0.8300, 0.8400, 0.8500, 0.8600, 0.8700, 0.8800, 0.8900,\n",
              "        0.9000, 0.9100, 0.9200, 0.9300, 0.9400, 0.9500, 0.9600, 0.9700, 0.9800,\n",
              "        0.9900])"
            ]
          },
          "metadata": {},
          "execution_count": 2
        }
      ]
    },
    {
      "cell_type": "code",
      "source": [
        "torch.arange(0,1,0.01).shape"
      ],
      "metadata": {
        "colab": {
          "base_uri": "https://localhost:8080/"
        },
        "id": "7N9BlCebqb-e",
        "outputId": "47e4b165-5233-458d-fe37-1784b09b3521"
      },
      "execution_count": 3,
      "outputs": [
        {
          "output_type": "execute_result",
          "data": {
            "text/plain": [
              "torch.Size([100])"
            ]
          },
          "metadata": {},
          "execution_count": 3
        }
      ]
    },
    {
      "cell_type": "code",
      "source": [
        "torch.arange(0,1,0.01).unsqueeze(dim=1)"
      ],
      "metadata": {
        "colab": {
          "base_uri": "https://localhost:8080/"
        },
        "id": "PBNZ6SO0qL_3",
        "outputId": "18e7f2c0-a732-44e5-95d3-ae46a87d1b8b"
      },
      "execution_count": 4,
      "outputs": [
        {
          "output_type": "execute_result",
          "data": {
            "text/plain": [
              "tensor([[0.0000],\n",
              "        [0.0100],\n",
              "        [0.0200],\n",
              "        [0.0300],\n",
              "        [0.0400],\n",
              "        [0.0500],\n",
              "        [0.0600],\n",
              "        [0.0700],\n",
              "        [0.0800],\n",
              "        [0.0900],\n",
              "        [0.1000],\n",
              "        [0.1100],\n",
              "        [0.1200],\n",
              "        [0.1300],\n",
              "        [0.1400],\n",
              "        [0.1500],\n",
              "        [0.1600],\n",
              "        [0.1700],\n",
              "        [0.1800],\n",
              "        [0.1900],\n",
              "        [0.2000],\n",
              "        [0.2100],\n",
              "        [0.2200],\n",
              "        [0.2300],\n",
              "        [0.2400],\n",
              "        [0.2500],\n",
              "        [0.2600],\n",
              "        [0.2700],\n",
              "        [0.2800],\n",
              "        [0.2900],\n",
              "        [0.3000],\n",
              "        [0.3100],\n",
              "        [0.3200],\n",
              "        [0.3300],\n",
              "        [0.3400],\n",
              "        [0.3500],\n",
              "        [0.3600],\n",
              "        [0.3700],\n",
              "        [0.3800],\n",
              "        [0.3900],\n",
              "        [0.4000],\n",
              "        [0.4100],\n",
              "        [0.4200],\n",
              "        [0.4300],\n",
              "        [0.4400],\n",
              "        [0.4500],\n",
              "        [0.4600],\n",
              "        [0.4700],\n",
              "        [0.4800],\n",
              "        [0.4900],\n",
              "        [0.5000],\n",
              "        [0.5100],\n",
              "        [0.5200],\n",
              "        [0.5300],\n",
              "        [0.5400],\n",
              "        [0.5500],\n",
              "        [0.5600],\n",
              "        [0.5700],\n",
              "        [0.5800],\n",
              "        [0.5900],\n",
              "        [0.6000],\n",
              "        [0.6100],\n",
              "        [0.6200],\n",
              "        [0.6300],\n",
              "        [0.6400],\n",
              "        [0.6500],\n",
              "        [0.6600],\n",
              "        [0.6700],\n",
              "        [0.6800],\n",
              "        [0.6900],\n",
              "        [0.7000],\n",
              "        [0.7100],\n",
              "        [0.7200],\n",
              "        [0.7300],\n",
              "        [0.7400],\n",
              "        [0.7500],\n",
              "        [0.7600],\n",
              "        [0.7700],\n",
              "        [0.7800],\n",
              "        [0.7900],\n",
              "        [0.8000],\n",
              "        [0.8100],\n",
              "        [0.8200],\n",
              "        [0.8300],\n",
              "        [0.8400],\n",
              "        [0.8500],\n",
              "        [0.8600],\n",
              "        [0.8700],\n",
              "        [0.8800],\n",
              "        [0.8900],\n",
              "        [0.9000],\n",
              "        [0.9100],\n",
              "        [0.9200],\n",
              "        [0.9300],\n",
              "        [0.9400],\n",
              "        [0.9500],\n",
              "        [0.9600],\n",
              "        [0.9700],\n",
              "        [0.9800],\n",
              "        [0.9900]])"
            ]
          },
          "metadata": {},
          "execution_count": 4
        }
      ]
    },
    {
      "cell_type": "code",
      "source": [
        "# Create *known* parameters\n",
        "weight = 0.7\n",
        "bias = 0.3\n",
        "\n",
        "# Create data\n",
        "start = 0\n",
        "end = 1\n",
        "step = 0.02\n",
        "X = torch.arange(start, end, step).unsqueeze(dim=1)# later on why we use this unsqueez \n",
        "y = weight * X + bias\n",
        "\n",
        "X[:10], y[:10] , X.shape"
      ],
      "metadata": {
        "id": "z5e5QkfJoE2A",
        "colab": {
          "base_uri": "https://localhost:8080/"
        },
        "outputId": "819ffa95-7131-4951-a785-0a3bd537dcd4"
      },
      "execution_count": 5,
      "outputs": [
        {
          "output_type": "execute_result",
          "data": {
            "text/plain": [
              "(tensor([[0.0000],\n",
              "         [0.0200],\n",
              "         [0.0400],\n",
              "         [0.0600],\n",
              "         [0.0800],\n",
              "         [0.1000],\n",
              "         [0.1200],\n",
              "         [0.1400],\n",
              "         [0.1600],\n",
              "         [0.1800]]),\n",
              " tensor([[0.3000],\n",
              "         [0.3140],\n",
              "         [0.3280],\n",
              "         [0.3420],\n",
              "         [0.3560],\n",
              "         [0.3700],\n",
              "         [0.3840],\n",
              "         [0.3980],\n",
              "         [0.4120],\n",
              "         [0.4260]]),\n",
              " torch.Size([50, 1]))"
            ]
          },
          "metadata": {},
          "execution_count": 5
        }
      ]
    },
    {
      "cell_type": "markdown",
      "source": [
        "https://www.learnpytorch.io/01_pytorch_workflow/#split-data-into-training-and-test-sets"
      ],
      "metadata": {
        "id": "fwhst61RsaYG"
      }
    },
    {
      "cell_type": "code",
      "source": [
        "# Create train/test split\n",
        "train_split = int(0.8 * len(X)) # 80% of data used for training set, 20% for testing \n",
        "X_train, y_train = X[:train_split], y[:train_split]\n",
        "X_test, y_test = X[train_split:], y[train_split:]\n",
        "\n",
        "len(X_train), len(y_train), len(X_test), len(y_test)"
      ],
      "metadata": {
        "id": "FonFnQxnosoc",
        "colab": {
          "base_uri": "https://localhost:8080/"
        },
        "outputId": "74e2709a-031d-4b54-ee0e-0bd1ec25af52"
      },
      "execution_count": 6,
      "outputs": [
        {
          "output_type": "execute_result",
          "data": {
            "text/plain": [
              "(40, 40, 10, 10)"
            ]
          },
          "metadata": {},
          "execution_count": 6
        }
      ]
    },
    {
      "cell_type": "code",
      "source": [
        "def plot_predictions(train_data=X_train, \n",
        "                     train_labels=y_train, \n",
        "                     test_data=X_test, \n",
        "                     test_labels=y_test, \n",
        "                     predictions=None):\n",
        "  \"\"\"\n",
        "  Plots training data, test data and compares predictions.\n",
        "  \"\"\"\n",
        "  plt.figure(figsize=(10, 7))\n",
        "\n",
        "  # Plot training data in blue\n",
        "  plt.scatter(train_data, train_labels, c=\"b\", s=4, label=\"Training data\")\n",
        "  \n",
        "  # Plot test data in green\n",
        "  plt.scatter(test_data, test_labels, c=\"g\", s=4, label=\"Testing data\")\n",
        "\n",
        "  if predictions is not None:\n",
        "    # Plot the predictions in red (predictions were made on the test data)\n",
        "    plt.scatter(test_data, predictions, c=\"r\", s=4, label=\"Predictions\")\n",
        "\n",
        "  # Show the legend\n",
        "  # The prop keyword is used to change the font size property. It is used in Matplotlib as Using a prop keyword for changing the font size in legend.\n",
        "  plt.legend(prop={\"size\": 14});"
      ],
      "metadata": {
        "id": "qMv7TibrsTaX"
      },
      "execution_count": 7,
      "outputs": []
    },
    {
      "cell_type": "code",
      "source": [
        "plot_predictions()"
      ],
      "metadata": {
        "colab": {
          "base_uri": "https://localhost:8080/",
          "height": 599
        },
        "id": "BqlnRZCQtJMB",
        "outputId": "f91f636e-747d-45d9-ae1b-e36e1df34e34"
      },
      "execution_count": 8,
      "outputs": [
        {
          "output_type": "display_data",
          "data": {
            "text/plain": [
              "<Figure size 1000x700 with 1 Axes>"
            ],
            "image/png": "[encoded data removed]"
          },
          "metadata": {}
        }
      ]
    },
    {
      "cell_type": "markdown",
      "source": [
        "Parameters are Tensor subclasses, that have a very special property when used with Module s - when they’re assigned as Module attributes they are automatically added to the list of its parameters, and will appear e.g. in parameters() iterator. Assigning a Tensor doesn’t have such effect. This is because one might want to cache some temporary state, like last hidden state of the RNN, in the model. If there was no such class as Parameter, these temporaries would get registered too."
      ],
      "metadata": {
        "id": "d12KFXFWO4Pe"
      }
    },
    {
      "cell_type": "code",
      "source": [
        "# Create a Linear Regression model class\n",
        "class LinearRegressionModel(nn.Module): # <- almost everything in PyTorch is a nn.Module (think of this as neural network lego blocks)\n",
        "    def __init__(self):\n",
        "        super().__init__() \n",
        "        self.weights = nn.Parameter(torch.randn(1, # <- start with random weights (this will get adjusted as the model learns)\n",
        "                                                dtype=torch.float), # <- PyTorch loves float32 by default\n",
        "                                    requires_grad=True) # <- can we update this value with gradient descent?)\n",
        "\n",
        "        self.bias = nn.Parameter(torch.randn(1, # <- start with random bias (this will get adjusted as the model learns)\n",
        "                                            dtype=torch.float), # <- PyTorch loves float32 by default\n",
        "                                requires_grad=True) # <- can we update this value with gradient descent?))\n",
        "\n",
        "    # Forward defines the computation in the model\n",
        "    def forward(self, x: torch.Tensor) -> torch.Tensor: # <- \"x\" is the input data (e.g. training/testing features)\n",
        "        return self.weights * x + self.bias # <- this is the linear regression formula (y = m*x + b)"
      ],
      "metadata": {
        "id": "pPOIjE4ztLaq"
      },
      "execution_count": 9,
      "outputs": []
    },
    {
      "cell_type": "markdown",
      "source": [
        "* nn.Module contains the larger building blocks (layers)\n",
        "* nn.Parameter contains the smaller parameters like weights and biases (put these together to make nn.Module(s))\n",
        "* forward() tells the larger blocks how to make calculations on inputs (tensors full of data) within nn.Module(s)\n",
        "* torch.optim contains optimization methods on how to improve the parameters within nn.Parameter to better represent input data"
      ],
      "metadata": {
        "id": "-4yANHuc8qXV"
      }
    },
    {
      "cell_type": "markdown",
      "source": [
        "# Checking the contents of a PyTorch model\n",
        "Now we've got these out of the way, let's create a model instance with the class we've made and check its parameters using .parameters()."
      ],
      "metadata": {
        "id": "fvjsIVGkqwN1"
      }
    },
    {
      "cell_type": "code",
      "source": [
        "# Set manual seed since nn.Parameter are randomly initialzied\n",
        "torch.manual_seed(42)\n",
        "\n",
        "# Create an instance of the model (this is a subclass of nn.Module that contains nn.Parameter(s))\n",
        "model_0 = LinearRegressionModel()\n",
        "\n",
        "# Check the nn.Parameter(s) within the nn.Module subclass we created\n",
        "list(model_0.parameters())"
      ],
      "metadata": {
        "id": "MZ90_rx_r96y",
        "outputId": "22749575-1d39-4b8f-ec67-c59b081077bb",
        "colab": {
          "base_uri": "https://localhost:8080/"
        }
      },
      "execution_count": 10,
      "outputs": [
        {
          "output_type": "execute_result",
          "data": {
            "text/plain": [
              "[Parameter containing:\n",
              " tensor([0.3367], requires_grad=True),\n",
              " Parameter containing:\n",
              " tensor([0.1288], requires_grad=True)]"
            ]
          },
          "metadata": {},
          "execution_count": 10
        }
      ]
    },
    {
      "cell_type": "markdown",
      "source": [
        "We can also get the state (what the model contains) of the model using `.state_dict()`."
      ],
      "metadata": {
        "id": "wAAiwczQsDkh"
      }
    },
    {
      "cell_type": "code",
      "source": [
        "model_0.state_dict()"
      ],
      "metadata": {
        "id": "_blnRSWQsIpd",
        "outputId": "76cec6f4-9529-4c09-bc58-fb93e64ef6cb",
        "colab": {
          "base_uri": "https://localhost:8080/"
        }
      },
      "execution_count": 11,
      "outputs": [
        {
          "output_type": "execute_result",
          "data": {
            "text/plain": [
              "OrderedDict([('weights', tensor([0.3367])), ('bias', tensor([0.1288]))])"
            ]
          },
          "metadata": {},
          "execution_count": 11
        }
      ]
    },
    {
      "cell_type": "markdown",
      "source": [
        "\n",
        "Notice how the values for weights and bias from model_0.state_dict() come out as random float tensors?\n",
        "\n",
        "This is becuase we initialized them above using torch.randn().\n",
        "\n",
        "Essentially we want to start from random parameters and get the model to update them towards parameters that fit our data best (the hardcoded weight and bias values we set when creating our straight line data)."
      ],
      "metadata": {
        "id": "CRfZG_ZdsVaB"
      }
    },
    {
      "cell_type": "markdown",
      "source": [
        "Because our model starts with random values, right now it'll have poor predictive power."
      ],
      "metadata": {
        "id": "bPhrraKhslJg"
      }
    },
    {
      "cell_type": "code",
      "source": [
        "# Making prediction\n",
        "with torch.inference_mode(): \n",
        "    y_preds = model_0(X_test)"
      ],
      "metadata": {
        "id": "W1Dxzi92stWf"
      },
      "execution_count": 12,
      "outputs": []
    },
    {
      "cell_type": "markdown",
      "source": [
        "why we used this to test model becz we dont want to track the gd of the number which we are just testing\n",
        "more here  -  https://twitter.com/PyTorch/status/1437838231505096708?s=20"
      ],
      "metadata": {
        "id": "Tjj6RiXv3rfW"
      }
    },
    {
      "cell_type": "code",
      "source": [
        "y_preds , y_test"
      ],
      "metadata": {
        "id": "0b7M6hiR01cW",
        "outputId": "e83643a6-8cdf-484d-e286-fcb9a1ccf1c6",
        "colab": {
          "base_uri": "https://localhost:8080/"
        }
      },
      "execution_count": 13,
      "outputs": [
        {
          "output_type": "execute_result",
          "data": {
            "text/plain": [
              "(tensor([[0.3982],\n",
              "         [0.4049],\n",
              "         [0.4116],\n",
              "         [0.4184],\n",
              "         [0.4251],\n",
              "         [0.4318],\n",
              "         [0.4386],\n",
              "         [0.4453],\n",
              "         [0.4520],\n",
              "         [0.4588]]),\n",
              " tensor([[0.8600],\n",
              "         [0.8740],\n",
              "         [0.8880],\n",
              "         [0.9020],\n",
              "         [0.9160],\n",
              "         [0.9300],\n",
              "         [0.9440],\n",
              "         [0.9580],\n",
              "         [0.9720],\n",
              "         [0.9860]]))"
            ]
          },
          "metadata": {},
          "execution_count": 13
        }
      ]
    },
    {
      "cell_type": "code",
      "source": [
        "plot_predictions(predictions=y_preds)"
      ],
      "metadata": {
        "id": "CADZbMwn06g-",
        "outputId": "c706a6b9-3bcc-4dfc-9dc7-5c52c5b31699",
        "colab": {
          "base_uri": "https://localhost:8080/",
          "height": 599
        }
      },
      "execution_count": 14,
      "outputs": [
        {
          "output_type": "display_data",
          "data": {
            "text/plain": [
              "<Figure size 1000x700 with 1 Axes>"
            ],
            "image/png": "[encoded data removed]"
          },
          "metadata": {}
        }
      ]
    },
    {
      "cell_type": "markdown",
      "source": [
        "\n",
        "Notice how there's one prediction value per testing sample.\n",
        "\n",
        "This is because of the kind of data we're using. For our straight line, one X value maps to one y value.\n",
        "\n",
        "However, machine learning models are very flexible. You could have 100 X values mapping to one, two, three or 10 y values. It all depends on what you're working on"
      ],
      "metadata": {
        "id": "QlyWCHMF1Uag"
      }
    },
    {
      "cell_type": "code",
      "source": [
        "y_test - y_preds"
      ],
      "metadata": {
        "id": "SGrOQ5vl2QOL",
        "outputId": "1f39cf29-8a41-4b87-8219-5cb19c4c8570",
        "colab": {
          "base_uri": "https://localhost:8080/"
        }
      },
      "execution_count": 15,
      "outputs": [
        {
          "output_type": "execute_result",
          "data": {
            "text/plain": [
              "tensor([[0.4618],\n",
              "        [0.4691],\n",
              "        [0.4764],\n",
              "        [0.4836],\n",
              "        [0.4909],\n",
              "        [0.4982],\n",
              "        [0.5054],\n",
              "        [0.5127],\n",
              "        [0.5200],\n",
              "        [0.5272]])"
            ]
          },
          "metadata": {},
          "execution_count": 15
        }
      ]
    },
    {
      "cell_type": "markdown",
      "source": [
        "#  Train model¶\n",
        "Right now our model is making predictions using random parameters to make calculations, it's basically guessing (randomly).\n",
        "\n",
        "To fix that, we can update its internal parameters (I also refer to parameters as patterns), the weights and bias values we set randomly using nn.Parameter() and torch.randn() to be something that better represents the data.\n",
        "\n",
        "We could hard code this (since we know the default values weight=0.7 and bias=0.3) but where's the fun in that?\n",
        "\n",
        "Much of the time you won't know what the ideal parameters are for a model.\n",
        "\n",
        "Instead, it's much more fun to write code to see if the model can try and figure them out itself."
      ],
      "metadata": {
        "id": "janeyG2x2xdc"
      }
    },
    {
      "cell_type": "markdown",
      "source": [
        "\n",
        "#Creating a loss function and optimizer in PyTorch\n",
        "For our model to update its parameters on its own, we'll need to add a few more things to our recipe.\n",
        "\n",
        "And that's a loss function as well as an optimizer.\n",
        "\n",
        "MOre - https://www.learnpytorch.io/01_pytorch_workflow/#2-build-model"
      ],
      "metadata": {
        "id": "6TCsvnZb6Ecb"
      }
    },
    {
      "cell_type": "markdown",
      "source": [
        "Loss MEtric:\n",
        "\n",
        "Mean absolute error (MAE) for regression problems (torch.nn.L1Loss()).\n",
        "\n",
        " Binary cross entropy for binary classification problems (torch.nn.BCELoss()).\n",
        "\n",
        " For Optimisation :\n",
        "\n",
        " Stochastic gradient descent (torch.optim.SGD()). \n",
        " \n",
        " Adam optimizer (torch.optim.Adam())."
      ],
      "metadata": {
        "id": "08g3BjWE6N9J"
      }
    },
    {
      "cell_type": "markdown",
      "source": [
        "For our problem, since we're predicting a number, let's use MAE (which is under torch.nn.L1Loss()) in PyTorch as our loss function."
      ],
      "metadata": {
        "id": "NFxY7uuD63YA"
      }
    },
    {
      "cell_type": "markdown",
      "source": [
        "Mean absolute error (MAE, in PyTorch: torch.nn.L1Loss) measures the absolute difference between two points (predictions and labels) and then takes the mean across all examples."
      ],
      "metadata": {
        "id": "qfpCkISE7KOs"
      }
    },
    {
      "cell_type": "markdown",
      "source": [
        "And we'll use SGD, torch.optim.SGD(params, lr) where:\n",
        "\n",
        "params is the target model parameters you'd like to optimize (e.g. the weights and bias values we randomly set before).\n",
        "\n",
        "lr is the learning rate you'd like the optimizer to update the parameters at, higher means the optimizer will try larger updates (these can sometimes be too large and the optimizer will fail to work), lower means the optimizer will try smaller updates (these can sometimes be too small and the optimizer will take too long to find the ideal values).\n",
        "\n",
        " The learning rate is considered a hyperparameter (because it's set by a machine learning engineer). Common starting values for the learning rate are 0.01, 0.001, 0.0001, however, these can also be adjusted over time (this is called learning rate scheduling)."
      ],
      "metadata": {
        "id": "abKNyI6H7OmA"
      }
    },
    {
      "cell_type": "code",
      "source": [
        "# Create the loss function\n",
        "loss_fn = nn.MSELoss() # MAE loss is same as L1Loss\n",
        "\n",
        "# Create the optimizer\n",
        "optimizer = torch.optim.SGD(params=model_0.parameters(), # parameters of target model to optimize\n",
        "                            lr=0.01) # learning rate (how much the optimizer should change parameters at each step, higher=more (less stable), lower=less (might take a long time))"
      ],
      "metadata": {
        "id": "OcN0IfE-7bHX"
      },
      "execution_count": 17,
      "outputs": []
    },
    {
      "cell_type": "markdown",
      "source": [
        "# creating an optimisation loop in pytorch\n",
        "The training loop involves the model going through the training data and learning the relationships between the features and labels.\n",
        "\n",
        "The testing loop involves going through the testing data and evaluating how good the patterns are that the model learned on the training data (the model never see's the testing data during training).\n",
        "\n",
        "Each of these is called a \"loop\" because we want our model to look (loop through) at each sample in each dataset."
      ],
      "metadata": {
        "id": "JYtj0FAk7lSJ"
      }
    },
    {
      "cell_type": "markdown",
      "source": [
        "1\tForward pass\tThe model goes through all of the training data once, performing its forward() function calculations.\tmodel(x_train)\n",
        "\n",
        "2\tCalculate the loss\tThe model's outputs (predictions) are compared to the ground truth and evaluated to see how wrong they are.\tloss = loss_fn(y_pred, y_train)\n",
        "\n",
        "3\tZero gradients\tThe optimizers gradients are set to zero (they are accumulated by default) so they can be recalculated for the specific training step.\toptimizer.zero_grad()\n",
        "\n",
        "4\tPerform backpropagation on the loss\tComputes the gradient of the loss with respect for every model parameter to be updated (each parameter with requires_grad=True). This is known as backpropagation, hence \"backwards\".\tloss.backward()\n",
        "\n",
        "5\tUpdate the optimizer (gradient descent)\tUpdate the parameters with requires_grad=True with respect to the loss gradients in order to improve them.\toptimizer.step()"
      ],
      "metadata": {
        "id": "WZxJKD8DBcdk"
      }
    },
    {
      "cell_type": "markdown",
      "source": [
        "And on the ordering of things, the above is a good default order but you may see slightly different orders. Some rules of thumb:\n",
        "\n",
        "Calculate the loss (loss = ...) before performing backpropagation on it (loss.backward()).\n",
        "\n",
        "Zero gradients (optimizer.zero_grad()) before stepping them (optimizer.step()).\n",
        "\n",
        "Step the optimizer (optimizer.step()) after performing backpropagation on the loss (loss.backward())."
      ],
      "metadata": {
        "id": "rBur0SwMVMCb"
      }
    },
    {
      "cell_type": "code",
      "source": [
        "# epoch is the number of time u want to loop through the data \n",
        "epochs= 1632\n",
        "\n",
        "# Create empty loss lists to track values\n",
        "train_loss_values = []\n",
        "test_loss_values = []\n",
        "epoch_count = []\n",
        "\n",
        "\n",
        "# looping through the data point\n",
        "for epoch in range(epochs):\n",
        "  # stting the model to training mode to give all the parameter which require Grad to grad\n",
        "  model_0.train()\n",
        "\n",
        "  # GOing through the forward pass\n",
        "  y_pred= model_0(X_train)\n",
        "\n",
        "  # claculating the loss via loss function of the pytorch\n",
        "  loss = loss_fn(y_pred,y_train)\n",
        "\n",
        "  # Zero grad of the optimizer\n",
        "  optimizer.zero_grad() # this is before the step as we want to start fresh agin when we are loopint through the data \n",
        "\n",
        "  # PErofrm backpropagation on the loss w.r.t loss of the model\n",
        "  loss.backward()\n",
        "\n",
        "  # Progress the optimizer (perform GD)\n",
        "  optimizer.step() # how the optimizer changes will accumulate through the loop so for better computing if we want to know the GDs in each step we dont need to do this\n",
        "  # \n",
        "\n",
        "# ---------------------------------------------------------------------------------------------------------------------------\n",
        "  # Testing phase\n",
        "\n",
        "  model_0.eval()# this turns off the various model settings which are not needed for the testing purpose\n",
        "\n",
        "\n",
        "#  we can write the testing code differntly not like this down here\n",
        "\n",
        "  with torch.inference_mode():\n",
        "    # 1. Forward pass on test data\n",
        "    test_pred = model_0(X_test)\n",
        "\n",
        "    # 2. Caculate loss on test data\n",
        "    test_loss = loss_fn(test_pred, y_test.type(torch.float)) # predictions come in torch.float datatype, so comparisons need to be done with tensors of the same type\n",
        "\n",
        "    # Print out what's happening\n",
        "    if epoch % 10 == 0:\n",
        "          epoch_count.append(epoch)\n",
        "          train_loss_values.append(loss.detach().numpy())\n",
        "          test_loss_values.append(test_loss.detach().numpy())\n",
        "          print(f\"Epoch: {epoch} | MSE Train Loss: {loss} | MSE Test Loss: {test_loss} \")"
      ],
      "metadata": {
        "id": "C-18N1BpCmXd",
        "outputId": "bb1763e2-0810-414c-e458-40a6efd9dddb",
        "colab": {
          "base_uri": "https://localhost:8080/"
        }
      },
      "execution_count": 48,
      "outputs": [
        {
          "output_type": "stream",
          "name": "stdout",
          "text": [
            "Epoch: 0 | MSE Train Loss: 5.08644237839917e-10 | MSE Test Loss: 2.214105565556679e-09 \n",
            "Epoch: 10 | MSE Train Loss: 5.022384175212835e-10 | MSE Test Loss: 2.1905666169885762e-09 \n",
            "Epoch: 20 | MSE Train Loss: 4.960509225604426e-10 | MSE Test Loss: 2.170347457308708e-09 \n",
            "Epoch: 30 | MSE Train Loss: 4.896903438300626e-10 | MSE Test Loss: 2.1490553780978416e-09 \n",
            "Epoch: 40 | MSE Train Loss: 4.833170530460507e-10 | MSE Test Loss: 2.126754328202196e-09 \n",
            "Epoch: 50 | MSE Train Loss: 4.769684092131854e-10 | MSE Test Loss: 2.105678076347317e-09 \n",
            "Epoch: 60 | MSE Train Loss: 4.709033163408094e-10 | MSE Test Loss: 2.0834254321755452e-09 \n",
            "Epoch: 70 | MSE Train Loss: 4.6490669647347715e-10 | MSE Test Loss: 2.0618675655725838e-09 \n",
            "Epoch: 80 | MSE Train Loss: 4.5901121792368826e-10 | MSE Test Loss: 2.043212932179017e-09 \n",
            "Epoch: 90 | MSE Train Loss: 4.5268980231050193e-10 | MSE Test Loss: 2.021556921860679e-09 \n",
            "Epoch: 100 | MSE Train Loss: 4.4660392051198983e-10 | MSE Test Loss: 1.998587961793419e-09 \n",
            "Epoch: 110 | MSE Train Loss: 4.4066314486279623e-10 | MSE Test Loss: 1.976225849631419e-09 \n",
            "Epoch: 120 | MSE Train Loss: 4.3493014745266123e-10 | MSE Test Loss: 1.957024098331317e-09 \n",
            "Epoch: 130 | MSE Train Loss: 4.2903822161655114e-10 | MSE Test Loss: 1.936809157498942e-09 \n",
            "Epoch: 140 | MSE Train Loss: 4.2313583192843396e-10 | MSE Test Loss: 1.9156420894006487e-09 \n",
            "Epoch: 150 | MSE Train Loss: 4.172529821655502e-10 | MSE Test Loss: 1.895643197968866e-09 \n",
            "Epoch: 160 | MSE Train Loss: 4.1164938124893524e-10 | MSE Test Loss: 1.8745356378246925e-09 \n",
            "Epoch: 170 | MSE Train Loss: 4.0611283780300766e-10 | MSE Test Loss: 1.8540863289118192e-09 \n",
            "Epoch: 180 | MSE Train Loss: 4.0046005400640183e-10 | MSE Test Loss: 1.8323010886334146e-09 \n",
            "Epoch: 190 | MSE Train Loss: 3.9482514480049247e-10 | MSE Test Loss: 1.8077468411092923e-09 \n",
            "Epoch: 200 | MSE Train Loss: 3.894399525083969e-10 | MSE Test Loss: 1.781705782910592e-09 \n",
            "Epoch: 210 | MSE Train Loss: 3.8408351499263915e-10 | MSE Test Loss: 1.7570076504824783e-09 \n",
            "Epoch: 220 | MSE Train Loss: 3.7869485325359165e-10 | MSE Test Loss: 1.7310544109250259e-09 \n",
            "Epoch: 230 | MSE Train Loss: 3.7345732062377124e-10 | MSE Test Loss: 1.7061327906020551e-09 \n",
            "Epoch: 240 | MSE Train Loss: 3.680588056553802e-10 | MSE Test Loss: 1.6834921234831768e-09 \n",
            "Epoch: 250 | MSE Train Loss: 3.626840494597161e-10 | MSE Test Loss: 1.6578542982870204e-09 \n",
            "Epoch: 260 | MSE Train Loss: 3.5745975623946435e-10 | MSE Test Loss: 1.6337000641186705e-09 \n",
            "Epoch: 270 | MSE Train Loss: 3.524961433853946e-10 | MSE Test Loss: 1.6079987341655055e-09 \n",
            "Epoch: 280 | MSE Train Loss: 3.470993492626917e-10 | MSE Test Loss: 1.5844822121025004e-09 \n",
            "Epoch: 290 | MSE Train Loss: 3.421172234396863e-10 | MSE Test Loss: 1.5616545834262752e-09 \n",
            "Epoch: 300 | MSE Train Loss: 3.3703836943566046e-10 | MSE Test Loss: 1.5374574946491748e-09 \n",
            "Epoch: 310 | MSE Train Loss: 3.319531594048186e-10 | MSE Test Loss: 1.514520731049629e-09 \n",
            "Epoch: 320 | MSE Train Loss: 3.270603510241443e-10 | MSE Test Loss: 1.492241663569871e-09 \n",
            "Epoch: 330 | MSE Train Loss: 3.221960753752029e-10 | MSE Test Loss: 1.4673322557001711e-09 \n",
            "Epoch: 340 | MSE Train Loss: 3.171986839856089e-10 | MSE Test Loss: 1.444394492899903e-09 \n",
            "Epoch: 350 | MSE Train Loss: 3.1229793751030854e-10 | MSE Test Loss: 1.421600281936719e-09 \n",
            "Epoch: 360 | MSE Train Loss: 3.0745539447707415e-10 | MSE Test Loss: 1.399856230932528e-09 \n",
            "Epoch: 370 | MSE Train Loss: 3.026868200528554e-10 | MSE Test Loss: 1.379426683989493e-09 \n",
            "Epoch: 380 | MSE Train Loss: 2.979674840197788e-10 | MSE Test Loss: 1.354661494090692e-09 \n",
            "Epoch: 390 | MSE Train Loss: 2.931022369256908e-10 | MSE Test Loss: 1.3335604842623638e-09 \n",
            "Epoch: 400 | MSE Train Loss: 2.8847163546785737e-10 | MSE Test Loss: 1.3112071428622585e-09 \n",
            "Epoch: 410 | MSE Train Loss: 2.8386343275954573e-10 | MSE Test Loss: 1.2900318591135829e-09 \n",
            "Epoch: 420 | MSE Train Loss: 2.7923291456843913e-10 | MSE Test Loss: 1.267807525628939e-09 \n",
            "Epoch: 430 | MSE Train Loss: 2.747380656309417e-10 | MSE Test Loss: 1.246492686846068e-09 \n",
            "Epoch: 440 | MSE Train Loss: 2.701174284247543e-10 | MSE Test Loss: 1.227151713578678e-09 \n",
            "Epoch: 450 | MSE Train Loss: 2.655167752330101e-10 | MSE Test Loss: 1.2052769893244886e-09 \n",
            "Epoch: 460 | MSE Train Loss: 2.6104904349288915e-10 | MSE Test Loss: 1.18469534182708e-09 \n",
            "Epoch: 470 | MSE Train Loss: 2.568086021614846e-10 | MSE Test Loss: 1.162823837219662e-09 \n",
            "Epoch: 480 | MSE Train Loss: 2.52206894257867e-10 | MSE Test Loss: 1.1428387125533845e-09 \n",
            "Epoch: 490 | MSE Train Loss: 2.4796817377215064e-10 | MSE Test Loss: 1.1234643215729534e-09 \n",
            "Epoch: 500 | MSE Train Loss: 2.43648018427578e-10 | MSE Test Loss: 1.1029548385721455e-09 \n",
            "Epoch: 510 | MSE Train Loss: 2.3932769654955166e-10 | MSE Test Loss: 1.0835410346743402e-09 \n",
            "Epoch: 520 | MSE Train Loss: 2.351749350815169e-10 | MSE Test Loss: 1.0647095427529507e-09 \n",
            "Epoch: 530 | MSE Train Loss: 2.3105990731853154e-10 | MSE Test Loss: 1.0436853603579266e-09 \n",
            "Epoch: 540 | MSE Train Loss: 2.2683062372852447e-10 | MSE Test Loss: 1.0243542680754558e-09 \n",
            "Epoch: 550 | MSE Train Loss: 2.2268945021330921e-10 | MSE Test Loss: 1.0051725007897971e-09 \n",
            "Epoch: 560 | MSE Train Loss: 2.1860380172711302e-10 | MSE Test Loss: 9.86901560473541e-10 \n",
            "Epoch: 570 | MSE Train Loss: 2.145864597125069e-10 | MSE Test Loss: 9.697604941294458e-10 \n",
            "Epoch: 580 | MSE Train Loss: 2.1062365740398548e-10 | MSE Test Loss: 9.490139785128804e-10 \n",
            "Epoch: 590 | MSE Train Loss: 2.065281001772945e-10 | MSE Test Loss: 9.313663174026487e-10 \n",
            "Epoch: 600 | MSE Train Loss: 2.0265208955372316e-10 | MSE Test Loss: 9.127006928011383e-10 \n",
            "Epoch: 610 | MSE Train Loss: 1.9879212165285765e-10 | MSE Test Loss: 8.95048313243052e-10 \n",
            "Epoch: 620 | MSE Train Loss: 1.9491974700969195e-10 | MSE Test Loss: 8.765528858312166e-10 \n",
            "Epoch: 630 | MSE Train Loss: 1.9116756788672973e-10 | MSE Test Loss: 8.588447175661429e-10 \n",
            "Epoch: 640 | MSE Train Loss: 1.873247945649581e-10 | MSE Test Loss: 8.428034936613926e-10 \n",
            "Epoch: 650 | MSE Train Loss: 1.8349829988828503e-10 | MSE Test Loss: 8.246917593268677e-10 \n",
            "Epoch: 660 | MSE Train Loss: 1.797871157505071e-10 | MSE Test Loss: 8.076828095227029e-10 \n",
            "Epoch: 670 | MSE Train Loss: 1.7626981818619214e-10 | MSE Test Loss: 7.896410747498805e-10 \n",
            "Epoch: 680 | MSE Train Loss: 1.7246322425723548e-10 | MSE Test Loss: 7.73187402991482e-10 \n",
            "Epoch: 690 | MSE Train Loss: 1.689679091088081e-10 | MSE Test Loss: 7.57266249706845e-10 \n",
            "Epoch: 700 | MSE Train Loss: 1.6540642466811306e-10 | MSE Test Loss: 7.40444483504632e-10 \n",
            "Epoch: 710 | MSE Train Loss: 1.6185100482069004e-10 | MSE Test Loss: 7.24553583797416e-10 \n",
            "Epoch: 720 | MSE Train Loss: 1.5843826250971915e-10 | MSE Test Loss: 7.091696119232438e-10 \n",
            "Epoch: 730 | MSE Train Loss: 1.5507251038826553e-10 | MSE Test Loss: 6.920305994917442e-10 \n",
            "Epoch: 740 | MSE Train Loss: 1.5161132072005756e-10 | MSE Test Loss: 6.763062887493732e-10 \n",
            "Epoch: 750 | MSE Train Loss: 1.4822972016492741e-10 | MSE Test Loss: 6.607369096300886e-10 \n",
            "Epoch: 760 | MSE Train Loss: 1.4490098010355723e-10 | MSE Test Loss: 6.459391355129185e-10 \n",
            "Epoch: 770 | MSE Train Loss: 1.416348566207759e-10 | MSE Test Loss: 6.320863832343093e-10 \n",
            "Epoch: 780 | MSE Train Loss: 1.384286019145975e-10 | MSE Test Loss: 6.153587639445846e-10 \n",
            "Epoch: 790 | MSE Train Loss: 1.3510274843309134e-10 | MSE Test Loss: 6.011642850189958e-10 \n",
            "Epoch: 800 | MSE Train Loss: 1.319813425215699e-10 | MSE Test Loss: 5.861863772160802e-10 \n",
            "Epoch: 810 | MSE Train Loss: 1.2886955391699928e-10 | MSE Test Loss: 5.720569018485833e-10 \n",
            "Epoch: 820 | MSE Train Loss: 1.257553366995623e-10 | MSE Test Loss: 5.572903805095564e-10 \n",
            "Epoch: 830 | MSE Train Loss: 1.2274585514671088e-10 | MSE Test Loss: 5.431889382734312e-10 \n",
            "Epoch: 840 | MSE Train Loss: 1.1968095958714287e-10 | MSE Test Loss: 5.304475192424718e-10 \n",
            "Epoch: 850 | MSE Train Loss: 1.166285956699653e-10 | MSE Test Loss: 5.160988303387626e-10 \n",
            "Epoch: 860 | MSE Train Loss: 1.1367395913453038e-10 | MSE Test Loss: 5.026624672055391e-10 \n",
            "Epoch: 870 | MSE Train Loss: 1.1087981921509282e-10 | MSE Test Loss: 4.884505022673125e-10 \n",
            "Epoch: 880 | MSE Train Loss: 1.0786831150522147e-10 | MSE Test Loss: 4.755282279056416e-10 \n",
            "Epoch: 890 | MSE Train Loss: 1.051164016940831e-10 | MSE Test Loss: 4.630603400723743e-10 \n",
            "Epoch: 900 | MSE Train Loss: 1.0231360203505346e-10 | MSE Test Loss: 4.4992631842433184e-10 \n",
            "Epoch: 910 | MSE Train Loss: 9.952307727933984e-11 | MSE Test Loss: 4.375582673965539e-10 \n",
            "Epoch: 920 | MSE Train Loss: 9.685037494211457e-11 | MSE Test Loss: 4.256218433251746e-10 \n",
            "Epoch: 930 | MSE Train Loss: 9.423388458440485e-11 | MSE Test Loss: 4.1236808412392634e-10 \n",
            "Epoch: 940 | MSE Train Loss: 9.15407957768899e-11 | MSE Test Loss: 4.0025049941050383e-10 \n",
            "Epoch: 950 | MSE Train Loss: 8.891876124295095e-11 | MSE Test Loss: 3.8829348070201775e-10 \n",
            "Epoch: 960 | MSE Train Loss: 8.634692960640677e-11 | MSE Test Loss: 3.7696884502835815e-10 \n",
            "Epoch: 970 | MSE Train Loss: 8.383203159434416e-11 | MSE Test Loss: 3.6640451783753747e-10 \n",
            "Epoch: 980 | MSE Train Loss: 8.138232449050875e-11 | MSE Test Loss: 3.5369573936350207e-10 \n",
            "Epoch: 990 | MSE Train Loss: 7.88261678152935e-11 | MSE Test Loss: 3.4295447037813176e-10 \n",
            "Epoch: 1000 | MSE Train Loss: 7.645935273803417e-11 | MSE Test Loss: 3.3166430712938677e-10 \n",
            "Epoch: 1010 | MSE Train Loss: 7.409577118533406e-11 | MSE Test Loss: 3.210576804413279e-10 \n",
            "Epoch: 1020 | MSE Train Loss: 7.173970445473188e-11 | MSE Test Loss: 3.100200929306851e-10 \n",
            "Epoch: 1030 | MSE Train Loss: 6.947291353309737e-11 | MSE Test Loss: 2.9952537672350843e-10 \n",
            "Epoch: 1040 | MSE Train Loss: 6.718588185794516e-11 | MSE Test Loss: 2.900836792996131e-10 \n",
            "Epoch: 1050 | MSE Train Loss: 6.490765563915701e-11 | MSE Test Loss: 2.794980358267196e-10 \n",
            "Epoch: 1060 | MSE Train Loss: 6.2709573644959e-11 | MSE Test Loss: 2.696342593644374e-10 \n",
            "Epoch: 1070 | MSE Train Loss: 6.063858443150494e-11 | MSE Test Loss: 2.5925217528310895e-10 \n",
            "Epoch: 1080 | MSE Train Loss: 5.956268811502241e-11 | MSE Test Loss: 2.561961198743745e-10 \n",
            "Epoch: 1090 | MSE Train Loss: 5.956268811502241e-11 | MSE Test Loss: 2.561961198743745e-10 \n",
            "Epoch: 1100 | MSE Train Loss: 5.956268811502241e-11 | MSE Test Loss: 2.561961198743745e-10 \n",
            "Epoch: 1110 | MSE Train Loss: 5.956268811502241e-11 | MSE Test Loss: 2.561961198743745e-10 \n",
            "Epoch: 1120 | MSE Train Loss: 5.956268811502241e-11 | MSE Test Loss: 2.561961198743745e-10 \n",
            "Epoch: 1130 | MSE Train Loss: 5.956268811502241e-11 | MSE Test Loss: 2.561961198743745e-10 \n",
            "Epoch: 1140 | MSE Train Loss: 5.956268811502241e-11 | MSE Test Loss: 2.561961198743745e-10 \n",
            "Epoch: 1150 | MSE Train Loss: 5.956268811502241e-11 | MSE Test Loss: 2.561961198743745e-10 \n",
            "Epoch: 1160 | MSE Train Loss: 5.956268811502241e-11 | MSE Test Loss: 2.561961198743745e-10 \n",
            "Epoch: 1170 | MSE Train Loss: 5.956268811502241e-11 | MSE Test Loss: 2.561961198743745e-10 \n",
            "Epoch: 1180 | MSE Train Loss: 5.956268811502241e-11 | MSE Test Loss: 2.561961198743745e-10 \n",
            "Epoch: 1190 | MSE Train Loss: 5.956268811502241e-11 | MSE Test Loss: 2.561961198743745e-10 \n",
            "Epoch: 1200 | MSE Train Loss: 5.956268811502241e-11 | MSE Test Loss: 2.561961198743745e-10 \n",
            "Epoch: 1210 | MSE Train Loss: 5.956268811502241e-11 | MSE Test Loss: 2.561961198743745e-10 \n",
            "Epoch: 1220 | MSE Train Loss: 5.956268811502241e-11 | MSE Test Loss: 2.561961198743745e-10 \n",
            "Epoch: 1230 | MSE Train Loss: 5.956268811502241e-11 | MSE Test Loss: 2.561961198743745e-10 \n",
            "Epoch: 1240 | MSE Train Loss: 5.956268811502241e-11 | MSE Test Loss: 2.561961198743745e-10 \n",
            "Epoch: 1250 | MSE Train Loss: 5.956268811502241e-11 | MSE Test Loss: 2.561961198743745e-10 \n",
            "Epoch: 1260 | MSE Train Loss: 5.956268811502241e-11 | MSE Test Loss: 2.561961198743745e-10 \n",
            "Epoch: 1270 | MSE Train Loss: 5.956268811502241e-11 | MSE Test Loss: 2.561961198743745e-10 \n",
            "Epoch: 1280 | MSE Train Loss: 5.956268811502241e-11 | MSE Test Loss: 2.561961198743745e-10 \n",
            "Epoch: 1290 | MSE Train Loss: 5.956268811502241e-11 | MSE Test Loss: 2.561961198743745e-10 \n",
            "Epoch: 1300 | MSE Train Loss: 5.956268811502241e-11 | MSE Test Loss: 2.561961198743745e-10 \n",
            "Epoch: 1310 | MSE Train Loss: 5.956268811502241e-11 | MSE Test Loss: 2.561961198743745e-10 \n",
            "Epoch: 1320 | MSE Train Loss: 5.956268811502241e-11 | MSE Test Loss: 2.561961198743745e-10 \n",
            "Epoch: 1330 | MSE Train Loss: 5.956268811502241e-11 | MSE Test Loss: 2.561961198743745e-10 \n",
            "Epoch: 1340 | MSE Train Loss: 5.956268811502241e-11 | MSE Test Loss: 2.561961198743745e-10 \n",
            "Epoch: 1350 | MSE Train Loss: 5.956268811502241e-11 | MSE Test Loss: 2.561961198743745e-10 \n",
            "Epoch: 1360 | MSE Train Loss: 5.956268811502241e-11 | MSE Test Loss: 2.561961198743745e-10 \n",
            "Epoch: 1370 | MSE Train Loss: 5.956268811502241e-11 | MSE Test Loss: 2.561961198743745e-10 \n",
            "Epoch: 1380 | MSE Train Loss: 5.956268811502241e-11 | MSE Test Loss: 2.561961198743745e-10 \n",
            "Epoch: 1390 | MSE Train Loss: 5.956268811502241e-11 | MSE Test Loss: 2.561961198743745e-10 \n",
            "Epoch: 1400 | MSE Train Loss: 5.956268811502241e-11 | MSE Test Loss: 2.561961198743745e-10 \n",
            "Epoch: 1410 | MSE Train Loss: 5.956268811502241e-11 | MSE Test Loss: 2.561961198743745e-10 \n",
            "Epoch: 1420 | MSE Train Loss: 5.956268811502241e-11 | MSE Test Loss: 2.561961198743745e-10 \n",
            "Epoch: 1430 | MSE Train Loss: 5.956268811502241e-11 | MSE Test Loss: 2.561961198743745e-10 \n",
            "Epoch: 1440 | MSE Train Loss: 5.956268811502241e-11 | MSE Test Loss: 2.561961198743745e-10 \n",
            "Epoch: 1450 | MSE Train Loss: 5.956268811502241e-11 | MSE Test Loss: 2.561961198743745e-10 \n",
            "Epoch: 1460 | MSE Train Loss: 5.956268811502241e-11 | MSE Test Loss: 2.561961198743745e-10 \n",
            "Epoch: 1470 | MSE Train Loss: 5.956268811502241e-11 | MSE Test Loss: 2.561961198743745e-10 \n",
            "Epoch: 1480 | MSE Train Loss: 5.956268811502241e-11 | MSE Test Loss: 2.561961198743745e-10 \n",
            "Epoch: 1490 | MSE Train Loss: 5.956268811502241e-11 | MSE Test Loss: 2.561961198743745e-10 \n",
            "Epoch: 1500 | MSE Train Loss: 5.956268811502241e-11 | MSE Test Loss: 2.561961198743745e-10 \n",
            "Epoch: 1510 | MSE Train Loss: 5.956268811502241e-11 | MSE Test Loss: 2.561961198743745e-10 \n",
            "Epoch: 1520 | MSE Train Loss: 5.956268811502241e-11 | MSE Test Loss: 2.561961198743745e-10 \n",
            "Epoch: 1530 | MSE Train Loss: 5.956268811502241e-11 | MSE Test Loss: 2.561961198743745e-10 \n",
            "Epoch: 1540 | MSE Train Loss: 5.956268811502241e-11 | MSE Test Loss: 2.561961198743745e-10 \n",
            "Epoch: 1550 | MSE Train Loss: 5.956268811502241e-11 | MSE Test Loss: 2.561961198743745e-10 \n",
            "Epoch: 1560 | MSE Train Loss: 5.956268811502241e-11 | MSE Test Loss: 2.561961198743745e-10 \n",
            "Epoch: 1570 | MSE Train Loss: 5.956268811502241e-11 | MSE Test Loss: 2.561961198743745e-10 \n",
            "Epoch: 1580 | MSE Train Loss: 5.956268811502241e-11 | MSE Test Loss: 2.561961198743745e-10 \n",
            "Epoch: 1590 | MSE Train Loss: 5.956268811502241e-11 | MSE Test Loss: 2.561961198743745e-10 \n",
            "Epoch: 1600 | MSE Train Loss: 5.956268811502241e-11 | MSE Test Loss: 2.561961198743745e-10 \n",
            "Epoch: 1610 | MSE Train Loss: 5.956268811502241e-11 | MSE Test Loss: 2.561961198743745e-10 \n",
            "Epoch: 1620 | MSE Train Loss: 5.956268811502241e-11 | MSE Test Loss: 2.561961198743745e-10 \n",
            "Epoch: 1630 | MSE Train Loss: 5.956268811502241e-11 | MSE Test Loss: 2.561961198743745e-10 \n"
          ]
        }
      ]
    },
    {
      "cell_type": "code",
      "source": [
        "# Plot the loss curves\n",
        "plt.plot(epoch_count, train_loss_values, label=\"Train loss\")\n",
        "plt.plot(epoch_count, test_loss_values, label=\"Test loss\")\n",
        "plt.title(\"Training and test loss curves\")\n",
        "plt.ylabel(\"Loss\")\n",
        "plt.xlabel(\"Epochs\")\n",
        "plt.legend();"
      ],
      "metadata": {
        "id": "NsJ65O80taUr",
        "outputId": "36aa02a0-3ffb-4f07-a5e9-58b79d8c62ec",
        "colab": {
          "base_uri": "https://localhost:8080/",
          "height": 472
        }
      },
      "execution_count": 49,
      "outputs": [
        {
          "output_type": "display_data",
          "data": {
            "text/plain": [
              "<Figure size 640x480 with 1 Axes>"
            ],
            "image/png": "[encoded data removed]"
          },
          "metadata": {}
        }
      ]
    },
    {
      "cell_type": "markdown",
      "source": [
        "Nice! The loss curves show the loss going down over time. Remember, loss is the measure of how wrong your model is, so the lower the better.\n",
        "\n",
        "But why did the loss go down?\n",
        "\n",
        "Well, thanks to our loss function and optimizer, the model's internal parameters (weights and bias) were updated to better reflect the underlying patterns in the data.\n",
        "\n",
        "Let's inspect our model's .state_dict() to see see how close our model gets to the original values we set for weights and bias."
      ],
      "metadata": {
        "id": "BK4rY3vOD5Se"
      }
    },
    {
      "cell_type": "code",
      "source": [
        "# Find our model's learned parameters\n",
        "print(\"The model learned the following values for weights and bias:\")\n",
        "print(model_0.state_dict())\n",
        "print(\"\\nAnd the original values for weights and bias are:\")\n",
        "print(f\"weights: {weight}, bias: {bias}\")"
      ],
      "metadata": {
        "id": "_Nip7iL48OwV",
        "outputId": "31653720-9017-4791-a0e9-c2f29f14e6a8",
        "colab": {
          "base_uri": "https://localhost:8080/"
        }
      },
      "execution_count": 50,
      "outputs": [
        {
          "output_type": "stream",
          "name": "stdout",
          "text": [
            "The model learned the following values for weights and bias:\n",
            "OrderedDict([('weights', tensor([0.7000])), ('bias', tensor([0.3000]))])\n",
            "\n",
            "And the original values for weights and bias are:\n",
            "weights: 0.7, bias: 0.3\n"
          ]
        }
      ]
    },
    {
      "cell_type": "markdown",
      "source": [
        "Our model got very close to calculate the exact original values for weight and bias and after tweeking the epoch value from 100 to 1631 the model is doing perfect"
      ],
      "metadata": {
        "id": "cEIeIGJTEMii"
      }
    },
    {
      "cell_type": "markdown",
      "source": [
        "# Making predictions with a trained PyTorch model (inference)\n",
        "Once you've trained a model, you'll likely want to make predictions with it.\n",
        "\n",
        "We've already seen a glimpse of this in the training and testing code above, the steps to do it outside of the training/testing loop are similar.\n",
        "\n",
        "There are three things to remember when making predictions (also called performing inference) with a PyTorch model:\n",
        "\n",
        "Set the model in evaluation mode (model.eval()).\n",
        "\n",
        "Make the predictions using the inference mode context manager (with torch.inference_mode(): ...).\n",
        "\n",
        "All predictions should be made with objects on the same device (e.g. data and model on GPU only or data and model on CPU only).\n",
        "\n",
        "The first two items make sure all helpful calculations and settings PyTorch uses behind the scenes during training but aren't necessary for inference are turned off (this results in faster computation). And the third ensures that you won't run into cross-device errors."
      ],
      "metadata": {
        "id": "FWGfvh_2EMnR"
      }
    },
    {
      "cell_type": "code",
      "source": [
        "model_0.eval()\n",
        "\n",
        "with torch.inference_mode():\n",
        "  y_pred_new = model_0(X_test)\n",
        "\n",
        "print(y_pred_new)"
      ],
      "metadata": {
        "id": "kb6JcJZ99AaX",
        "outputId": "2c393706-31e0-44d9-b058-082a606b27c4",
        "colab": {
          "base_uri": "https://localhost:8080/"
        }
      },
      "execution_count": 53,
      "outputs": [
        {
          "output_type": "stream",
          "name": "stdout",
          "text": [
            "tensor([[0.8600],\n",
            "        [0.8740],\n",
            "        [0.8880],\n",
            "        [0.9020],\n",
            "        [0.9160],\n",
            "        [0.9300],\n",
            "        [0.9440],\n",
            "        [0.9580],\n",
            "        [0.9720],\n",
            "        [0.9860]])\n"
          ]
        }
      ]
    },
    {
      "cell_type": "code",
      "source": [
        "plot_predictions(predictions=y_pred_new)"
      ],
      "metadata": {
        "id": "_m0fSrtr7_p5",
        "outputId": "4067b1ff-b196-47a2-f271-a06d837b4a29",
        "colab": {
          "base_uri": "https://localhost:8080/",
          "height": 599
        }
      },
      "execution_count": 52,
      "outputs": [
        {
          "output_type": "display_data",
          "data": {
            "text/plain": [
              "<Figure size 1000x700 with 1 Axes>"
            ],
            "image/png": "[encoded data removed]"
          },
          "metadata": {}
        }
      ]
    },
    {
      "cell_type": "markdown",
      "source": [
        "#Saving and loading a PyTorch model\n",
        "If you've trained a PyTorch model, chances are you'll want to save it and export it somewhere.\n",
        "\n",
        "As in, you might train it on Google Colab or your local machine with a GPU but you'd like to now export it to some sort of application where others can use it.\n",
        "\n",
        "Or maybe you'd like to save your progress on a model and come back and load it back later.\n",
        "\n",
        "For saving and loading models in PyTorch, there are three main methods you should be aware of (all of below have been taken from the PyTorch saving and loading models guide):"
      ],
      "metadata": {
        "id": "Uath15149Yop"
      }
    },
    {
      "cell_type": "markdown",
      "source": [
        "PyTorch method\tWhat does it do?\n",
        "\n",
        "torch.save\tSaves a serialzed object to disk using Python's pickle utility. Models, tensors and various other Python objects like dictionaries can be saved using torch.save.\n",
        "\n",
        "torch.load\tUses pickle's unpickling features to deserialize and load pickled Python object files (like models, tensors or dictionaries) into memory. You can also set which device to load the object to (CPU, GPU etc).\n",
        "\n",
        "torch.nn.Module.load_state_dict\tLoads a model's parameter dictionary (model.state_dict()) using a saved state_dict() object."
      ],
      "metadata": {
        "id": "RgzpBQIIFETi"
      }
    },
    {
      "cell_type": "markdown",
      "source": [
        "`NOTE:` As stated in Python's pickle documentation, the pickle module is not secure. That means you should only ever unpickle (load) data you trust. That goes for loading PyTorch models as well. Only ever use saved PyTorch models from sources you trust."
      ],
      "metadata": {
        "id": "NBcpdrxUFPzZ"
      }
    },
    {
      "cell_type": "markdown",
      "source": [
        "Recommended way - https://pytorch.org/tutorials/beginner/saving_loading_models.html#saving-loading-model-for-inference"
      ],
      "metadata": {
        "id": "VHHxLstVFk8B"
      }
    },
    {
      "cell_type": "markdown",
      "source": [
        "\n",
        "###Saving a PyTorch model's state_dict()\n",
        "The recommended way for saving and loading a model for inference (making predictions) is by saving and loading a model's state_dict().\n",
        "\n",
        "Let's see how we can do that in a few steps:\n",
        "\n",
        "We'll create a directory for saving models to called models using Python's pathlib module.\n",
        "\n",
        "We'll create a file path to save the model to.\n",
        "\n",
        "We'll call torch.save(obj, f) where obj is the target model's state_dict() and f is the filename of where to save the model.\n",
        "\n",
        "`Note:` It's common convention for PyTorch saved models or objects to end with .pt or .pth, like saved_model_01.pth."
      ],
      "metadata": {
        "id": "UHdAAvA4FtlS"
      }
    },
    {
      "cell_type": "code",
      "source": [],
      "metadata": {
        "id": "krjR0fVpF8-H"
      },
      "execution_count": null,
      "outputs": []
    }
  ]
}