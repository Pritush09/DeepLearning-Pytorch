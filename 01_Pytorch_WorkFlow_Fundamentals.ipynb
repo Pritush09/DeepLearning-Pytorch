{
  "nbformat": 4,
  "nbformat_minor": 0,
  "metadata": {
    "colab": {
      "provenance": [],
      "authorship_tag": "ABX9TyOFZ6ieQy8soeb2mQ+QYQCc",
      "include_colab_link": true
    },
    "kernelspec": {
      "name": "python3",
      "display_name": "Python 3"
    },
    "language_info": {
      "name": "python"
    },
    "accelerator": "GPU",
    "gpuClass": "standard"
  },
  "cells": [
    {
      "cell_type": "markdown",
      "metadata": {
        "id": "view-in-github",
        "colab_type": "text"
      },
      "source": [
        "<a href=\"https://colab.research.google.com/github/Pritush09/DeepLearning-Pytorch/blob/master/01_Pytorch_WorkFlow_Fundamentals.ipynb\" target=\"_parent\"><img src=\"https://colab.research.google.com/assets/colab-badge.svg\" alt=\"Open In Colab\"/></a>"
      ]
    },
    {
      "cell_type": "markdown",
      "source": [
        "Where can can you get help?\n",
        "All of the materials for this course are available on GitHub.(https://github.com/mrdbourke/pytorch-deep-learning)\n",
        "\n",
        "And if you run into trouble, you can ask a question on the Discussions page there too.\n",
        "\n",
        "There's also the PyTorch developer forums(https://discuss.pytorch.org/), a very helpful place for all things PyTorch.\n",
        "\n",
        "Let's start by putting what we're covering into a dictionary to reference later."
      ],
      "metadata": {
        "id": "sYUFE0j0jiKO"
      }
    },
    {
      "cell_type": "markdown",
      "source": [
        "We're going to get \n",
        "\n",
        "torch\n",
        "\n",
        "`torch.nn` (nn stands for neural network and this package contains the building \n",
        "blocks for creating neural networks in PyTorch) and \n",
        "\n",
        "matplotlib."
      ],
      "metadata": {
        "id": "FOE93Jlbl6ra"
      }
    },
    {
      "cell_type": "code",
      "source": [
        "import torch\n",
        "from torch import nn # nn contains all of PyTorch's building blocks for neural networks\n",
        "import matplotlib.pyplot as plt\n",
        "\n",
        "# Check PyTorch version\n",
        "torch.__version__"
      ],
      "metadata": {
        "id": "kjUg-g5-mKen",
        "colab": {
          "base_uri": "https://localhost:8080/",
          "height": 35
        },
        "outputId": "9d2127e7-c2ef-4642-85b6-cb220961c52f"
      },
      "execution_count": 1,
      "outputs": [
        {
          "output_type": "execute_result",
          "data": {
            "text/plain": [
              "'2.0.0+cu118'"
            ],
            "application/vnd.google.colaboratory.intrinsic+json": {
              "type": "string"
            }
          },
          "metadata": {},
          "execution_count": 1
        }
      ]
    },
    {
      "cell_type": "markdown",
      "source": [
        "\n",
        "# 1. Data (preparing and loading)\n",
        "I want to stress that \"data\" in machine learning can be almost anything you can imagine. A table of numbers (like a big Excel spreadsheet), images of any kind, videos (YouTube has lots of data!), audio files like songs or podcasts, protein structures, text and more.\n",
        "\n",
        "machine learning is a game of two parts: 1. turn your data into a representative set of numbers and 2. build or pick a model to learn the representation as best as possible\n",
        "\n",
        "### Machine learning is a game of two parts:\n",
        "\n",
        "Turn your data, whatever it is, into numbers (a representation).\n",
        "\n",
        "Pick or build a model to learn the representation as best as possible."
      ],
      "metadata": {
        "id": "MDQtfnNImfos"
      }
    },
    {
      "cell_type": "markdown",
      "source": [
        "let's create our data as a straight line.\n",
        "\n",
        "We'll use linear regression to create the data with known parameters (things that can be learned by a model) and then we'll use PyTorch to see if we can build model to estimate these parameters using gradient descent."
      ],
      "metadata": {
        "id": "JONWCExmn7Ts"
      }
    },
    {
      "cell_type": "code",
      "source": [
        "torch.arange(0,1,0.01)"
      ],
      "metadata": {
        "id": "AEjeHUlfoczC",
        "colab": {
          "base_uri": "https://localhost:8080/"
        },
        "outputId": "ea20c94d-e762-40ff-f602-eca414f194e7"
      },
      "execution_count": 2,
      "outputs": [
        {
          "output_type": "execute_result",
          "data": {
            "text/plain": [
              "tensor([0.0000, 0.0100, 0.0200, 0.0300, 0.0400, 0.0500, 0.0600, 0.0700, 0.0800,\n",
              "        0.0900, 0.1000, 0.1100, 0.1200, 0.1300, 0.1400, 0.1500, 0.1600, 0.1700,\n",
              "        0.1800, 0.1900, 0.2000, 0.2100, 0.2200, 0.2300, 0.2400, 0.2500, 0.2600,\n",
              "        0.2700, 0.2800, 0.2900, 0.3000, 0.3100, 0.3200, 0.3300, 0.3400, 0.3500,\n",
              "        0.3600, 0.3700, 0.3800, 0.3900, 0.4000, 0.4100, 0.4200, 0.4300, 0.4400,\n",
              "        0.4500, 0.4600, 0.4700, 0.4800, 0.4900, 0.5000, 0.5100, 0.5200, 0.5300,\n",
              "        0.5400, 0.5500, 0.5600, 0.5700, 0.5800, 0.5900, 0.6000, 0.6100, 0.6200,\n",
              "        0.6300, 0.6400, 0.6500, 0.6600, 0.6700, 0.6800, 0.6900, 0.7000, 0.7100,\n",
              "        0.7200, 0.7300, 0.7400, 0.7500, 0.7600, 0.7700, 0.7800, 0.7900, 0.8000,\n",
              "        0.8100, 0.8200, 0.8300, 0.8400, 0.8500, 0.8600, 0.8700, 0.8800, 0.8900,\n",
              "        0.9000, 0.9100, 0.9200, 0.9300, 0.9400, 0.9500, 0.9600, 0.9700, 0.9800,\n",
              "        0.9900])"
            ]
          },
          "metadata": {},
          "execution_count": 2
        }
      ]
    },
    {
      "cell_type": "code",
      "source": [
        "torch.arange(0,1,0.01).shape"
      ],
      "metadata": {
        "id": "7N9BlCebqb-e",
        "colab": {
          "base_uri": "https://localhost:8080/"
        },
        "outputId": "b5eb2967-f213-45ac-ca44-a6a725648610"
      },
      "execution_count": 3,
      "outputs": [
        {
          "output_type": "execute_result",
          "data": {
            "text/plain": [
              "torch.Size([100])"
            ]
          },
          "metadata": {},
          "execution_count": 3
        }
      ]
    },
    {
      "cell_type": "code",
      "source": [
        "torch.arange(0,1,0.01).unsqueeze(dim=1)"
      ],
      "metadata": {
        "id": "PBNZ6SO0qL_3",
        "colab": {
          "base_uri": "https://localhost:8080/"
        },
        "outputId": "74024bad-fb41-4cb8-d0cf-d13a4cc74efa"
      },
      "execution_count": 4,
      "outputs": [
        {
          "output_type": "execute_result",
          "data": {
            "text/plain": [
              "tensor([[0.0000],\n",
              "        [0.0100],\n",
              "        [0.0200],\n",
              "        [0.0300],\n",
              "        [0.0400],\n",
              "        [0.0500],\n",
              "        [0.0600],\n",
              "        [0.0700],\n",
              "        [0.0800],\n",
              "        [0.0900],\n",
              "        [0.1000],\n",
              "        [0.1100],\n",
              "        [0.1200],\n",
              "        [0.1300],\n",
              "        [0.1400],\n",
              "        [0.1500],\n",
              "        [0.1600],\n",
              "        [0.1700],\n",
              "        [0.1800],\n",
              "        [0.1900],\n",
              "        [0.2000],\n",
              "        [0.2100],\n",
              "        [0.2200],\n",
              "        [0.2300],\n",
              "        [0.2400],\n",
              "        [0.2500],\n",
              "        [0.2600],\n",
              "        [0.2700],\n",
              "        [0.2800],\n",
              "        [0.2900],\n",
              "        [0.3000],\n",
              "        [0.3100],\n",
              "        [0.3200],\n",
              "        [0.3300],\n",
              "        [0.3400],\n",
              "        [0.3500],\n",
              "        [0.3600],\n",
              "        [0.3700],\n",
              "        [0.3800],\n",
              "        [0.3900],\n",
              "        [0.4000],\n",
              "        [0.4100],\n",
              "        [0.4200],\n",
              "        [0.4300],\n",
              "        [0.4400],\n",
              "        [0.4500],\n",
              "        [0.4600],\n",
              "        [0.4700],\n",
              "        [0.4800],\n",
              "        [0.4900],\n",
              "        [0.5000],\n",
              "        [0.5100],\n",
              "        [0.5200],\n",
              "        [0.5300],\n",
              "        [0.5400],\n",
              "        [0.5500],\n",
              "        [0.5600],\n",
              "        [0.5700],\n",
              "        [0.5800],\n",
              "        [0.5900],\n",
              "        [0.6000],\n",
              "        [0.6100],\n",
              "        [0.6200],\n",
              "        [0.6300],\n",
              "        [0.6400],\n",
              "        [0.6500],\n",
              "        [0.6600],\n",
              "        [0.6700],\n",
              "        [0.6800],\n",
              "        [0.6900],\n",
              "        [0.7000],\n",
              "        [0.7100],\n",
              "        [0.7200],\n",
              "        [0.7300],\n",
              "        [0.7400],\n",
              "        [0.7500],\n",
              "        [0.7600],\n",
              "        [0.7700],\n",
              "        [0.7800],\n",
              "        [0.7900],\n",
              "        [0.8000],\n",
              "        [0.8100],\n",
              "        [0.8200],\n",
              "        [0.8300],\n",
              "        [0.8400],\n",
              "        [0.8500],\n",
              "        [0.8600],\n",
              "        [0.8700],\n",
              "        [0.8800],\n",
              "        [0.8900],\n",
              "        [0.9000],\n",
              "        [0.9100],\n",
              "        [0.9200],\n",
              "        [0.9300],\n",
              "        [0.9400],\n",
              "        [0.9500],\n",
              "        [0.9600],\n",
              "        [0.9700],\n",
              "        [0.9800],\n",
              "        [0.9900]])"
            ]
          },
          "metadata": {},
          "execution_count": 4
        }
      ]
    },
    {
      "cell_type": "code",
      "source": [
        "torch.arange(0,1,0.01).unsqueeze(dim=1).shape"
      ],
      "metadata": {
        "colab": {
          "base_uri": "https://localhost:8080/"
        },
        "id": "YpMPsocPq-Mk",
        "outputId": "77aa9006-7535-4f36-c8c4-5a6012b64d39"
      },
      "execution_count": 5,
      "outputs": [
        {
          "output_type": "execute_result",
          "data": {
            "text/plain": [
              "torch.Size([100, 1])"
            ]
          },
          "metadata": {},
          "execution_count": 5
        }
      ]
    },
    {
      "cell_type": "code",
      "source": [
        "# Create *known* parameters\n",
        "weight = 0.7\n",
        "bias = 0.3\n",
        "\n",
        "# Create data\n",
        "start = 0\n",
        "end = 1\n",
        "step = 0.02\n",
        "X = torch.arange(start, end, step).unsqueeze(dim=1)# later on why we use this unsqueez \n",
        "y = weight * X + bias\n",
        "\n",
        "X[:10], y[:10] , X.shape"
      ],
      "metadata": {
        "id": "z5e5QkfJoE2A",
        "colab": {
          "base_uri": "https://localhost:8080/"
        },
        "outputId": "33165750-2a62-4fc5-cd86-2eebcfe77933"
      },
      "execution_count": 6,
      "outputs": [
        {
          "output_type": "execute_result",
          "data": {
            "text/plain": [
              "(tensor([[0.0000],\n",
              "         [0.0200],\n",
              "         [0.0400],\n",
              "         [0.0600],\n",
              "         [0.0800],\n",
              "         [0.1000],\n",
              "         [0.1200],\n",
              "         [0.1400],\n",
              "         [0.1600],\n",
              "         [0.1800]]),\n",
              " tensor([[0.3000],\n",
              "         [0.3140],\n",
              "         [0.3280],\n",
              "         [0.3420],\n",
              "         [0.3560],\n",
              "         [0.3700],\n",
              "         [0.3840],\n",
              "         [0.3980],\n",
              "         [0.4120],\n",
              "         [0.4260]]),\n",
              " torch.Size([50, 1]))"
            ]
          },
          "metadata": {},
          "execution_count": 6
        }
      ]
    },
    {
      "cell_type": "markdown",
      "source": [
        "https://www.learnpytorch.io/01_pytorch_workflow/#split-data-into-training-and-test-sets"
      ],
      "metadata": {
        "id": "fwhst61RsaYG"
      }
    },
    {
      "cell_type": "code",
      "source": [
        "# Create train/test split\n",
        "train_split = int(0.8 * len(X)) # 80% of data used for training set, 20% for testing \n",
        "X_train, y_train = X[:train_split], y[:train_split]\n",
        "X_test, y_test = X[train_split:], y[train_split:]\n",
        "\n",
        "len(X_train), len(y_train), len(X_test), len(y_test)"
      ],
      "metadata": {
        "id": "FonFnQxnosoc",
        "colab": {
          "base_uri": "https://localhost:8080/"
        },
        "outputId": "13f50d03-79ef-4fbc-caa9-5e2d24b8ad7d"
      },
      "execution_count": 7,
      "outputs": [
        {
          "output_type": "execute_result",
          "data": {
            "text/plain": [
              "(40, 40, 10, 10)"
            ]
          },
          "metadata": {},
          "execution_count": 7
        }
      ]
    },
    {
      "cell_type": "code",
      "source": [
        "def plot_predictions(train_data=X_train, \n",
        "                     train_labels=y_train, \n",
        "                     test_data=X_test, \n",
        "                     test_labels=y_test, \n",
        "                     predictions=None):\n",
        "  \"\"\"\n",
        "  Plots training data, test data and compares predictions.\n",
        "  \"\"\"\n",
        "  plt.figure(figsize=(10, 7))\n",
        "\n",
        "  # Plot training data in blue\n",
        "  plt.scatter(train_data, train_labels, c=\"b\", s=4, label=\"Training data\")\n",
        "  \n",
        "  # Plot test data in green\n",
        "  plt.scatter(test_data, test_labels, c=\"g\", s=4, label=\"Testing data\")\n",
        "\n",
        "  if predictions is not None:\n",
        "    # Plot the predictions in red (predictions were made on the test data)\n",
        "    plt.scatter(test_data, predictions, c=\"r\", s=4, label=\"Predictions\")\n",
        "\n",
        "  # Show the legend\n",
        "  # The prop keyword is used to change the font size property. It is used in Matplotlib as Using a prop keyword for changing the font size in legend.\n",
        "  plt.legend(prop={\"size\": 14});"
      ],
      "metadata": {
        "id": "qMv7TibrsTaX"
      },
      "execution_count": 8,
      "outputs": []
    },
    {
      "cell_type": "code",
      "source": [
        "plot_predictions()"
      ],
      "metadata": {
        "id": "BqlnRZCQtJMB",
        "colab": {
          "base_uri": "https://localhost:8080/",
          "height": 599
        },
        "outputId": "a8a1e05d-348b-4738-a391-4c926bc596ae"
      },
      "execution_count": 9,
      "outputs": [
        {
          "output_type": "display_data",
          "data": {
            "text/plain": [
              "<Figure size 1000x700 with 1 Axes>"
            ],
            "image/png": "[encoded data removed]"
          },
          "metadata": {}
        }
      ]
    },
    {
      "cell_type": "markdown",
      "source": [
        "Parameters are Tensor subclasses, that have a very special property when used with Module s - when they’re assigned as Module attributes they are automatically added to the list of its parameters, and will appear e.g. in parameters() iterator. Assigning a Tensor doesn’t have such effect. This is because one might want to cache some temporary state, like last hidden state of the RNN, in the model. If there was no such class as Parameter, these temporaries would get registered too."
      ],
      "metadata": {
        "id": "d12KFXFWO4Pe"
      }
    },
    {
      "cell_type": "code",
      "source": [
        "# Create a Linear Regression model class\n",
        "class LinearRegressionModel(nn.Module): # <- almost everything in PyTorch is a nn.Module (think of this as neural network lego blocks)\n",
        "    def __init__(self):\n",
        "        super().__init__() \n",
        "        self.weights = nn.Parameter(torch.randn(1, # <- start with random weights (this will get adjusted as the model learns)\n",
        "                                                dtype=torch.float), # <- PyTorch loves float32 by default\n",
        "                                    requires_grad=True) # <- can we update this value with gradient descent?)\n",
        "\n",
        "        self.bias = nn.Parameter(torch.randn(1, # <- start with random bias (this will get adjusted as the model learns)\n",
        "                                            dtype=torch.float), # <- PyTorch loves float32 by default\n",
        "                                requires_grad=True) # <- can we update this value with gradient descent?))\n",
        "\n",
        "    # Forward defines the computation in the model\n",
        "    def forward(self, x: torch.Tensor) -> torch.Tensor: # <- \"x\" is the input data (e.g. training/testing features)\n",
        "        return self.weights * x + self.bias # <- this is the linear regression formula (y = m*x + b)"
      ],
      "metadata": {
        "id": "pPOIjE4ztLaq"
      },
      "execution_count": 10,
      "outputs": []
    },
    {
      "cell_type": "markdown",
      "source": [
        "* nn.Module contains the larger building blocks (layers)\n",
        "* nn.Parameter contains the smaller parameters like weights and biases (put these together to make nn.Module(s))\n",
        "* forward() tells the larger blocks how to make calculations on inputs (tensors full of data) within nn.Module(s)\n",
        "* torch.optim contains optimization methods on how to improve the parameters within nn.Parameter to better represent input data"
      ],
      "metadata": {
        "id": "-4yANHuc8qXV"
      }
    },
    {
      "cell_type": "markdown",
      "source": [
        "# Checking the contents of a PyTorch model\n",
        "Now we've got these out of the way, let's create a model instance with the class we've made and check its parameters using .parameters()."
      ],
      "metadata": {
        "id": "fvjsIVGkqwN1"
      }
    },
    {
      "cell_type": "code",
      "source": [
        "# Set manual seed since nn.Parameter are randomly initialzied\n",
        "torch.manual_seed(42)\n",
        "\n",
        "# Create an instance of the model (this is a subclass of nn.Module that contains nn.Parameter(s))\n",
        "model_0 = LinearRegressionModel()\n",
        "\n",
        "# Check the nn.Parameter(s) within the nn.Module subclass we created\n",
        "list(model_0.parameters())"
      ],
      "metadata": {
        "id": "MZ90_rx_r96y",
        "colab": {
          "base_uri": "https://localhost:8080/"
        },
        "outputId": "e5010eda-ba06-42d0-c4d5-9da5cd6e890a"
      },
      "execution_count": 11,
      "outputs": [
        {
          "output_type": "execute_result",
          "data": {
            "text/plain": [
              "[Parameter containing:\n",
              " tensor([0.3367], requires_grad=True),\n",
              " Parameter containing:\n",
              " tensor([0.1288], requires_grad=True)]"
            ]
          },
          "metadata": {},
          "execution_count": 11
        }
      ]
    },
    {
      "cell_type": "markdown",
      "source": [
        "We can also get the state (what the model contains) of the model using `.state_dict()`."
      ],
      "metadata": {
        "id": "wAAiwczQsDkh"
      }
    },
    {
      "cell_type": "code",
      "source": [
        "model_0.state_dict()"
      ],
      "metadata": {
        "id": "_blnRSWQsIpd",
        "colab": {
          "base_uri": "https://localhost:8080/"
        },
        "outputId": "72ef734f-6960-4c66-bc09-76fa4ea67e4c"
      },
      "execution_count": 12,
      "outputs": [
        {
          "output_type": "execute_result",
          "data": {
            "text/plain": [
              "OrderedDict([('weights', tensor([0.3367])), ('bias', tensor([0.1288]))])"
            ]
          },
          "metadata": {},
          "execution_count": 12
        }
      ]
    },
    {
      "cell_type": "markdown",
      "source": [
        "\n",
        "Notice how the values for weights and bias from model_0.state_dict() come out as random float tensors?\n",
        "\n",
        "This is becuase we initialized them above using torch.randn().\n",
        "\n",
        "Essentially we want to start from random parameters and get the model to update them towards parameters that fit our data best (the hardcoded weight and bias values we set when creating our straight line data)."
      ],
      "metadata": {
        "id": "CRfZG_ZdsVaB"
      }
    },
    {
      "cell_type": "markdown",
      "source": [
        "Because our model starts with random values, right now it'll have poor predictive power."
      ],
      "metadata": {
        "id": "bPhrraKhslJg"
      }
    },
    {
      "cell_type": "code",
      "source": [
        "# Making prediction\n",
        "with torch.inference_mode(): \n",
        "    y_preds = model_0(X_test)"
      ],
      "metadata": {
        "id": "W1Dxzi92stWf"
      },
      "execution_count": 13,
      "outputs": []
    },
    {
      "cell_type": "markdown",
      "source": [
        "why we used this to test model becz we dont want to track the gd of the number which we are just testing\n",
        "more here  -  https://twitter.com/PyTorch/status/1437838231505096708?s=20"
      ],
      "metadata": {
        "id": "Tjj6RiXv3rfW"
      }
    },
    {
      "cell_type": "code",
      "source": [
        "y_preds , y_test"
      ],
      "metadata": {
        "id": "0b7M6hiR01cW",
        "colab": {
          "base_uri": "https://localhost:8080/"
        },
        "outputId": "0dab01b2-16e9-4f28-d0f4-6f3d62c064ad"
      },
      "execution_count": 14,
      "outputs": [
        {
          "output_type": "execute_result",
          "data": {
            "text/plain": [
              "(tensor([[0.3982],\n",
              "         [0.4049],\n",
              "         [0.4116],\n",
              "         [0.4184],\n",
              "         [0.4251],\n",
              "         [0.4318],\n",
              "         [0.4386],\n",
              "         [0.4453],\n",
              "         [0.4520],\n",
              "         [0.4588]]),\n",
              " tensor([[0.8600],\n",
              "         [0.8740],\n",
              "         [0.8880],\n",
              "         [0.9020],\n",
              "         [0.9160],\n",
              "         [0.9300],\n",
              "         [0.9440],\n",
              "         [0.9580],\n",
              "         [0.9720],\n",
              "         [0.9860]]))"
            ]
          },
          "metadata": {},
          "execution_count": 14
        }
      ]
    },
    {
      "cell_type": "code",
      "source": [
        "plot_predictions(predictions=y_preds)"
      ],
      "metadata": {
        "id": "CADZbMwn06g-",
        "colab": {
          "base_uri": "https://localhost:8080/",
          "height": 599
        },
        "outputId": "c50435ac-8773-4d39-855b-fa0903bccbeb"
      },
      "execution_count": 15,
      "outputs": [
        {
          "output_type": "display_data",
          "data": {
            "text/plain": [
              "<Figure size 1000x700 with 1 Axes>"
            ],
            "image/png": "[encoded data removed]"
          },
          "metadata": {}
        }
      ]
    },
    {
      "cell_type": "markdown",
      "source": [
        "\n",
        "Notice how there's one prediction value per testing sample.\n",
        "\n",
        "This is because of the kind of data we're using. For our straight line, one X value maps to one y value.\n",
        "\n",
        "However, machine learning models are very flexible. You could have 100 X values mapping to one, two, three or 10 y values. It all depends on what you're working on"
      ],
      "metadata": {
        "id": "QlyWCHMF1Uag"
      }
    },
    {
      "cell_type": "code",
      "source": [
        "y_test - y_preds"
      ],
      "metadata": {
        "id": "SGrOQ5vl2QOL",
        "colab": {
          "base_uri": "https://localhost:8080/"
        },
        "outputId": "48acc703-4d90-43a1-aed5-a9fa7bb90573"
      },
      "execution_count": 16,
      "outputs": [
        {
          "output_type": "execute_result",
          "data": {
            "text/plain": [
              "tensor([[0.4618],\n",
              "        [0.4691],\n",
              "        [0.4764],\n",
              "        [0.4836],\n",
              "        [0.4909],\n",
              "        [0.4982],\n",
              "        [0.5054],\n",
              "        [0.5127],\n",
              "        [0.5200],\n",
              "        [0.5272]])"
            ]
          },
          "metadata": {},
          "execution_count": 16
        }
      ]
    },
    {
      "cell_type": "markdown",
      "source": [
        "#  Train model¶\n",
        "Right now our model is making predictions using random parameters to make calculations, it's basically guessing (randomly).\n",
        "\n",
        "To fix that, we can update its internal parameters (I also refer to parameters as patterns), the weights and bias values we set randomly using nn.Parameter() and torch.randn() to be something that better represents the data.\n",
        "\n",
        "We could hard code this (since we know the default values weight=0.7 and bias=0.3) but where's the fun in that?\n",
        "\n",
        "Much of the time you won't know what the ideal parameters are for a model.\n",
        "\n",
        "Instead, it's much more fun to write code to see if the model can try and figure them out itself."
      ],
      "metadata": {
        "id": "janeyG2x2xdc"
      }
    },
    {
      "cell_type": "markdown",
      "source": [
        "\n",
        "#Creating a loss function and optimizer in PyTorch\n",
        "For our model to update its parameters on its own, we'll need to add a few more things to our recipe.\n",
        "\n",
        "And that's a loss function as well as an optimizer.\n",
        "\n",
        "MOre - https://www.learnpytorch.io/01_pytorch_workflow/#2-build-model"
      ],
      "metadata": {
        "id": "6TCsvnZb6Ecb"
      }
    },
    {
      "cell_type": "markdown",
      "source": [
        "Loss MEtric:\n",
        "\n",
        "Mean absolute error (MAE) for regression problems (torch.nn.L1Loss()).\n",
        "\n",
        " Binary cross entropy for binary classification problems (torch.nn.BCELoss()).\n",
        "\n",
        " For Optimisation :\n",
        "\n",
        " Stochastic gradient descent (torch.optim.SGD()). \n",
        " \n",
        " Adam optimizer (torch.optim.Adam())."
      ],
      "metadata": {
        "id": "08g3BjWE6N9J"
      }
    },
    {
      "cell_type": "markdown",
      "source": [
        "For our problem, since we're predicting a number, let's use MAE (which is under torch.nn.L1Loss()) in PyTorch as our loss function."
      ],
      "metadata": {
        "id": "NFxY7uuD63YA"
      }
    },
    {
      "cell_type": "markdown",
      "source": [
        "Mean absolute error (MAE, in PyTorch: torch.nn.L1Loss) measures the absolute difference between two points (predictions and labels) and then takes the mean across all examples."
      ],
      "metadata": {
        "id": "qfpCkISE7KOs"
      }
    },
    {
      "cell_type": "markdown",
      "source": [
        "And we'll use SGD, torch.optim.SGD(params, lr) where:\n",
        "\n",
        "params is the target model parameters you'd like to optimize (e.g. the weights and bias values we randomly set before).\n",
        "\n",
        "lr is the learning rate you'd like the optimizer to update the parameters at, higher means the optimizer will try larger updates (these can sometimes be too large and the optimizer will fail to work), lower means the optimizer will try smaller updates (these can sometimes be too small and the optimizer will take too long to find the ideal values).\n",
        "\n",
        " The learning rate is considered a hyperparameter (because it's set by a machine learning engineer). Common starting values for the learning rate are 0.01, 0.001, 0.0001, however, these can also be adjusted over time (this is called learning rate scheduling)."
      ],
      "metadata": {
        "id": "abKNyI6H7OmA"
      }
    },
    {
      "cell_type": "code",
      "source": [
        "# Create the loss function\n",
        "loss_fn = nn.MSELoss() \n",
        "\n",
        "# Create the optimizer\n",
        "optimizer = torch.optim.SGD(params=model_0.parameters(), # parameters of target model to optimize\n",
        "                            lr=0.01) # learning rate (how much the optimizer should change parameters at each step, higher=more (less stable), lower=less (might take a long time))"
      ],
      "metadata": {
        "id": "OcN0IfE-7bHX"
      },
      "execution_count": 17,
      "outputs": []
    },
    {
      "cell_type": "markdown",
      "source": [
        "# creating an optimisation loop in pytorch\n",
        "The training loop involves the model going through the training data and learning the relationships between the features and labels.\n",
        "\n",
        "The testing loop involves going through the testing data and evaluating how good the patterns are that the model learned on the training data (the model never see's the testing data during training).\n",
        "\n",
        "Each of these is called a \"loop\" because we want our model to look (loop through) at each sample in each dataset."
      ],
      "metadata": {
        "id": "JYtj0FAk7lSJ"
      }
    },
    {
      "cell_type": "markdown",
      "source": [
        "1\tForward pass\tThe model goes through all of the training data once, performing its forward() function calculations.\tmodel(x_train)\n",
        "\n",
        "2\tCalculate the loss\tThe model's outputs (predictions) are compared to the ground truth and evaluated to see how wrong they are.\tloss = loss_fn(y_pred, y_train)\n",
        "\n",
        "3\tZero gradients\tThe optimizers gradients are set to zero (they are accumulated by default) so they can be recalculated for the specific training step.\toptimizer.zero_grad()\n",
        "\n",
        "4\tPerform backpropagation on the loss\tComputes the gradient of the loss with respect for every model parameter to be updated (each parameter with requires_grad=True). This is known as backpropagation, hence \"backwards\".\tloss.backward()\n",
        "\n",
        "5\tUpdate the optimizer (gradient descent)\tUpdate the parameters with requires_grad=True with respect to the loss gradients in order to improve them.\toptimizer.step()"
      ],
      "metadata": {
        "id": "WZxJKD8DBcdk"
      }
    },
    {
      "cell_type": "markdown",
      "source": [
        "And on the ordering of things, the above is a good default order but you may see slightly different orders. Some rules of thumb:\n",
        "\n",
        "Calculate the loss (loss = ...) before performing backpropagation on it (loss.backward()).\n",
        "\n",
        "Zero gradients (optimizer.zero_grad()) before stepping them (optimizer.step()).\n",
        "\n",
        "Step the optimizer (optimizer.step()) after performing backpropagation on the loss (loss.backward())."
      ],
      "metadata": {
        "id": "rBur0SwMVMCb"
      }
    },
    {
      "cell_type": "code",
      "source": [
        "torch.manual_seed(42) # for reproducibility\n",
        "\n",
        "# epoch is the number of time u want to loop through the data \n",
        "epochs= 2000\n",
        "\n",
        "# Create empty loss lists to track values\n",
        "train_loss_values = []\n",
        "test_loss_values = []\n",
        "epoch_count = []\n",
        "\n",
        "\n",
        "# looping through the data point\n",
        "for epoch in range(epochs):\n",
        "  # stting the model to training mode to give all the parameter which require Grad to grad\n",
        "  model_0.train()\n",
        "\n",
        "  # GOing through the forward pass\n",
        "  y_pred= model_0(X_train)\n",
        "\n",
        "  # claculating the loss via loss function of the pytorch\n",
        "  loss = loss_fn(y_pred,y_train)\n",
        "\n",
        "  # Zero grad of the optimizer\n",
        "  optimizer.zero_grad() # this is before the step as we want to start fresh agin when we are loopint through the data \n",
        "\n",
        "  # PErofrm backpropagation on the loss w.r.t loss of the model\n",
        "  loss.backward()\n",
        "\n",
        "  # Progress the optimizer (perform GD)\n",
        "  optimizer.step() # how the optimizer changes will accumulate through the loop so for better computing if we want to know the GDs in each step we dont need to do this\n",
        "  # \n",
        "\n",
        "# ---------------------------------------------------------------------------------------------------------------------------\n",
        "  # Testing phase\n",
        "\n",
        "  model_0.eval()# this turns off the various model settings which are not needed for the testing purpose\n",
        "\n",
        "\n",
        "#  we can write the testing code differntly not like this down here\n",
        "\n",
        "  with torch.inference_mode():\n",
        "    # 1. Forward pass on test data\n",
        "    test_pred = model_0(X_test)\n",
        "\n",
        "    # 2. Caculate loss on test data\n",
        "    test_loss = loss_fn(test_pred, y_test.type(torch.float)) # predictions come in torch.float datatype, so comparisons need to be done with tensors of the same type\n",
        "\n",
        "    # Print out what's happening\n",
        "    if epoch % 100 == 0:\n",
        "          epoch_count.append(epoch)\n",
        "          train_loss_values.append(loss.detach().numpy())\n",
        "          test_loss_values.append(test_loss.detach().numpy())\n",
        "          print(f\"Epoch: {epoch} | MSE Train Loss: {loss} | MSE Test Loss: {test_loss} \")\n",
        "    "
      ],
      "metadata": {
        "id": "C-18N1BpCmXd",
        "colab": {
          "base_uri": "https://localhost:8080/"
        },
        "outputId": "af8cbe17-5bd2-4dfb-8656-2d553d1a78cd"
      },
      "execution_count": 18,
      "outputs": [
        {
          "output_type": "stream",
          "name": "stdout",
          "text": [
            "Epoch: 0 | MSE Train Loss: 0.10493002086877823 | MSE Test Loss: 0.23639337718486786 \n",
            "Epoch: 100 | MSE Train Loss: 0.003750210627913475 | MSE Test Loss: 0.021257279440760612 \n",
            "Epoch: 200 | MSE Train Loss: 0.002354297786951065 | MSE Test Loss: 0.01093449629843235 \n",
            "Epoch: 300 | MSE Train Loss: 0.001951672718860209 | MSE Test Loss: 0.00858613196760416 \n",
            "Epoch: 400 | MSE Train Loss: 0.001623652526177466 | MSE Test Loss: 0.007099421229213476 \n",
            "Epoch: 500 | MSE Train Loss: 0.0013508176198229194 | MSE Test Loss: 0.0059026312083005905 \n",
            "Epoch: 600 | MSE Train Loss: 0.0011238292790949345 | MSE Test Loss: 0.004910430870950222 \n",
            "Epoch: 700 | MSE Train Loss: 0.0009349824977107346 | MSE Test Loss: 0.004085255321115255 \n",
            "Epoch: 800 | MSE Train Loss: 0.0007778690196573734 | MSE Test Loss: 0.003398780943825841 \n",
            "Epoch: 900 | MSE Train Loss: 0.0006471576052717865 | MSE Test Loss: 0.0028276541270315647 \n",
            "Epoch: 1000 | MSE Train Loss: 0.0005384112009778619 | MSE Test Loss: 0.0023525068536400795 \n",
            "Epoch: 1100 | MSE Train Loss: 0.000447937345597893 | MSE Test Loss: 0.001957189990207553 \n",
            "Epoch: 1200 | MSE Train Loss: 0.00037266509025357664 | MSE Test Loss: 0.0016283191507682204 \n",
            "Epoch: 1300 | MSE Train Loss: 0.0003100428148172796 | MSE Test Loss: 0.001354685053229332 \n",
            "Epoch: 1400 | MSE Train Loss: 0.0002579463762231171 | MSE Test Loss: 0.0011270631803199649 \n",
            "Epoch: 1500 | MSE Train Loss: 0.00021460119751282036 | MSE Test Loss: 0.0009376659290865064 \n",
            "Epoch: 1600 | MSE Train Loss: 0.00017853931058198214 | MSE Test Loss: 0.0007800980820320547 \n",
            "Epoch: 1700 | MSE Train Loss: 0.00014853812172077596 | MSE Test Loss: 0.0006490143714472651 \n",
            "Epoch: 1800 | MSE Train Loss: 0.00012357784726191312 | MSE Test Loss: 0.0005399532383307815 \n",
            "Epoch: 1900 | MSE Train Loss: 0.00010281240247422829 | MSE Test Loss: 0.0004492250154726207 \n"
          ]
        }
      ]
    },
    {
      "cell_type": "code",
      "source": [
        "# Plot the loss curves\n",
        "plt.plot(epoch_count, train_loss_values, label=\"Train loss\")\n",
        "plt.plot(epoch_count, test_loss_values, label=\"Test loss\")\n",
        "plt.title(\"Training and test loss curves\")\n",
        "plt.ylabel(\"Loss\")\n",
        "plt.xlabel(\"Epochs\")\n",
        "plt.legend();"
      ],
      "metadata": {
        "colab": {
          "base_uri": "https://localhost:8080/",
          "height": 472
        },
        "id": "NsJ65O80taUr",
        "outputId": "8a2c9f5f-d039-4730-8b76-04f5abdb5ead"
      },
      "execution_count": 19,
      "outputs": [
        {
          "output_type": "display_data",
          "data": {
            "text/plain": [
              "<Figure size 640x480 with 1 Axes>"
            ],
            "image/png": "[encoded data removed]"
          },
          "metadata": {}
        }
      ]
    },
    {
      "cell_type": "markdown",
      "source": [
        "Nice! The loss curves show the loss going down over time. Remember, loss is the measure of how wrong your model is, so the lower the better.\n",
        "\n",
        "But why did the loss go down?\n",
        "\n",
        "Well, thanks to our loss function and optimizer, the model's internal parameters (weights and bias) were updated to better reflect the underlying patterns in the data.\n",
        "\n",
        "Let's inspect our model's .state_dict() to see see how close our model gets to the original values we set for weights and bias."
      ],
      "metadata": {
        "id": "BK4rY3vOD5Se"
      }
    },
    {
      "cell_type": "code",
      "source": [
        "# Find our model's learned parameters\n",
        "print(\"The model learned the following values for weights and bias:\")\n",
        "print(model_0.state_dict())\n",
        "print(\"\\nAnd the original values for weights and bias are:\")\n",
        "print(f\"weights: {weight}, bias: {bias}\")"
      ],
      "metadata": {
        "colab": {
          "base_uri": "https://localhost:8080/"
        },
        "id": "_Nip7iL48OwV",
        "outputId": "22e02f14-3c6e-48fb-cab3-a80edcb7ebc4"
      },
      "execution_count": 20,
      "outputs": [
        {
          "output_type": "stream",
          "name": "stdout",
          "text": [
            "The model learned the following values for weights and bias:\n",
            "OrderedDict([('weights', tensor([0.6601])), ('bias', tensor([0.3163]))])\n",
            "\n",
            "And the original values for weights and bias are:\n",
            "weights: 0.7, bias: 0.3\n"
          ]
        }
      ]
    },
    {
      "cell_type": "markdown",
      "source": [
        "Our model got very close to calculate the exact original values for weight and bias and after tweeking the epoch value from 100 to 1631 the model is doing perfect"
      ],
      "metadata": {
        "id": "cEIeIGJTEMii"
      }
    },
    {
      "cell_type": "markdown",
      "source": [
        "# Making predictions with a trained PyTorch model (inference)\n",
        "Once you've trained a model, you'll likely want to make predictions with it.\n",
        "\n",
        "We've already seen a glimpse of this in the training and testing code above, the steps to do it outside of the training/testing loop are similar.\n",
        "\n",
        "There are three things to remember when making predictions (also called performing inference) with a PyTorch model:\n",
        "\n",
        "Set the model in evaluation mode (model.eval()).\n",
        "\n",
        "Make the predictions using the inference mode context manager (with torch.inference_mode(): ...).\n",
        "\n",
        "All predictions should be made with objects on the same device (e.g. data and model on GPU only or data and model on CPU only).\n",
        "\n",
        "The first two items make sure all helpful calculations and settings PyTorch uses behind the scenes during training but aren't necessary for inference are turned off (this results in faster computation). And the third ensures that you won't run into cross-device errors."
      ],
      "metadata": {
        "id": "FWGfvh_2EMnR"
      }
    },
    {
      "cell_type": "code",
      "source": [
        "model_0.eval()\n",
        "\n",
        "with torch.inference_mode():\n",
        "  y_pred_new = model_0(X_test)\n",
        "\n",
        "print(y_pred_new)"
      ],
      "metadata": {
        "colab": {
          "base_uri": "https://localhost:8080/"
        },
        "id": "kb6JcJZ99AaX",
        "outputId": "af915930-3675-4237-a740-98aa40d86eb2"
      },
      "execution_count": 21,
      "outputs": [
        {
          "output_type": "stream",
          "name": "stdout",
          "text": [
            "tensor([[0.8444],\n",
            "        [0.8576],\n",
            "        [0.8708],\n",
            "        [0.8840],\n",
            "        [0.8972],\n",
            "        [0.9104],\n",
            "        [0.9236],\n",
            "        [0.9368],\n",
            "        [0.9500],\n",
            "        [0.9632]])\n"
          ]
        }
      ]
    },
    {
      "cell_type": "code",
      "source": [
        "plot_predictions(predictions=y_pred_new)"
      ],
      "metadata": {
        "colab": {
          "base_uri": "https://localhost:8080/",
          "height": 599
        },
        "id": "_m0fSrtr7_p5",
        "outputId": "165938ca-f618-4b99-f64d-a961a010d9eb"
      },
      "execution_count": 22,
      "outputs": [
        {
          "output_type": "display_data",
          "data": {
            "text/plain": [
              "<Figure size 1000x700 with 1 Axes>"
            ],
            "image/png": "[encoded data removed]"
          },
          "metadata": {}
        }
      ]
    },
    {
      "cell_type": "markdown",
      "source": [
        "#Saving and loading a PyTorch model\n",
        "If you've trained a PyTorch model, chances are you'll want to save it and export it somewhere.\n",
        "\n",
        "As in, you might train it on Google Colab or your local machine with a GPU but you'd like to now export it to some sort of application where others can use it.\n",
        "\n",
        "Or maybe you'd like to save your progress on a model and come back and load it back later.\n",
        "\n",
        "For saving and loading models in PyTorch, there are three main methods you should be aware of (all of below have been taken from the PyTorch saving and loading models guide):"
      ],
      "metadata": {
        "id": "Uath15149Yop"
      }
    },
    {
      "cell_type": "markdown",
      "source": [
        "PyTorch method\tWhat does it do?\n",
        "\n",
        "torch.save\tSaves a serialzed object to disk using Python's pickle utility. Models, tensors and various other Python objects like dictionaries can be saved using torch.save.\n",
        "\n",
        "torch.load\tUses pickle's unpickling features to deserialize and load pickled Python object files (like models, tensors or dictionaries) into memory. You can also set which device to load the object to (CPU, GPU etc).\n",
        "\n",
        "torch.nn.Module.load_state_dict\tLoads a model's parameter dictionary (model.state_dict()) using a saved state_dict() object."
      ],
      "metadata": {
        "id": "RgzpBQIIFETi"
      }
    },
    {
      "cell_type": "markdown",
      "source": [
        "`NOTE:` As stated in Python's pickle documentation, the pickle module is not secure. That means you should only ever unpickle (load) data you trust. That goes for loading PyTorch models as well. Only ever use saved PyTorch models from sources you trust."
      ],
      "metadata": {
        "id": "NBcpdrxUFPzZ"
      }
    },
    {
      "cell_type": "markdown",
      "source": [
        "Recommended way - https://pytorch.org/tutorials/beginner/saving_loading_models.html#saving-loading-model-for-inference"
      ],
      "metadata": {
        "id": "VHHxLstVFk8B"
      }
    },
    {
      "cell_type": "markdown",
      "source": [
        "\n",
        "###Saving a PyTorch model's state_dict()\n",
        "The recommended way for saving and loading a model for inference (making predictions) is by saving and loading a model's state_dict().\n",
        "\n",
        "Let's see how we can do that in a few steps:\n",
        "\n",
        "We'll create a directory for saving models to called models using Python's pathlib module.\n",
        "\n",
        "We'll create a file path to save the model to.\n",
        "\n",
        "We'll call torch.save(obj, f) where obj is the target model's state_dict() and f is the filename of where to save the model.\n",
        "\n",
        "`Note:` It's common convention for PyTorch saved models or objects to end with .pt or .pth, like saved_model_01.pth."
      ],
      "metadata": {
        "id": "UHdAAvA4FtlS"
      }
    },
    {
      "cell_type": "code",
      "source": [
        "from pathlib import Path\n",
        "\n",
        "# 1. Create models directory \n",
        "MODEL_PATH = Path(\"models\")# this will initialise the folder name in with the model\n",
        "MODEL_PATH.mkdir(parents=True, exist_ok=True)# this will create the directory in the current path \n",
        "\n",
        "# 2. Create model save path \n",
        "MODEL_NAME = \"01_pytorch_workflow_model_0.pth\" # this is the saving filename for our model \n",
        "MODEL_SAVE_PATH = MODEL_PATH / MODEL_NAME # path were to save the model\n",
        "\n",
        "# 3. Save the model state dict \n",
        "print(f\"Saving model to: {MODEL_SAVE_PATH}\")\n",
        "torch.save(obj=model_0.state_dict(), # only saving the state_dict() only saves the models learned parameters\n",
        "           f=MODEL_SAVE_PATH) "
      ],
      "metadata": {
        "colab": {
          "base_uri": "https://localhost:8080/"
        },
        "id": "krjR0fVpF8-H",
        "outputId": "660fac98-2dd0-4d4c-c812-0f6030c15f52"
      },
      "execution_count": 23,
      "outputs": [
        {
          "output_type": "stream",
          "name": "stdout",
          "text": [
            "Saving model to: models/01_pytorch_workflow_model_0.pth\n"
          ]
        }
      ]
    },
    {
      "cell_type": "markdown",
      "source": [
        "#Loading a saved PyTorch model's state_dict()\n",
        "Since we've now got a saved model state_dict() at models/01_pytorch_workflow_model_0.pth we can now load it in using torch.nn.Module.load_state_dict(torch.load(f)) where f is the filepath of our saved model state_dict().\n",
        "\n",
        "\n",
        "\n",
        "Why call torch.load() inside torch.nn.Module.load_state_dict()?\n",
        "\n",
        "Because we only saved the model's state_dict() which is a dictionary of learned parameters and not the entire model, we first have to load the state_dict() with torch.load() and then pass that state_dict() to a new instance of our model (which is a subclass of nn.Module).\n",
        "\n",
        "Why not save the entire model?\n",
        "\n",
        "Saving the entire model(https://pytorch.org/tutorials/beginner/saving_loading_models.html#save-load-entire-model) rather than just the state_dict() is more intuitive, however, to quote the PyTorch documentation (italics mine):\n",
        "\n",
        "The disadvantage of this approach (saving the whole model) is that the serialized data is bound to the specific classes and the exact directory structure used when the model is saved...\n",
        "\n",
        "Because of this, your code can break in various ways when used in other projects or after refactors.\n",
        "\n",
        "So instead, we're using the flexible method of saving and loading just the state_dict(), which again is basically a dictionary of model parameters.\n",
        "\n",
        "Let's test it out by created another instance of LinearRegressionModel(), which is a subclass of torch.nn.Module and will hence have the in-built method load_state_dit(). "
      ],
      "metadata": {
        "id": "WP3o1UGeQz0w"
      }
    },
    {
      "cell_type": "code",
      "source": [
        "# Instantiate a new instance of our model (this will be instantiated with random weights)\n",
        "loaded_model_0 = LinearRegressionModel()\n",
        "\n",
        "# Load the state_dict of our saved model (this will update the new instance of our model with trained weights)\n",
        "loaded_model_0.load_state_dict(torch.load(f=MODEL_SAVE_PATH))"
      ],
      "metadata": {
        "id": "iaT85n3HUsNa",
        "outputId": "332ad387-1df2-4f92-dd00-ca6c47665420",
        "colab": {
          "base_uri": "https://localhost:8080/"
        }
      },
      "execution_count": 24,
      "outputs": [
        {
          "output_type": "execute_result",
          "data": {
            "text/plain": [
              "<All keys matched successfully>"
            ]
          },
          "metadata": {},
          "execution_count": 24
        }
      ]
    },
    {
      "cell_type": "code",
      "source": [
        "loaded_model_0.state_dict()"
      ],
      "metadata": {
        "id": "GHXBCre8XwBq",
        "outputId": "28444532-c88b-49b7-937f-8ece82843f5d",
        "colab": {
          "base_uri": "https://localhost:8080/"
        }
      },
      "execution_count": 25,
      "outputs": [
        {
          "output_type": "execute_result",
          "data": {
            "text/plain": [
              "OrderedDict([('weights', tensor([0.6601])), ('bias', tensor([0.3163]))])"
            ]
          },
          "metadata": {},
          "execution_count": 25
        }
      ]
    },
    {
      "cell_type": "markdown",
      "source": [
        "# steps for testing the model\n",
        "\n",
        "* Set the model in evaluation mode (model.eval()).\n",
        "* Make the predictions using the inference mode context manager (with torch.inference_mode(): ...).\n",
        "* All predictions should be made with objects on the same device (e.g. data and model on GPU only or data and model on CPU only)."
      ],
      "metadata": {
        "id": "-Z41JQ1eX4ZQ"
      }
    },
    {
      "cell_type": "code",
      "source": [
        "# 1. Put the loaded model into evaluation mode\n",
        "loaded_model_0.eval()\n",
        "\n",
        "# 2. Use the inference mode context manager to make predictions\n",
        "with torch.inference_mode():\n",
        "    loaded_model_preds = loaded_model_0(X_test) # perform a forward pass on the test data with the loaded model"
      ],
      "metadata": {
        "id": "FjhUBseAYHX7"
      },
      "execution_count": 26,
      "outputs": []
    },
    {
      "cell_type": "code",
      "source": [
        "loaded_model_preds"
      ],
      "metadata": {
        "id": "CIED2bokYLBx",
        "outputId": "e03327c5-6e7b-4af0-f686-b2068622b25c",
        "colab": {
          "base_uri": "https://localhost:8080/"
        }
      },
      "execution_count": 27,
      "outputs": [
        {
          "output_type": "execute_result",
          "data": {
            "text/plain": [
              "tensor([[0.8444],\n",
              "        [0.8576],\n",
              "        [0.8708],\n",
              "        [0.8840],\n",
              "        [0.8972],\n",
              "        [0.9104],\n",
              "        [0.9236],\n",
              "        [0.9368],\n",
              "        [0.9500],\n",
              "        [0.9632]])"
            ]
          },
          "metadata": {},
          "execution_count": 27
        }
      ]
    },
    {
      "cell_type": "code",
      "source": [
        "# Compare previous model predictions with loaded model predictions (these should be the same)\n",
        "y_pred_new == loaded_model_preds"
      ],
      "metadata": {
        "id": "JKDkABajYOBU",
        "outputId": "04f05aab-a9ac-45c1-cf85-539e3ca39c29",
        "colab": {
          "base_uri": "https://localhost:8080/"
        }
      },
      "execution_count": 28,
      "outputs": [
        {
          "output_type": "execute_result",
          "data": {
            "text/plain": [
              "tensor([[True],\n",
              "        [True],\n",
              "        [True],\n",
              "        [True],\n",
              "        [True],\n",
              "        [True],\n",
              "        [True],\n",
              "        [True],\n",
              "        [True],\n",
              "        [True]])"
            ]
          },
          "metadata": {},
          "execution_count": 28
        }
      ]
    },
    {
      "cell_type": "markdown",
      "source": [
        "We'll create the same style of model as before except this time, instead of defining the weight and bias parameters of our model manually using nn.Parameter(), we'll use nn.Linear(in_features, out_features) to do it for us.\n",
        "\n",
        "Where in_features is the number of dimensions your input data has and out_features is the number of dimensions you'd like it to be output to.\n",
        "\n",
        "In our case, both of these are 1 since our data has 1 input feature (X) per label (y).\n",
        "\n",
        "refer this - https://pytorch.org/docs/stable/generated/torch.nn.Linear.html"
      ],
      "metadata": {
        "id": "6YYw6h6eYSGT"
      }
    },
    {
      "cell_type": "markdown",
      "source": [
        "Creating a linear regression model using nn.Parameter versus using nn.Linear. There are plenty more examples of where the torch.nn module has pre-built computations, including many popular and useful neural network layers."
      ],
      "metadata": {
        "id": "ugFOrhBQQzXu"
      }
    },
    {
      "cell_type": "code",
      "source": [
        "# here is the reason why we taking in and out feature as 1 \n",
        "X_train[4] , y_train[4]\n",
        "\n",
        "# here we can see that there is only one value of y for the input 1 value for x bcz of which we choose in and out features as 1\n",
        "\n",
        "# means there is is only one value of x which is mapping with the 1 vallue of y"
      ],
      "metadata": {
        "id": "BrDdp6X8SAmJ",
        "outputId": "3ddb2ecf-ca96-4327-9f65-fcd0a39c1c60",
        "colab": {
          "base_uri": "https://localhost:8080/"
        }
      },
      "execution_count": 29,
      "outputs": [
        {
          "output_type": "execute_result",
          "data": {
            "text/plain": [
              "(tensor([0.0800]), tensor([0.3560]))"
            ]
          },
          "metadata": {},
          "execution_count": 29
        }
      ]
    },
    {
      "cell_type": "code",
      "source": [
        "class LinearRegressionModel2(nn.Module):\n",
        "  def __init__(self):\n",
        "    super().__init__()\n",
        "    self.linear_layer = nn.Linear(in_features=1,out_features=1) # refer above \n",
        "\n",
        "  # Define the forward computation (input data x flows through nn.Linear())\n",
        "  def forward(self, x: torch.Tensor) -> torch.Tensor:\n",
        "      return self.linear_layer(x)\n",
        "\n",
        "# Set the manual seed when creating the model (this isn't always need but is used for demonstrative purposes, try commenting it out and seeing what happens)\n",
        "torch.manual_seed(42)\n",
        "model_1 = LinearRegressionModel2()\n",
        "model_1, model_1.state_dict()"
      ],
      "metadata": {
        "id": "RTOMsjq5RFGu",
        "colab": {
          "base_uri": "https://localhost:8080/"
        },
        "outputId": "0ca51dee-beb9-472a-a379-9a717445f6eb"
      },
      "execution_count": 30,
      "outputs": [
        {
          "output_type": "execute_result",
          "data": {
            "text/plain": [
              "(LinearRegressionModel2(\n",
              "   (linear_layer): Linear(in_features=1, out_features=1, bias=True)\n",
              " ),\n",
              " OrderedDict([('linear_layer.weight', tensor([[0.7645]])),\n",
              "              ('linear_layer.bias', tensor([0.8300]))]))"
            ]
          },
          "metadata": {},
          "execution_count": 30
        }
      ]
    },
    {
      "cell_type": "code",
      "source": [],
      "metadata": {
        "id": "Cp8f6qHCS5fX"
      },
      "execution_count": 30,
      "outputs": []
    },
    {
      "cell_type": "code",
      "source": [
        "next(model_1.parameters()).device"
      ],
      "metadata": {
        "colab": {
          "base_uri": "https://localhost:8080/"
        },
        "id": "zHus5sKEyEzR",
        "outputId": "d7fe507d-b5d0-482e-f25b-9bc9241ec99a"
      },
      "execution_count": 31,
      "outputs": [
        {
          "output_type": "execute_result",
          "data": {
            "text/plain": [
              "device(type='cpu')"
            ]
          },
          "metadata": {},
          "execution_count": 31
        }
      ]
    },
    {
      "cell_type": "code",
      "source": [
        "# Create the loss function\n",
        "loss_fn = nn.MSELoss() # MAE loss is same as L1Loss\n",
        "\n",
        "# Create the optimizer\n",
        "optimizer = torch.optim.SGD(params=model_1.parameters(), # parameters of target model to optimize\n",
        "                            lr=0.01) # learning rate (how much the optimizer should change parameters at each step, higher=more (less stable), lower=less (might take a long time))"
      ],
      "metadata": {
        "id": "HYbFGGjDlCA9"
      },
      "execution_count": 32,
      "outputs": []
    },
    {
      "cell_type": "code",
      "source": [
        "torch.manual_seed(42)\n",
        "\n",
        "# Set the number of epochs \n",
        "epochs = 2000 \n",
        "\n",
        "# Put data on the available device\n",
        "# Without this, error will happen (not all model/data on device)\n",
        "\"\"\"X_train = X_train.to(device)\n",
        "X_test = X_test.to(device)\n",
        "y_train = y_train.to(device)\n",
        "y_test = y_test.to(device)\n",
        "\"\"\"\n",
        "for epoch in range(epochs):\n",
        "    ### Training\n",
        "    model_1.train() # train mode is on by default after construction\n",
        "\n",
        "    # 1. Forward pass\n",
        "    y_pred = model_1(X_train)\n",
        "\n",
        "    # 2. Calculate loss\n",
        "    loss = loss_fn(y_pred, y_train)\n",
        "\n",
        "    # 3. Zero grad optimizer\n",
        "    optimizer.zero_grad()\n",
        "\n",
        "    # 4. Loss backward\n",
        "    loss.backward()\n",
        "\n",
        "    # 5. Step the optimizer\n",
        "    optimizer.step()\n",
        "\n",
        "    ### Testing\n",
        "    model_1.eval() # put the model in evaluation mode for testing (inference)\n",
        "    # 1. Forward pass\n",
        "    with torch.inference_mode():\n",
        "        test_pred = model_1(X_test)\n",
        "    \n",
        "        # 2. Calculate the loss\n",
        "        test_loss = loss_fn(test_pred, y_test)\n",
        "\n",
        "    if epoch % 100 == 0:\n",
        "        print(f\"Epoch: {epoch} | Train loss: {loss} | Test loss: {test_loss}\")"
      ],
      "metadata": {
        "id": "1hSwO6P9S7wz",
        "colab": {
          "base_uri": "https://localhost:8080/"
        },
        "outputId": "087fd0ce-b0c5-46e0-8c5c-a211d60367ff"
      },
      "execution_count": 36,
      "outputs": [
        {
          "output_type": "stream",
          "name": "stdout",
          "text": [
            "Epoch: 0 | Train loss: 2.3004764443612657e-05 | Test loss: 0.00010051563003798947\n",
            "Epoch: 100 | Train loss: 1.9139293726766482e-05 | Test loss: 8.36265753605403e-05\n",
            "Epoch: 200 | Train loss: 1.592350054124836e-05 | Test loss: 6.957524601602927e-05\n",
            "Epoch: 300 | Train loss: 1.3247661627246998e-05 | Test loss: 5.788342605228536e-05\n",
            "Epoch: 400 | Train loss: 1.1021616046491545e-05 | Test loss: 4.815687134396285e-05\n",
            "Epoch: 500 | Train loss: 9.169727491098456e-06 | Test loss: 4.006530434708111e-05\n",
            "Epoch: 600 | Train loss: 7.6289115895633586e-06 | Test loss: 3.3333424653392285e-05\n",
            "Epoch: 700 | Train loss: 6.3469897213508375e-06 | Test loss: 2.7731864975066856e-05\n",
            "Epoch: 800 | Train loss: 5.280526238493621e-06 | Test loss: 2.3072318072081544e-05\n",
            "Epoch: 900 | Train loss: 4.393245035316795e-06 | Test loss: 1.9195222193957306e-05\n",
            "Epoch: 1000 | Train loss: 3.6549959077092353e-06 | Test loss: 1.596983929630369e-05\n",
            "Epoch: 1100 | Train loss: 3.0409166811296018e-06 | Test loss: 1.3286864486872219e-05\n",
            "Epoch: 1200 | Train loss: 2.52999552685651e-06 | Test loss: 1.1054760761908256e-05\n",
            "Epoch: 1300 | Train loss: 2.104853365381132e-06 | Test loss: 9.196375685860403e-06\n",
            "Epoch: 1400 | Train loss: 1.7512053318569087e-06 | Test loss: 7.651460691704415e-06\n",
            "Epoch: 1500 | Train loss: 1.4569234281225363e-06 | Test loss: 6.365844456013292e-06\n",
            "Epoch: 1600 | Train loss: 1.2121541885790066e-06 | Test loss: 5.295957180351252e-06\n",
            "Epoch: 1700 | Train loss: 1.008506842481438e-06 | Test loss: 4.406446350913029e-06\n",
            "Epoch: 1800 | Train loss: 8.390487096221477e-07 | Test loss: 3.6659007491834927e-06\n",
            "Epoch: 1900 | Train loss: 6.980361604291829e-07 | Test loss: 3.0499068088829517e-06\n"
          ]
        }
      ]
    },
    {
      "cell_type": "code",
      "source": [
        "model_1.state_dict()"
      ],
      "metadata": {
        "colab": {
          "base_uri": "https://localhost:8080/"
        },
        "id": "9bmi5JAylIho",
        "outputId": "d3feed20-b94f-4f10-9d43-933f49d711da"
      },
      "execution_count": 37,
      "outputs": [
        {
          "output_type": "execute_result",
          "data": {
            "text/plain": [
              "OrderedDict([('linear_layer.weight', tensor([[0.6967]])),\n",
              "             ('linear_layer.bias', tensor([0.3013]))])"
            ]
          },
          "metadata": {},
          "execution_count": 37
        }
      ]
    },
    {
      "cell_type": "code",
      "source": [
        "# Find our model's learned parameters\n",
        "from pprint import pprint # pprint = pretty print, see: https://docs.python.org/3/library/pprint.html \n",
        "print(\"The model learned the following values for weights and bias:\")\n",
        "pprint(model_1.state_dict())\n",
        "print(\"\\nAnd the original values for weights and bias are:\")\n",
        "print(f\"weights: {weight}, bias: {bias}\")"
      ],
      "metadata": {
        "colab": {
          "base_uri": "https://localhost:8080/"
        },
        "id": "K67DWCrYmLyC",
        "outputId": "18c45f22-f886-4803-ee0c-af41fae1c4a4"
      },
      "execution_count": 38,
      "outputs": [
        {
          "output_type": "stream",
          "name": "stdout",
          "text": [
            "The model learned the following values for weights and bias:\n",
            "OrderedDict([('linear_layer.weight', tensor([[0.6967]])),\n",
            "             ('linear_layer.bias', tensor([0.3013]))])\n",
            "\n",
            "And the original values for weights and bias are:\n",
            "weights: 0.7, bias: 0.3\n"
          ]
        }
      ]
    },
    {
      "cell_type": "code",
      "source": [
        "model_1.eval()\n",
        "\n",
        "with torch.inference_mode():\n",
        "  y_pred_new = model_1(X_test)\n",
        "\n",
        "print(y_pred_new)"
      ],
      "metadata": {
        "colab": {
          "base_uri": "https://localhost:8080/"
        },
        "id": "dm-3shed6uKf",
        "outputId": "27fecbd2-6a8d-4318-90da-a4ff5ccdcb69"
      },
      "execution_count": 39,
      "outputs": [
        {
          "output_type": "stream",
          "name": "stdout",
          "text": [
            "tensor([[0.8587],\n",
            "        [0.8726],\n",
            "        [0.8866],\n",
            "        [0.9005],\n",
            "        [0.9144],\n",
            "        [0.9284],\n",
            "        [0.9423],\n",
            "        [0.9563],\n",
            "        [0.9702],\n",
            "        [0.9841]])\n"
          ]
        }
      ]
    },
    {
      "cell_type": "code",
      "source": [
        "plot_predictions(predictions=y_pred_new)"
      ],
      "metadata": {
        "id": "YmdTnBnrCv6X",
        "outputId": "9a80b460-99eb-44ac-8482-45598f4f9b7f",
        "colab": {
          "base_uri": "https://localhost:8080/",
          "height": 599
        }
      },
      "execution_count": 40,
      "outputs": [
        {
          "output_type": "display_data",
          "data": {
            "text/plain": [
              "<Figure size 1000x700 with 1 Axes>"
            ],
            "image/png": "[encoded data removed]"
          },
          "metadata": {}
        }
      ]
    },
    {
      "cell_type": "code",
      "source": [],
      "metadata": {
        "id": "nwPVp9fbC3ef"
      },
      "execution_count": null,
      "outputs": []
    }
  ]
}