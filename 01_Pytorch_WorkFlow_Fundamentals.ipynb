{
  "nbformat": 4,
  "nbformat_minor": 0,
  "metadata": {
    "colab": {
      "provenance": [],
      "authorship_tag": "ABX9TyNYWdmXgW7OemqpiroOySXB",
      "include_colab_link": true
    },
    "kernelspec": {
      "name": "python3",
      "display_name": "Python 3"
    },
    "language_info": {
      "name": "python"
    }
  },
  "cells": [
    {
      "cell_type": "markdown",
      "metadata": {
        "id": "view-in-github",
        "colab_type": "text"
      },
      "source": [
        "<a href=\"https://colab.research.google.com/github/Pritush09/DeepLearning-Pytorch/blob/master/01_Pytorch_WorkFlow_Fundamentals.ipynb\" target=\"_parent\"><img src=\"https://colab.research.google.com/assets/colab-badge.svg\" alt=\"Open In Colab\"/></a>"
      ]
    },
    {
      "cell_type": "markdown",
      "source": [
        "Where can can you get help?\n",
        "All of the materials for this course are available on GitHub.(https://github.com/mrdbourke/pytorch-deep-learning)\n",
        "\n",
        "And if you run into trouble, you can ask a question on the Discussions page there too.\n",
        "\n",
        "There's also the PyTorch developer forums(https://discuss.pytorch.org/), a very helpful place for all things PyTorch.\n",
        "\n",
        "Let's start by putting what we're covering into a dictionary to reference later."
      ],
      "metadata": {
        "id": "sYUFE0j0jiKO"
      }
    },
    {
      "cell_type": "markdown",
      "source": [
        "We're going to get \n",
        "\n",
        "torch\n",
        "\n",
        "`torch.nn` (nn stands for neural network and this package contains the building \n",
        "blocks for creating neural networks in PyTorch) and \n",
        "\n",
        "matplotlib."
      ],
      "metadata": {
        "id": "FOE93Jlbl6ra"
      }
    },
    {
      "cell_type": "code",
      "source": [
        "import torch\n",
        "from torch import nn # nn contains all of PyTorch's building blocks for neural networks\n",
        "import matplotlib.pyplot as plt\n",
        "\n",
        "# Check PyTorch version\n",
        "torch.__version__"
      ],
      "metadata": {
        "id": "kjUg-g5-mKen"
      },
      "execution_count": null,
      "outputs": []
    },
    {
      "cell_type": "markdown",
      "source": [
        "\n",
        "# 1. Data (preparing and loading)\n",
        "I want to stress that \"data\" in machine learning can be almost anything you can imagine. A table of numbers (like a big Excel spreadsheet), images of any kind, videos (YouTube has lots of data!), audio files like songs or podcasts, protein structures, text and more.\n",
        "\n",
        "machine learning is a game of two parts: 1. turn your data into a representative set of numbers and 2. build or pick a model to learn the representation as best as possible\n",
        "\n",
        "### Machine learning is a game of two parts:\n",
        "\n",
        "Turn your data, whatever it is, into numbers (a representation).\n",
        "\n",
        "Pick or build a model to learn the representation as best as possible."
      ],
      "metadata": {
        "id": "MDQtfnNImfos"
      }
    },
    {
      "cell_type": "markdown",
      "source": [
        "let's create our data as a straight line.\n",
        "\n",
        "We'll use linear regression to create the data with known parameters (things that can be learned by a model) and then we'll use PyTorch to see if we can build model to estimate these parameters using gradient descent."
      ],
      "metadata": {
        "id": "JONWCExmn7Ts"
      }
    },
    {
      "cell_type": "code",
      "source": [
        "torch.arange(0,1,0.01)"
      ],
      "metadata": {
        "id": "AEjeHUlfoczC"
      },
      "execution_count": null,
      "outputs": []
    },
    {
      "cell_type": "code",
      "source": [
        "torch.arange(0,1,0.01).shape"
      ],
      "metadata": {
        "id": "7N9BlCebqb-e"
      },
      "execution_count": null,
      "outputs": []
    },
    {
      "cell_type": "code",
      "source": [
        "torch.arange(0,1,0.01).unsqueeze(dim=1)"
      ],
      "metadata": {
        "id": "PBNZ6SO0qL_3"
      },
      "execution_count": null,
      "outputs": []
    },
    {
      "cell_type": "code",
      "source": [
        "# Create *known* parameters\n",
        "weight = 0.7\n",
        "bias = 0.3\n",
        "\n",
        "# Create data\n",
        "start = 0\n",
        "end = 1\n",
        "step = 0.02\n",
        "X = torch.arange(start, end, step).unsqueeze(dim=1)# later on why we use this unsqueez \n",
        "y = weight * X + bias\n",
        "\n",
        "X[:10], y[:10] , X.shape"
      ],
      "metadata": {
        "id": "z5e5QkfJoE2A"
      },
      "execution_count": null,
      "outputs": []
    },
    {
      "cell_type": "markdown",
      "source": [
        "https://www.learnpytorch.io/01_pytorch_workflow/#split-data-into-training-and-test-sets"
      ],
      "metadata": {
        "id": "fwhst61RsaYG"
      }
    },
    {
      "cell_type": "code",
      "source": [
        "# Create train/test split\n",
        "train_split = int(0.8 * len(X)) # 80% of data used for training set, 20% for testing \n",
        "X_train, y_train = X[:train_split], y[:train_split]\n",
        "X_test, y_test = X[train_split:], y[train_split:]\n",
        "\n",
        "len(X_train), len(y_train), len(X_test), len(y_test)"
      ],
      "metadata": {
        "id": "FonFnQxnosoc"
      },
      "execution_count": null,
      "outputs": []
    },
    {
      "cell_type": "code",
      "source": [
        "def plot_predictions(train_data=X_train, \n",
        "                     train_labels=y_train, \n",
        "                     test_data=X_test, \n",
        "                     test_labels=y_test, \n",
        "                     predictions=None):\n",
        "  \"\"\"\n",
        "  Plots training data, test data and compares predictions.\n",
        "  \"\"\"\n",
        "  plt.figure(figsize=(10, 7))\n",
        "\n",
        "  # Plot training data in blue\n",
        "  plt.scatter(train_data, train_labels, c=\"b\", s=4, label=\"Training data\")\n",
        "  \n",
        "  # Plot test data in green\n",
        "  plt.scatter(test_data, test_labels, c=\"g\", s=4, label=\"Testing data\")\n",
        "\n",
        "  if predictions is not None:\n",
        "    # Plot the predictions in red (predictions were made on the test data)\n",
        "    plt.scatter(test_data, predictions, c=\"r\", s=4, label=\"Predictions\")\n",
        "\n",
        "  # Show the legend\n",
        "  # The prop keyword is used to change the font size property. It is used in Matplotlib as Using a prop keyword for changing the font size in legend.\n",
        "  plt.legend(prop={\"size\": 14});"
      ],
      "metadata": {
        "id": "qMv7TibrsTaX"
      },
      "execution_count": null,
      "outputs": []
    },
    {
      "cell_type": "code",
      "source": [
        "plot_predictions()"
      ],
      "metadata": {
        "id": "BqlnRZCQtJMB"
      },
      "execution_count": null,
      "outputs": []
    },
    {
      "cell_type": "markdown",
      "source": [
        "Parameters are Tensor subclasses, that have a very special property when used with Module s - when they’re assigned as Module attributes they are automatically added to the list of its parameters, and will appear e.g. in parameters() iterator. Assigning a Tensor doesn’t have such effect. This is because one might want to cache some temporary state, like last hidden state of the RNN, in the model. If there was no such class as Parameter, these temporaries would get registered too."
      ],
      "metadata": {
        "id": "d12KFXFWO4Pe"
      }
    },
    {
      "cell_type": "code",
      "source": [
        "# Create a Linear Regression model class\n",
        "class LinearRegressionModel(nn.Module): # <- almost everything in PyTorch is a nn.Module (think of this as neural network lego blocks)\n",
        "    def __init__(self):\n",
        "        super().__init__() \n",
        "        self.weights = nn.Parameter(torch.randn(1, # <- start with random weights (this will get adjusted as the model learns)\n",
        "                                                dtype=torch.float), # <- PyTorch loves float32 by default\n",
        "                                    requires_grad=True) # <- can we update this value with gradient descent?)\n",
        "\n",
        "        self.bias = nn.Parameter(torch.randn(1, # <- start with random bias (this will get adjusted as the model learns)\n",
        "                                            dtype=torch.float), # <- PyTorch loves float32 by default\n",
        "                                requires_grad=True) # <- can we update this value with gradient descent?))\n",
        "\n",
        "    # Forward defines the computation in the model\n",
        "    def forward(self, x: torch.Tensor) -> torch.Tensor: # <- \"x\" is the input data (e.g. training/testing features)\n",
        "        return self.weights * x + self.bias # <- this is the linear regression formula (y = m*x + b)"
      ],
      "metadata": {
        "id": "pPOIjE4ztLaq"
      },
      "execution_count": null,
      "outputs": []
    },
    {
      "cell_type": "markdown",
      "source": [
        "* nn.Module contains the larger building blocks (layers)\n",
        "* nn.Parameter contains the smaller parameters like weights and biases (put these together to make nn.Module(s))\n",
        "* forward() tells the larger blocks how to make calculations on inputs (tensors full of data) within nn.Module(s)\n",
        "* torch.optim contains optimization methods on how to improve the parameters within nn.Parameter to better represent input data"
      ],
      "metadata": {
        "id": "-4yANHuc8qXV"
      }
    },
    {
      "cell_type": "markdown",
      "source": [
        "# Checking the contents of a PyTorch model\n",
        "Now we've got these out of the way, let's create a model instance with the class we've made and check its parameters using .parameters()."
      ],
      "metadata": {
        "id": "fvjsIVGkqwN1"
      }
    },
    {
      "cell_type": "code",
      "source": [
        "# Set manual seed since nn.Parameter are randomly initialzied\n",
        "torch.manual_seed(42)\n",
        "\n",
        "# Create an instance of the model (this is a subclass of nn.Module that contains nn.Parameter(s))\n",
        "model_0 = LinearRegressionModel()\n",
        "\n",
        "# Check the nn.Parameter(s) within the nn.Module subclass we created\n",
        "list(model_0.parameters())"
      ],
      "metadata": {
        "id": "MZ90_rx_r96y"
      },
      "execution_count": null,
      "outputs": []
    },
    {
      "cell_type": "markdown",
      "source": [
        "We can also get the state (what the model contains) of the model using `.state_dict()`."
      ],
      "metadata": {
        "id": "wAAiwczQsDkh"
      }
    },
    {
      "cell_type": "code",
      "source": [
        "model_0.state_dict()"
      ],
      "metadata": {
        "id": "_blnRSWQsIpd"
      },
      "execution_count": null,
      "outputs": []
    },
    {
      "cell_type": "markdown",
      "source": [
        "\n",
        "Notice how the values for weights and bias from model_0.state_dict() come out as random float tensors?\n",
        "\n",
        "This is becuase we initialized them above using torch.randn().\n",
        "\n",
        "Essentially we want to start from random parameters and get the model to update them towards parameters that fit our data best (the hardcoded weight and bias values we set when creating our straight line data)."
      ],
      "metadata": {
        "id": "CRfZG_ZdsVaB"
      }
    },
    {
      "cell_type": "markdown",
      "source": [
        "Because our model starts with random values, right now it'll have poor predictive power."
      ],
      "metadata": {
        "id": "bPhrraKhslJg"
      }
    },
    {
      "cell_type": "code",
      "source": [
        "# Making prediction\n",
        "with torch.inference_mode(): \n",
        "    y_preds = model_0(X_test)"
      ],
      "metadata": {
        "id": "W1Dxzi92stWf"
      },
      "execution_count": null,
      "outputs": []
    },
    {
      "cell_type": "markdown",
      "source": [
        "why we used this to test model becz we dont want to track the gd of the number which we are just testing\n",
        "more here  -  https://twitter.com/PyTorch/status/1437838231505096708?s=20"
      ],
      "metadata": {
        "id": "Tjj6RiXv3rfW"
      }
    },
    {
      "cell_type": "code",
      "source": [
        "y_preds , y_test"
      ],
      "metadata": {
        "id": "0b7M6hiR01cW"
      },
      "execution_count": null,
      "outputs": []
    },
    {
      "cell_type": "code",
      "source": [
        "plot_predictions(predictions=y_preds)"
      ],
      "metadata": {
        "id": "CADZbMwn06g-"
      },
      "execution_count": null,
      "outputs": []
    },
    {
      "cell_type": "markdown",
      "source": [
        "\n",
        "Notice how there's one prediction value per testing sample.\n",
        "\n",
        "This is because of the kind of data we're using. For our straight line, one X value maps to one y value.\n",
        "\n",
        "However, machine learning models are very flexible. You could have 100 X values mapping to one, two, three or 10 y values. It all depends on what you're working on"
      ],
      "metadata": {
        "id": "QlyWCHMF1Uag"
      }
    },
    {
      "cell_type": "code",
      "source": [
        "y_test - y_preds"
      ],
      "metadata": {
        "id": "SGrOQ5vl2QOL"
      },
      "execution_count": null,
      "outputs": []
    },
    {
      "cell_type": "markdown",
      "source": [
        "#  Train model¶\n",
        "Right now our model is making predictions using random parameters to make calculations, it's basically guessing (randomly).\n",
        "\n",
        "To fix that, we can update its internal parameters (I also refer to parameters as patterns), the weights and bias values we set randomly using nn.Parameter() and torch.randn() to be something that better represents the data.\n",
        "\n",
        "We could hard code this (since we know the default values weight=0.7 and bias=0.3) but where's the fun in that?\n",
        "\n",
        "Much of the time you won't know what the ideal parameters are for a model.\n",
        "\n",
        "Instead, it's much more fun to write code to see if the model can try and figure them out itself."
      ],
      "metadata": {
        "id": "janeyG2x2xdc"
      }
    },
    {
      "cell_type": "markdown",
      "source": [
        "\n",
        "#Creating a loss function and optimizer in PyTorch\n",
        "For our model to update its parameters on its own, we'll need to add a few more things to our recipe.\n",
        "\n",
        "And that's a loss function as well as an optimizer.\n",
        "\n",
        "MOre - https://www.learnpytorch.io/01_pytorch_workflow/#2-build-model"
      ],
      "metadata": {
        "id": "6TCsvnZb6Ecb"
      }
    },
    {
      "cell_type": "markdown",
      "source": [
        "Loss MEtric:\n",
        "\n",
        "Mean absolute error (MAE) for regression problems (torch.nn.L1Loss()).\n",
        "\n",
        " Binary cross entropy for binary classification problems (torch.nn.BCELoss()).\n",
        "\n",
        " For Optimisation :\n",
        "\n",
        " Stochastic gradient descent (torch.optim.SGD()). \n",
        " \n",
        " Adam optimizer (torch.optim.Adam())."
      ],
      "metadata": {
        "id": "08g3BjWE6N9J"
      }
    },
    {
      "cell_type": "markdown",
      "source": [
        "For our problem, since we're predicting a number, let's use MAE (which is under torch.nn.L1Loss()) in PyTorch as our loss function."
      ],
      "metadata": {
        "id": "NFxY7uuD63YA"
      }
    },
    {
      "cell_type": "markdown",
      "source": [
        "Mean absolute error (MAE, in PyTorch: torch.nn.L1Loss) measures the absolute difference between two points (predictions and labels) and then takes the mean across all examples."
      ],
      "metadata": {
        "id": "qfpCkISE7KOs"
      }
    },
    {
      "cell_type": "markdown",
      "source": [
        "And we'll use SGD, torch.optim.SGD(params, lr) where:\n",
        "\n",
        "params is the target model parameters you'd like to optimize (e.g. the weights and bias values we randomly set before).\n",
        "\n",
        "lr is the learning rate you'd like the optimizer to update the parameters at, higher means the optimizer will try larger updates (these can sometimes be too large and the optimizer will fail to work), lower means the optimizer will try smaller updates (these can sometimes be too small and the optimizer will take too long to find the ideal values).\n",
        "\n",
        " The learning rate is considered a hyperparameter (because it's set by a machine learning engineer). Common starting values for the learning rate are 0.01, 0.001, 0.0001, however, these can also be adjusted over time (this is called learning rate scheduling)."
      ],
      "metadata": {
        "id": "abKNyI6H7OmA"
      }
    },
    {
      "cell_type": "code",
      "source": [
        "# Create the loss function\n",
        "loss_fn = nn.MSELoss() # MAE loss is same as L1Loss\n",
        "\n",
        "# Create the optimizer\n",
        "optimizer = torch.optim.SGD(params=model_0.parameters(), # parameters of target model to optimize\n",
        "                            lr=0.01) # learning rate (how much the optimizer should change parameters at each step, higher=more (less stable), lower=less (might take a long time))"
      ],
      "metadata": {
        "id": "OcN0IfE-7bHX"
      },
      "execution_count": null,
      "outputs": []
    },
    {
      "cell_type": "markdown",
      "source": [
        "# creating an optimisation loop in pytorch\n",
        "The training loop involves the model going through the training data and learning the relationships between the features and labels.\n",
        "\n",
        "The testing loop involves going through the testing data and evaluating how good the patterns are that the model learned on the training data (the model never see's the testing data during training).\n",
        "\n",
        "Each of these is called a \"loop\" because we want our model to look (loop through) at each sample in each dataset."
      ],
      "metadata": {
        "id": "JYtj0FAk7lSJ"
      }
    },
    {
      "cell_type": "markdown",
      "source": [
        "1\tForward pass\tThe model goes through all of the training data once, performing its forward() function calculations.\tmodel(x_train)\n",
        "\n",
        "2\tCalculate the loss\tThe model's outputs (predictions) are compared to the ground truth and evaluated to see how wrong they are.\tloss = loss_fn(y_pred, y_train)\n",
        "\n",
        "3\tZero gradients\tThe optimizers gradients are set to zero (they are accumulated by default) so they can be recalculated for the specific training step.\toptimizer.zero_grad()\n",
        "\n",
        "4\tPerform backpropagation on the loss\tComputes the gradient of the loss with respect for every model parameter to be updated (each parameter with requires_grad=True). This is known as backpropagation, hence \"backwards\".\tloss.backward()\n",
        "\n",
        "5\tUpdate the optimizer (gradient descent)\tUpdate the parameters with requires_grad=True with respect to the loss gradients in order to improve them.\toptimizer.step()"
      ],
      "metadata": {
        "id": "WZxJKD8DBcdk"
      }
    },
    {
      "cell_type": "markdown",
      "source": [
        "And on the ordering of things, the above is a good default order but you may see slightly different orders. Some rules of thumb:\n",
        "\n",
        "Calculate the loss (loss = ...) before performing backpropagation on it (loss.backward()).\n",
        "\n",
        "Zero gradients (optimizer.zero_grad()) before stepping them (optimizer.step()).\n",
        "\n",
        "Step the optimizer (optimizer.step()) after performing backpropagation on the loss (loss.backward())."
      ],
      "metadata": {
        "id": "rBur0SwMVMCb"
      }
    },
    {
      "cell_type": "code",
      "source": [
        "# epoch is the number of time u want to loop through the data \n",
        "epochs= 1632\n",
        "\n",
        "# Create empty loss lists to track values\n",
        "train_loss_values = []\n",
        "test_loss_values = []\n",
        "epoch_count = []\n",
        "\n",
        "\n",
        "# looping through the data point\n",
        "for epoch in range(epochs):\n",
        "  # stting the model to training mode to give all the parameter which require Grad to grad\n",
        "  model_0.train()\n",
        "\n",
        "  # GOing through the forward pass\n",
        "  y_pred= model_0(X_train)\n",
        "\n",
        "  # claculating the loss via loss function of the pytorch\n",
        "  loss = loss_fn(y_pred,y_train)\n",
        "\n",
        "  # Zero grad of the optimizer\n",
        "  optimizer.zero_grad() # this is before the step as we want to start fresh agin when we are loopint through the data \n",
        "\n",
        "  # PErofrm backpropagation on the loss w.r.t loss of the model\n",
        "  loss.backward()\n",
        "\n",
        "  # Progress the optimizer (perform GD)\n",
        "  optimizer.step() # how the optimizer changes will accumulate through the loop so for better computing if we want to know the GDs in each step we dont need to do this\n",
        "  # \n",
        "\n",
        "# ---------------------------------------------------------------------------------------------------------------------------\n",
        "  # Testing phase\n",
        "\n",
        "  model_0.eval()# this turns off the various model settings which are not needed for the testing purpose\n",
        "\n",
        "\n",
        "#  we can write the testing code differntly not like this down here\n",
        "\n",
        "  with torch.inference_mode():\n",
        "    # 1. Forward pass on test data\n",
        "    test_pred = model_0(X_test)\n",
        "\n",
        "    # 2. Caculate loss on test data\n",
        "    test_loss = loss_fn(test_pred, y_test.type(torch.float)) # predictions come in torch.float datatype, so comparisons need to be done with tensors of the same type\n",
        "\n",
        "    # Print out what's happening\n",
        "    if epoch % 10 == 0:\n",
        "          epoch_count.append(epoch)\n",
        "          train_loss_values.append(loss.detach().numpy())\n",
        "          test_loss_values.append(test_loss.detach().numpy())\n",
        "          print(f\"Epoch: {epoch} | MSE Train Loss: {loss} | MSE Test Loss: {test_loss} \")"
      ],
      "metadata": {
        "id": "C-18N1BpCmXd"
      },
      "execution_count": null,
      "outputs": []
    },
    {
      "cell_type": "code",
      "source": [
        "# Plot the loss curves\n",
        "plt.plot(epoch_count, train_loss_values, label=\"Train loss\")\n",
        "plt.plot(epoch_count, test_loss_values, label=\"Test loss\")\n",
        "plt.title(\"Training and test loss curves\")\n",
        "plt.ylabel(\"Loss\")\n",
        "plt.xlabel(\"Epochs\")\n",
        "plt.legend();"
      ],
      "metadata": {
        "colab": {
          "base_uri": "https://localhost:8080/",
          "height": 472
        },
        "id": "NsJ65O80taUr",
        "outputId": "3dcf9fe7-18bc-41f0-86b8-5dd076f6c6f3"
      },
      "execution_count": 18,
      "outputs": [
        {
          "data": {
            "image/png": "[encoded data removed]",
            "text/plain": [
              "<Figure size 640x480 with 1 Axes>"
            ]
          },
          "metadata": {},
          "output_type": "display_data"
        }
      ]
    },
    {
      "cell_type": "markdown",
      "source": [
        "Nice! The loss curves show the loss going down over time. Remember, loss is the measure of how wrong your model is, so the lower the better.\n",
        "\n",
        "But why did the loss go down?\n",
        "\n",
        "Well, thanks to our loss function and optimizer, the model's internal parameters (weights and bias) were updated to better reflect the underlying patterns in the data.\n",
        "\n",
        "Let's inspect our model's .state_dict() to see see how close our model gets to the original values we set for weights and bias."
      ],
      "metadata": {
        "id": "BK4rY3vOD5Se"
      }
    },
    {
      "cell_type": "code",
      "source": [
        "# Find our model's learned parameters\n",
        "print(\"The model learned the following values for weights and bias:\")\n",
        "print(model_0.state_dict())\n",
        "print(\"\\nAnd the original values for weights and bias are:\")\n",
        "print(f\"weights: {weight}, bias: {bias}\")"
      ],
      "metadata": {
        "colab": {
          "base_uri": "https://localhost:8080/"
        },
        "id": "_Nip7iL48OwV",
        "outputId": "55037f48-faa8-4e26-ebf2-4f6f23221522"
      },
      "execution_count": 19,
      "outputs": [
        {
          "metadata": {
            "tags": null
          },
          "name": "stdout",
          "output_type": "stream",
          "text": [
            "The model learned the following values for weights and bias:\n",
            "OrderedDict([('weights', tensor([0.6440])), ('bias', tensor([0.3229]))])\n",
            "\n",
            "And the original values for weights and bias are:\n",
            "weights: 0.7, bias: 0.3\n"
          ]
        }
      ]
    },
    {
      "cell_type": "markdown",
      "source": [
        "Our model got very close to calculate the exact original values for weight and bias and after tweeking the epoch value from 100 to 1631 the model is doing perfect"
      ],
      "metadata": {
        "id": "cEIeIGJTEMii"
      }
    },
    {
      "cell_type": "markdown",
      "source": [
        "# Making predictions with a trained PyTorch model (inference)\n",
        "Once you've trained a model, you'll likely want to make predictions with it.\n",
        "\n",
        "We've already seen a glimpse of this in the training and testing code above, the steps to do it outside of the training/testing loop are similar.\n",
        "\n",
        "There are three things to remember when making predictions (also called performing inference) with a PyTorch model:\n",
        "\n",
        "Set the model in evaluation mode (model.eval()).\n",
        "\n",
        "Make the predictions using the inference mode context manager (with torch.inference_mode(): ...).\n",
        "\n",
        "All predictions should be made with objects on the same device (e.g. data and model on GPU only or data and model on CPU only).\n",
        "\n",
        "The first two items make sure all helpful calculations and settings PyTorch uses behind the scenes during training but aren't necessary for inference are turned off (this results in faster computation). And the third ensures that you won't run into cross-device errors."
      ],
      "metadata": {
        "id": "FWGfvh_2EMnR"
      }
    },
    {
      "cell_type": "code",
      "source": [
        "model_0.eval()\n",
        "\n",
        "with torch.inference_mode():\n",
        "  y_pred_new = model_0(X_test)\n",
        "\n",
        "print(y_pred_new)"
      ],
      "metadata": {
        "colab": {
          "base_uri": "https://localhost:8080/"
        },
        "id": "kb6JcJZ99AaX",
        "outputId": "8086e6c4-a6d7-489f-efdc-88ded7195052"
      },
      "execution_count": 20,
      "outputs": [
        {
          "metadata": {
            "tags": null
          },
          "name": "stdout",
          "output_type": "stream",
          "text": [
            "tensor([[0.8381],\n",
            "        [0.8510],\n",
            "        [0.8638],\n",
            "        [0.8767],\n",
            "        [0.8896],\n",
            "        [0.9025],\n",
            "        [0.9154],\n",
            "        [0.9282],\n",
            "        [0.9411],\n",
            "        [0.9540]])\n"
          ]
        }
      ]
    },
    {
      "cell_type": "code",
      "source": [
        "plot_predictions(predictions=y_pred_new)"
      ],
      "metadata": {
        "colab": {
          "base_uri": "https://localhost:8080/",
          "height": 599
        },
        "id": "_m0fSrtr7_p5",
        "outputId": "4332f6bd-ab47-47f9-d2dd-4bced60c8210"
      },
      "execution_count": 21,
      "outputs": [
        {
          "data": {
            "image/png": "[encoded data removed]",
            "text/plain": [
              "<Figure size 1000x700 with 1 Axes>"
            ]
          },
          "metadata": {},
          "output_type": "display_data"
        }
      ]
    },
    {
      "cell_type": "markdown",
      "source": [
        "#Saving and loading a PyTorch model\n",
        "If you've trained a PyTorch model, chances are you'll want to save it and export it somewhere.\n",
        "\n",
        "As in, you might train it on Google Colab or your local machine with a GPU but you'd like to now export it to some sort of application where others can use it.\n",
        "\n",
        "Or maybe you'd like to save your progress on a model and come back and load it back later.\n",
        "\n",
        "For saving and loading models in PyTorch, there are three main methods you should be aware of (all of below have been taken from the PyTorch saving and loading models guide):"
      ],
      "metadata": {
        "id": "Uath15149Yop"
      }
    },
    {
      "cell_type": "markdown",
      "source": [
        "PyTorch method\tWhat does it do?\n",
        "\n",
        "torch.save\tSaves a serialzed object to disk using Python's pickle utility. Models, tensors and various other Python objects like dictionaries can be saved using torch.save.\n",
        "\n",
        "torch.load\tUses pickle's unpickling features to deserialize and load pickled Python object files (like models, tensors or dictionaries) into memory. You can also set which device to load the object to (CPU, GPU etc).\n",
        "\n",
        "torch.nn.Module.load_state_dict\tLoads a model's parameter dictionary (model.state_dict()) using a saved state_dict() object."
      ],
      "metadata": {
        "id": "RgzpBQIIFETi"
      }
    },
    {
      "cell_type": "markdown",
      "source": [
        "`NOTE:` As stated in Python's pickle documentation, the pickle module is not secure. That means you should only ever unpickle (load) data you trust. That goes for loading PyTorch models as well. Only ever use saved PyTorch models from sources you trust."
      ],
      "metadata": {
        "id": "NBcpdrxUFPzZ"
      }
    },
    {
      "cell_type": "markdown",
      "source": [
        "Recommended way - https://pytorch.org/tutorials/beginner/saving_loading_models.html#saving-loading-model-for-inference"
      ],
      "metadata": {
        "id": "VHHxLstVFk8B"
      }
    },
    {
      "cell_type": "markdown",
      "source": [
        "\n",
        "###Saving a PyTorch model's state_dict()\n",
        "The recommended way for saving and loading a model for inference (making predictions) is by saving and loading a model's state_dict().\n",
        "\n",
        "Let's see how we can do that in a few steps:\n",
        "\n",
        "We'll create a directory for saving models to called models using Python's pathlib module.\n",
        "\n",
        "We'll create a file path to save the model to.\n",
        "\n",
        "We'll call torch.save(obj, f) where obj is the target model's state_dict() and f is the filename of where to save the model.\n",
        "\n",
        "`Note:` It's common convention for PyTorch saved models or objects to end with .pt or .pth, like saved_model_01.pth."
      ],
      "metadata": {
        "id": "UHdAAvA4FtlS"
      }
    },
    {
      "cell_type": "code",
      "source": [
        "from pathlib import Path\n",
        "\n",
        "# 1. Create models directory \n",
        "MODEL_PATH = Path(\"models\")# this will initialise the folder name in with the model\n",
        "MODEL_PATH.mkdir(parents=True, exist_ok=True)# this will create the directory in the current path \n",
        "\n",
        "# 2. Create model save path \n",
        "MODEL_NAME = \"01_pytorch_workflow_model_0.pth\" # this is the saving filename for our model \n",
        "MODEL_SAVE_PATH = MODEL_PATH / MODEL_NAME # path were to save the model\n",
        "\n",
        "# 3. Save the model state dict \n",
        "print(f\"Saving model to: {MODEL_SAVE_PATH}\")\n",
        "torch.save(obj=model_0.state_dict(), # only saving the state_dict() only saves the models learned parameters\n",
        "           f=MODEL_SAVE_PATH) "
      ],
      "metadata": {
        "colab": {
          "base_uri": "https://localhost:8080/"
        },
        "id": "krjR0fVpF8-H",
        "outputId": "1c9e19fb-256a-4097-ac05-9594068c7d44"
      },
      "execution_count": 22,
      "outputs": [
        {
          "metadata": {
            "tags": null
          },
          "name": "stdout",
          "output_type": "stream",
          "text": [
            "Saving model to: models/01_pytorch_workflow_model_0.pth\n"
          ]
        }
      ]
    },
    {
      "cell_type": "markdown",
      "source": [
        "#Loading a saved PyTorch model's state_dict()\n",
        "Since we've now got a saved model state_dict() at models/01_pytorch_workflow_model_0.pth we can now load it in using torch.nn.Module.load_state_dict(torch.load(f)) where f is the filepath of our saved model state_dict().\n",
        "\n",
        "\n",
        "\n",
        "Why call torch.load() inside torch.nn.Module.load_state_dict()?\n",
        "\n",
        "Because we only saved the model's state_dict() which is a dictionary of learned parameters and not the entire model, we first have to load the state_dict() with torch.load() and then pass that state_dict() to a new instance of our model (which is a subclass of nn.Module).\n",
        "\n",
        "Why not save the entire model?\n",
        "\n",
        "Saving the entire model(https://pytorch.org/tutorials/beginner/saving_loading_models.html#save-load-entire-model) rather than just the state_dict() is more intuitive, however, to quote the PyTorch documentation (italics mine):\n",
        "\n",
        "The disadvantage of this approach (saving the whole model) is that the serialized data is bound to the specific classes and the exact directory structure used when the model is saved...\n",
        "\n",
        "Because of this, your code can break in various ways when used in other projects or after refactors.\n",
        "\n",
        "So instead, we're using the flexible method of saving and loading just the state_dict(), which again is basically a dictionary of model parameters.\n",
        "\n",
        "Let's test it out by created another instance of LinearRegressionModel(), which is a subclass of torch.nn.Module and will hence have the in-built method load_state_dit(). "
      ],
      "metadata": {
        "id": "WP3o1UGeQz0w"
      }
    },
    {
      "cell_type": "code",
      "source": [
        "# Instantiate a new instance of our model (this will be instantiated with random weights)\n",
        "loaded_model_0 = LinearRegressionModel()\n",
        "\n",
        "# Load the state_dict of our saved model (this will update the new instance of our model with trained weights)\n",
        "loaded_model_0.load_state_dict(torch.load(f=MODEL_SAVE_PATH))"
      ],
      "metadata": {
        "id": "iaT85n3HUsNa",
        "outputId": "b87497ea-58de-430e-c357-b96983543d02",
        "colab": {
          "base_uri": "https://localhost:8080/"
        }
      },
      "execution_count": 23,
      "outputs": [
        {
          "data": {
            "text/plain": [
              "<All keys matched successfully>"
            ]
          },
          "execution_count": 23,
          "metadata": {},
          "output_type": "execute_result"
        }
      ]
    },
    {
      "cell_type": "code",
      "source": [
        "loaded_model_0.state_dict()"
      ],
      "metadata": {
        "id": "GHXBCre8XwBq",
        "outputId": "1436de3e-36f4-41b4-985b-218b7b06a2ca",
        "colab": {
          "base_uri": "https://localhost:8080/"
        }
      },
      "execution_count": 24,
      "outputs": [
        {
          "data": {
            "text/plain": [
              "OrderedDict([('weights', tensor([0.6440])), ('bias', tensor([0.3229]))])"
            ]
          },
          "execution_count": 24,
          "metadata": {},
          "output_type": "execute_result"
        }
      ]
    },
    {
      "cell_type": "markdown",
      "source": [
        "# steps for testing the model\n",
        "\n",
        "* Set the model in evaluation mode (model.eval()).\n",
        "* Make the predictions using the inference mode context manager (with torch.inference_mode(): ...).\n",
        "* All predictions should be made with objects on the same device (e.g. data and model on GPU only or data and model on CPU only)."
      ],
      "metadata": {
        "id": "-Z41JQ1eX4ZQ"
      }
    },
    {
      "cell_type": "code",
      "source": [
        "# 1. Put the loaded model into evaluation mode\n",
        "loaded_model_0.eval()\n",
        "\n",
        "# 2. Use the inference mode context manager to make predictions\n",
        "with torch.inference_mode():\n",
        "    loaded_model_preds = loaded_model_0(X_test) # perform a forward pass on the test data with the loaded model"
      ],
      "metadata": {
        "id": "FjhUBseAYHX7"
      },
      "execution_count": 25,
      "outputs": []
    },
    {
      "cell_type": "code",
      "source": [
        "loaded_model_preds"
      ],
      "metadata": {
        "id": "CIED2bokYLBx",
        "outputId": "bb548c05-4539-4580-83d6-e4dfb64917ba",
        "colab": {
          "base_uri": "https://localhost:8080/"
        }
      },
      "execution_count": 26,
      "outputs": [
        {
          "data": {
            "text/plain": [
              "tensor([[0.8381],\n",
              "        [0.8510],\n",
              "        [0.8638],\n",
              "        [0.8767],\n",
              "        [0.8896],\n",
              "        [0.9025],\n",
              "        [0.9154],\n",
              "        [0.9282],\n",
              "        [0.9411],\n",
              "        [0.9540]])"
            ]
          },
          "execution_count": 26,
          "metadata": {},
          "output_type": "execute_result"
        }
      ]
    },
    {
      "cell_type": "code",
      "source": [
        "# Compare previous model predictions with loaded model predictions (these should be the same)\n",
        "y_pred_new == loaded_model_preds"
      ],
      "metadata": {
        "id": "JKDkABajYOBU",
        "outputId": "f8f21b8f-7ab1-4f8e-b8f5-9efd163ea804",
        "colab": {
          "base_uri": "https://localhost:8080/"
        }
      },
      "execution_count": 27,
      "outputs": [
        {
          "data": {
            "text/plain": [
              "tensor([[True],\n",
              "        [True],\n",
              "        [True],\n",
              "        [True],\n",
              "        [True],\n",
              "        [True],\n",
              "        [True],\n",
              "        [True],\n",
              "        [True],\n",
              "        [True]])"
            ]
          },
          "execution_count": 27,
          "metadata": {},
          "output_type": "execute_result"
        }
      ]
    },
    {
      "cell_type": "markdown",
      "source": [
        "We'll create the same style of model as before except this time, instead of defining the weight and bias parameters of our model manually using nn.Parameter(), we'll use nn.Linear(in_features, out_features) to do it for us.\n",
        "\n",
        "Where in_features is the number of dimensions your input data has and out_features is the number of dimensions you'd like it to be output to.\n",
        "\n",
        "In our case, both of these are 1 since our data has 1 input feature (X) per label (y).\n",
        "\n",
        "refer this - https://pytorch.org/docs/stable/generated/torch.nn.Linear.html"
      ],
      "metadata": {
        "id": "6YYw6h6eYSGT"
      }
    },
    {
      "cell_type": "markdown",
      "source": [
        "Creating a linear regression model using nn.Parameter versus using nn.Linear. There are plenty more examples of where the torch.nn module has pre-built computations, including many popular and useful neural network layers."
      ],
      "metadata": {
        "id": "ugFOrhBQQzXu"
      }
    },
    {
      "cell_type": "code",
      "source": [
        "# here is the reason why we taking in and out feature as 1 \n",
        "X_train[4] , y_train[4]\n",
        "\n",
        "# here we can see that there is only one value of y for the input 1 value for x bcz of which we choose in and out features as 1\n",
        "\n",
        "# means there is is only one value of x which is mapping with the 1 vallue of y"
      ],
      "metadata": {
        "id": "BrDdp6X8SAmJ",
        "outputId": "fb483f32-26c0-4297-e427-3a9bfbadc5c2",
        "colab": {
          "base_uri": "https://localhost:8080/"
        }
      },
      "execution_count": 28,
      "outputs": [
        {
          "data": {
            "text/plain": [
              "(tensor([0.0800]), tensor([0.3560]))"
            ]
          },
          "execution_count": 28,
          "metadata": {},
          "output_type": "execute_result"
        }
      ]
    },
    {
      "cell_type": "code",
      "source": [
        "class LinearRegressionModel2(nn.Module):\n",
        "  def __init__(self):\n",
        "    super().__init__()\n",
        "    self.linear_layer = nn.Linear(in_features=1,out_features=1) # refer above \n",
        "\n",
        "    # Define the forward computation (input data x flows through nn.Linear())\n",
        "    def forward(self, x: torch.Tensor) -> torch.Tensor:\n",
        "        return self.linear_layer(x)"
      ],
      "metadata": {
        "id": "RTOMsjq5RFGu"
      },
      "execution_count": 29,
      "outputs": []
    },
    {
      "cell_type": "code",
      "source": [
        "# Set the manual seed when creating the model (this isn't always need but is used for demonstrative purposes, try commenting it out and seeing what happens)\n",
        "torch.manual_seed(42)\n",
        "model_1 = LinearRegressionModel2()\n",
        "model_1, model_1.state_dict()"
      ],
      "metadata": {
        "id": "Cp8f6qHCS5fX",
        "outputId": "db52823e-3444-4b33-c397-5d2ced0e64c0",
        "colab": {
          "base_uri": "https://localhost:8080/"
        }
      },
      "execution_count": 30,
      "outputs": [
        {
          "data": {
            "text/plain": [
              "(LinearRegressionModel2(\n",
              "   (linear_layer): Linear(in_features=1, out_features=1, bias=True)\n",
              " ),\n",
              " OrderedDict([('linear_layer.weight', tensor([[0.7645]])),\n",
              "              ('linear_layer.bias', tensor([0.8300]))]))"
            ]
          },
          "execution_count": 30,
          "metadata": {},
          "output_type": "execute_result"
        }
      ]
    },
    {
      "cell_type": "code",
      "source": [],
      "metadata": {
        "id": "1hSwO6P9S7wz"
      },
      "execution_count": 30,
      "outputs": []
    }
  ]
}