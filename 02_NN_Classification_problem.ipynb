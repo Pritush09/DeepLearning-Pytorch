{
  "nbformat": 4,
  "nbformat_minor": 0,
  "metadata": {
    "colab": {
      "provenance": [],
      "authorship_tag": "ABX9TyPnZI8zbqpCPCOKhEduDglx",
      "include_colab_link": true
    },
    "kernelspec": {
      "name": "python3",
      "display_name": "Python 3"
    },
    "language_info": {
      "name": "python"
    }
  },
  "cells": [
    {
      "cell_type": "markdown",
      "metadata": {
        "id": "view-in-github",
        "colab_type": "text"
      },
      "source": [
        "<a href=\"https://colab.research.google.com/github/Pritush09/DeepLearning-Pytorch/blob/master/02_NN_Classification_problem.ipynb\" target=\"_parent\"><img src=\"https://colab.research.google.com/assets/colab-badge.svg\" alt=\"Open In Colab\"/></a>"
      ]
    },
    {
      "cell_type": "code",
      "execution_count": 1,
      "metadata": {
        "id": "HrSCUZC3XXYs"
      },
      "outputs": [],
      "source": [
        "import torch\n",
        "from torch import nn"
      ]
    },
    {
      "cell_type": "code",
      "source": [
        " nn"
      ],
      "metadata": {
        "id": "ehGK58vpSo8n",
        "outputId": "aa69003c-309f-4d87-ba46-f657880d10b8",
        "colab": {
          "base_uri": "https://localhost:8080/"
        }
      },
      "execution_count": 4,
      "outputs": [
        {
          "output_type": "execute_result",
          "data": {
            "text/plain": [
              "<module 'torch.nn' from '/usr/local/lib/python3.9/dist-packages/torch/nn/__init__.py'>"
            ]
          },
          "metadata": {},
          "execution_count": 4
        }
      ]
    },
    {
      "cell_type": "code",
      "source": [],
      "metadata": {
        "id": "Oj16_2q4oFKY"
      },
      "execution_count": 4,
      "outputs": []
    },
    {
      "cell_type": "code",
      "source": [
        "weight = 0.3\n",
        "bias = 0.9\n",
        "X = torch.arange(0,50).unsqueeze(dim=1)\n",
        "y= weight*X + bias\n",
        "X.shape , y.shape"
      ],
      "metadata": {
        "id": "jbTLoiNKTquT",
        "outputId": "69ce7bbf-ed2d-4735-fde4-f5d548192130",
        "colab": {
          "base_uri": "https://localhost:8080/"
        }
      },
      "execution_count": 6,
      "outputs": [
        {
          "output_type": "execute_result",
          "data": {
            "text/plain": [
              "(torch.Size([50, 1]), torch.Size([50, 1]))"
            ]
          },
          "metadata": {},
          "execution_count": 6
        }
      ]
    },
    {
      "cell_type": "code",
      "source": [
        "range_ = int(0.8*len(X))\n",
        "X_train = X[:range_]\n",
        "X_test = X[range_:]\n",
        "y_train = y[:range_]\n",
        "y_test = y[range_:]\n",
        "\n",
        "len(y_test) , len(y_train) , len(X_test) , len(X_train)"
      ],
      "metadata": {
        "id": "fQYzjP2NT-fg",
        "outputId": "f52e31b7-d563-4cbd-f2f0-5fbeb448a6b3",
        "colab": {
          "base_uri": "https://localhost:8080/"
        }
      },
      "execution_count": 7,
      "outputs": [
        {
          "output_type": "execute_result",
          "data": {
            "text/plain": [
              "(10, 40, 10, 40)"
            ]
          },
          "metadata": {},
          "execution_count": 7
        }
      ]
    },
    {
      "cell_type": "code",
      "source": [
        "import matplotlib.pyplot as plt\n",
        "def plot_predictions(train_data=X_train, \n",
        "                     train_labels=y_train, \n",
        "                     test_data=X_test, \n",
        "                     test_labels=y_test, \n",
        "                     predictions=None):\n",
        "  \"\"\"\n",
        "  Plots training data, test data and compares predictions.\n",
        "  \"\"\"\n",
        "  plt.figure(figsize=(10, 7))\n",
        "\n",
        "  # Plot training data in blue\n",
        "  plt.scatter(train_data, train_labels, c=\"b\", s=4, label=\"Training data\")\n",
        "  \n",
        "  # Plot test data in green\n",
        "  plt.scatter(test_data, test_labels, c=\"g\", s=4, label=\"Testing data\")\n",
        "\n",
        "  if predictions is not None:\n",
        "    # Plot the predictions in red (predictions were made on the test data)\n",
        "    plt.scatter(test_data, predictions, c=\"r\", s=4, label=\"Predictions\")\n",
        "\n",
        "  # Show the legend\n",
        "  # The prop keyword is used to change the font size property. It is used in Matplotlib as Using a prop keyword for changing the font size in legend.\n",
        "  plt.legend(prop={\"size\": 14});"
      ],
      "metadata": {
        "id": "th06IOoNlJjO"
      },
      "execution_count": 27,
      "outputs": []
    },
    {
      "cell_type": "code",
      "source": [
        "y_train.dtype"
      ],
      "metadata": {
        "id": "3UWy9UY-pxgE",
        "outputId": "5068a3e6-d63c-4a1c-9a82-d45a5e38a406",
        "colab": {
          "base_uri": "https://localhost:8080/"
        }
      },
      "execution_count": 9,
      "outputs": [
        {
          "output_type": "execute_result",
          "data": {
            "text/plain": [
              "torch.float32"
            ]
          },
          "metadata": {},
          "execution_count": 9
        }
      ]
    },
    {
      "cell_type": "code",
      "source": [
        "y_test.dtype"
      ],
      "metadata": {
        "id": "Zw6dCD79oDHT",
        "outputId": "ded3af41-f7ae-464e-ae40-ef86652f156c",
        "colab": {
          "base_uri": "https://localhost:8080/"
        }
      },
      "execution_count": 10,
      "outputs": [
        {
          "output_type": "execute_result",
          "data": {
            "text/plain": [
              "torch.float32"
            ]
          },
          "metadata": {},
          "execution_count": 10
        }
      ]
    },
    {
      "cell_type": "code",
      "source": [
        "X_train.dtype"
      ],
      "metadata": {
        "id": "l8A2mha7rF4f",
        "outputId": "b81098a7-e6b6-4899-a3bc-1c07dfca8e29",
        "colab": {
          "base_uri": "https://localhost:8080/"
        }
      },
      "execution_count": 11,
      "outputs": [
        {
          "output_type": "execute_result",
          "data": {
            "text/plain": [
              "torch.int64"
            ]
          },
          "metadata": {},
          "execution_count": 11
        }
      ]
    },
    {
      "cell_type": "code",
      "source": [
        "X_train = X_train.type(torch.float)\n",
        "X_train.dtype"
      ],
      "metadata": {
        "id": "Eh6aT-P1mtl1",
        "outputId": "540c5d25-4985-4d4b-9a59-57229ddadd9b",
        "colab": {
          "base_uri": "https://localhost:8080/"
        }
      },
      "execution_count": 12,
      "outputs": [
        {
          "output_type": "execute_result",
          "data": {
            "text/plain": [
              "torch.float32"
            ]
          },
          "metadata": {},
          "execution_count": 12
        }
      ]
    },
    {
      "cell_type": "code",
      "source": [
        "X_test = X_test.type(torch.float)\n",
        "X_test.dtype"
      ],
      "metadata": {
        "id": "gzGmUm03pfEW",
        "outputId": "61cd2635-9620-41c6-9500-c53f0d55bf56",
        "colab": {
          "base_uri": "https://localhost:8080/"
        }
      },
      "execution_count": 13,
      "outputs": [
        {
          "output_type": "execute_result",
          "data": {
            "text/plain": [
              "torch.float32"
            ]
          },
          "metadata": {},
          "execution_count": 13
        }
      ]
    },
    {
      "cell_type": "code",
      "source": [
        "# model building \n",
        "class Linear(nn.Module):\n",
        "  def __init__(self):\n",
        "    super().__init__()\n",
        "    self.linear = nn.Linear(in_features=1,out_features=1)\n",
        "    #print(self.linear.weight.dtype)\n",
        "    #print(self.linear.bias)\n",
        "  \n",
        "  def forward(self , x:torch.tensor)->torch.tensor:\n",
        "    return self.linear(x)\n",
        "  \n",
        "  "
      ],
      "metadata": {
        "id": "Xr76j8TvS7GI"
      },
      "execution_count": 14,
      "outputs": []
    },
    {
      "cell_type": "code",
      "source": [
        "torch.manual_seed(42)\n",
        "model = Linear()\n",
        "model.state_dict()"
      ],
      "metadata": {
        "id": "MAjUJo0khOrc",
        "outputId": "3c1f7770-13cb-432e-d697-04bf83a44074",
        "colab": {
          "base_uri": "https://localhost:8080/"
        }
      },
      "execution_count": 22,
      "outputs": [
        {
          "output_type": "execute_result",
          "data": {
            "text/plain": [
              "OrderedDict([('linear.weight', tensor([[0.7645]])),\n",
              "             ('linear.bias', tensor([0.8300]))])"
            ]
          },
          "metadata": {},
          "execution_count": 22
        }
      ]
    },
    {
      "cell_type": "code",
      "source": [
        "loss_fn = nn.MSELoss()\n",
        "optimizer = torch.optim.SGD(params = model.parameters(),lr=0.001)"
      ],
      "metadata": {
        "id": "eC20Qz71XKOe"
      },
      "execution_count": 23,
      "outputs": []
    },
    {
      "cell_type": "code",
      "source": [
        "# Training\n",
        "torch.manual_seed(42)\n",
        "\n",
        "epochs = 1000\n",
        "for epoch in range(epochs):\n",
        "  # training mode\n",
        "  model.train()\n",
        "\n",
        "  y_pred = model(X_train)\n",
        "\n",
        "  loss = loss_fn(y_pred,y_train)\n",
        "\n",
        "  optimizer.zero_grad()\n",
        "\n",
        "  loss.backward()\n",
        "\n",
        "  optimizer.step()\n",
        "\n",
        "  model.eval()\n",
        "\n",
        "  with torch.inference_mode():\n",
        "    \n",
        "    test_pred = model(X_test)\n",
        "\n",
        "    test_loss = loss_fn(test_pred,y_test)\n",
        "\n",
        "    if epoch % 10 ==0:\n",
        "      print(f\"epoch : {epoch}   |   Train loss : {loss}     |    test_loss : {test_loss}\")"
      ],
      "metadata": {
        "id": "QE1xhA33hgAV",
        "outputId": "07fbab39-e606-4985-e150-035529619773",
        "colab": {
          "base_uri": "https://localhost:8080/"
        }
      },
      "execution_count": 24,
      "outputs": [
        {
          "output_type": "stream",
          "name": "stdout",
          "text": [
            "epoch : 0   |   Train loss : 109.5481185913086     |    test_loss : 0.276044100522995\n",
            "epoch : 10   |   Train loss : 0.0019669453613460064     |    test_loss : 0.00370298745110631\n",
            "epoch : 20   |   Train loss : 0.0019466595258563757     |    test_loss : 0.0036646523512899876\n",
            "epoch : 30   |   Train loss : 0.001926590339280665     |    test_loss : 0.003626864403486252\n",
            "epoch : 40   |   Train loss : 0.0019067205721512437     |    test_loss : 0.003589580999687314\n",
            "epoch : 50   |   Train loss : 0.0018870525527745485     |    test_loss : 0.0035524521954357624\n",
            "epoch : 60   |   Train loss : 0.0018675907049328089     |    test_loss : 0.0035157606471329927\n",
            "epoch : 70   |   Train loss : 0.0018483282765373588     |    test_loss : 0.0034795149695128202\n",
            "epoch : 80   |   Train loss : 0.0018292696913704276     |    test_loss : 0.0034436031710356474\n",
            "epoch : 90   |   Train loss : 0.0018103981856256723     |    test_loss : 0.0034081016201525927\n",
            "epoch : 100   |   Train loss : 0.0017917327350005507     |    test_loss : 0.0033728983253240585\n",
            "epoch : 110   |   Train loss : 0.001773249008692801     |    test_loss : 0.0033381462562829256\n",
            "epoch : 120   |   Train loss : 0.001754955155774951     |    test_loss : 0.0033038146793842316\n",
            "epoch : 130   |   Train loss : 0.0017368572298437357     |    test_loss : 0.0032697468996047974\n",
            "epoch : 140   |   Train loss : 0.0017189520876854658     |    test_loss : 0.003235993441194296\n",
            "epoch : 150   |   Train loss : 0.001701218425296247     |    test_loss : 0.0032026306726038456\n",
            "epoch : 160   |   Train loss : 0.0016836673021316528     |    test_loss : 0.003169549163430929\n",
            "epoch : 170   |   Train loss : 0.0016663095448166132     |    test_loss : 0.003136751474812627\n",
            "epoch : 180   |   Train loss : 0.0016491170972585678     |    test_loss : 0.0031045207288116217\n",
            "epoch : 190   |   Train loss : 0.0016321081202477217     |    test_loss : 0.0030725174583494663\n",
            "epoch : 200   |   Train loss : 0.0016152797034010291     |    test_loss : 0.00304077984765172\n",
            "epoch : 210   |   Train loss : 0.0015986155485734344     |    test_loss : 0.0030094138346612453\n",
            "epoch : 220   |   Train loss : 0.0015821235720068216     |    test_loss : 0.002978530013933778\n",
            "epoch : 230   |   Train loss : 0.0015658123884350061     |    test_loss : 0.002947724424302578\n",
            "epoch : 240   |   Train loss : 0.0015496568521484733     |    test_loss : 0.002917294856160879\n",
            "epoch : 250   |   Train loss : 0.0015336755895987153     |    test_loss : 0.0028872389812022448\n",
            "epoch : 260   |   Train loss : 0.0015178644098341465     |    test_loss : 0.0028573344461619854\n",
            "epoch : 270   |   Train loss : 0.0015021973522379994     |    test_loss : 0.0028280378319323063\n",
            "epoch : 280   |   Train loss : 0.0014867095742374659     |    test_loss : 0.0027987370267510414\n",
            "epoch : 290   |   Train loss : 0.0014713759301230311     |    test_loss : 0.0027699503116309643\n",
            "epoch : 300   |   Train loss : 0.0014561956049874425     |    test_loss : 0.002741396427154541\n",
            "epoch : 310   |   Train loss : 0.0014411802403628826     |    test_loss : 0.00271305232308805\n",
            "epoch : 320   |   Train loss : 0.0014263212215155363     |    test_loss : 0.0026850933209061623\n",
            "epoch : 330   |   Train loss : 0.0014116084203124046     |    test_loss : 0.0026573468931019306\n",
            "epoch : 340   |   Train loss : 0.001397038926370442     |    test_loss : 0.0026299927849322557\n",
            "epoch : 350   |   Train loss : 0.0013826320646330714     |    test_loss : 0.0026029483415186405\n",
            "epoch : 360   |   Train loss : 0.0013683727011084557     |    test_loss : 0.0025759011041373014\n",
            "epoch : 370   |   Train loss : 0.0013542691012844443     |    test_loss : 0.0025494364090263844\n",
            "epoch : 380   |   Train loss : 0.001340296701528132     |    test_loss : 0.002523093018680811\n",
            "epoch : 390   |   Train loss : 0.0013264688896015286     |    test_loss : 0.002497181762009859\n",
            "epoch : 400   |   Train loss : 0.0013127929996699095     |    test_loss : 0.0024712826125323772\n",
            "epoch : 410   |   Train loss : 0.001299248426221311     |    test_loss : 0.002445900347083807\n",
            "epoch : 420   |   Train loss : 0.0012858479749411345     |    test_loss : 0.0024206696543842554\n",
            "epoch : 430   |   Train loss : 0.0012725789565593004     |    test_loss : 0.002395683666691184\n",
            "epoch : 440   |   Train loss : 0.0012594603467732668     |    test_loss : 0.002371008973568678\n",
            "epoch : 450   |   Train loss : 0.0012464707251638174     |    test_loss : 0.0023465410340577364\n",
            "epoch : 460   |   Train loss : 0.0012336187064647675     |    test_loss : 0.0023222952149808407\n",
            "epoch : 470   |   Train loss : 0.0012208853149786592     |    test_loss : 0.002298420062288642\n",
            "epoch : 480   |   Train loss : 0.0012082960456609726     |    test_loss : 0.002274618949741125\n",
            "epoch : 490   |   Train loss : 0.001195836579427123     |    test_loss : 0.002251267898827791\n",
            "epoch : 500   |   Train loss : 0.001183504005894065     |    test_loss : 0.002227966208010912\n",
            "epoch : 510   |   Train loss : 0.0011712921550497413     |    test_loss : 0.002205083379521966\n",
            "epoch : 520   |   Train loss : 0.0011592211667448282     |    test_loss : 0.002182184951379895\n",
            "epoch : 530   |   Train loss : 0.0011472587939351797     |    test_loss : 0.002159700496122241\n",
            "epoch : 540   |   Train loss : 0.0011354204034432769     |    test_loss : 0.00213752593845129\n",
            "epoch : 550   |   Train loss : 0.0011237143771722913     |    test_loss : 0.002115505514666438\n",
            "epoch : 560   |   Train loss : 0.001112123834900558     |    test_loss : 0.002093574497848749\n",
            "epoch : 570   |   Train loss : 0.0011006537824869156     |    test_loss : 0.002071929629892111\n",
            "epoch : 580   |   Train loss : 0.0010892990976572037     |    test_loss : 0.0020505741704255342\n",
            "epoch : 590   |   Train loss : 0.0010780676966533065     |    test_loss : 0.002029500203207135\n",
            "epoch : 600   |   Train loss : 0.001066954922862351     |    test_loss : 0.0020085214637219906\n",
            "epoch : 610   |   Train loss : 0.0010559429647400975     |    test_loss : 0.0019878889434039593\n",
            "epoch : 620   |   Train loss : 0.0010450544068589807     |    test_loss : 0.0019674256909638643\n",
            "epoch : 630   |   Train loss : 0.0010342765599489212     |    test_loss : 0.0019469860708341002\n",
            "epoch : 640   |   Train loss : 0.0010236060479655862     |    test_loss : 0.001927003264427185\n",
            "epoch : 650   |   Train loss : 0.0010130497394129634     |    test_loss : 0.001907150261104107\n",
            "epoch : 660   |   Train loss : 0.0010026071686297655     |    test_loss : 0.0018873864319175482\n",
            "epoch : 670   |   Train loss : 0.0009922614553943276     |    test_loss : 0.001867988845333457\n",
            "epoch : 680   |   Train loss : 0.0009820291306823492     |    test_loss : 0.0018486455082893372\n",
            "epoch : 690   |   Train loss : 0.000971900939475745     |    test_loss : 0.001829629996791482\n",
            "epoch : 700   |   Train loss : 0.0009618764743208885     |    test_loss : 0.0018107645446434617\n",
            "epoch : 710   |   Train loss : 0.0009519564919173717     |    test_loss : 0.0017921127146109939\n",
            "epoch : 720   |   Train loss : 0.0009421397116966546     |    test_loss : 0.0017736107110977173\n",
            "epoch : 730   |   Train loss : 0.0009324192069470882     |    test_loss : 0.0017553677316755056\n",
            "epoch : 740   |   Train loss : 0.000922801555134356     |    test_loss : 0.001737251877784729\n",
            "epoch : 750   |   Train loss : 0.000913281342945993     |    test_loss : 0.0017193264793604612\n",
            "epoch : 760   |   Train loss : 0.0009038646821863949     |    test_loss : 0.0017015259945765138\n",
            "epoch : 770   |   Train loss : 0.0008945438894443214     |    test_loss : 0.0016839845338836312\n",
            "epoch : 780   |   Train loss : 0.0008853150648064911     |    test_loss : 0.001666690455749631\n",
            "epoch : 790   |   Train loss : 0.0008761848439462483     |    test_loss : 0.00164950848557055\n",
            "epoch : 800   |   Train loss : 0.0008671503746882081     |    test_loss : 0.0016324587631970644\n",
            "epoch : 810   |   Train loss : 0.0008582078153267503     |    test_loss : 0.001615609391592443\n",
            "epoch : 820   |   Train loss : 0.0008493520435877144     |    test_loss : 0.0015988890081644058\n",
            "epoch : 830   |   Train loss : 0.0008405908010900021     |    test_loss : 0.0015825001755729318\n",
            "epoch : 840   |   Train loss : 0.000831924204248935     |    test_loss : 0.0015661042416468263\n",
            "epoch : 850   |   Train loss : 0.0008233428816311061     |    test_loss : 0.001549967098981142\n",
            "epoch : 860   |   Train loss : 0.0008148464257828891     |    test_loss : 0.0015339844394475222\n",
            "epoch : 870   |   Train loss : 0.000806447584182024     |    test_loss : 0.0015181272756308317\n",
            "epoch : 880   |   Train loss : 0.0007981269736774266     |    test_loss : 0.0015024973545223475\n",
            "epoch : 890   |   Train loss : 0.0007899007759988308     |    test_loss : 0.0014869750011712313\n",
            "epoch : 900   |   Train loss : 0.0007817552541382611     |    test_loss : 0.0014716747682541609\n",
            "epoch : 910   |   Train loss : 0.0007736970437690616     |    test_loss : 0.0014564215671271086\n",
            "epoch : 920   |   Train loss : 0.0007657151436433196     |    test_loss : 0.0014413960743695498\n",
            "epoch : 930   |   Train loss : 0.0007578133954666555     |    test_loss : 0.0014266655780375004\n",
            "epoch : 940   |   Train loss : 0.0007499962812289596     |    test_loss : 0.0014118923572823405\n",
            "epoch : 950   |   Train loss : 0.0007422680500894785     |    test_loss : 0.0013972963206470013\n",
            "epoch : 960   |   Train loss : 0.0007346123456954956     |    test_loss : 0.0013828917872160673\n",
            "epoch : 970   |   Train loss : 0.0007270306232385337     |    test_loss : 0.0013686981983482838\n",
            "epoch : 980   |   Train loss : 0.0007195320213213563     |    test_loss : 0.0013545635156333447\n",
            "epoch : 990   |   Train loss : 0.0007121114176698029     |    test_loss : 0.001340555609203875\n"
          ]
        }
      ]
    },
    {
      "cell_type": "code",
      "source": [
        "model.state_dict()"
      ],
      "metadata": {
        "id": "lk1f1hn5pdzB",
        "outputId": "143dcab1-6327-4010-e4e6-e310afa9c2d6",
        "colab": {
          "base_uri": "https://localhost:8080/"
        }
      },
      "execution_count": 18,
      "outputs": [
        {
          "output_type": "execute_result",
          "data": {
            "text/plain": [
              "OrderedDict([('linear.weight', tensor([[nan]])),\n",
              "             ('linear.bias', tensor([nan]))])"
            ]
          },
          "metadata": {},
          "execution_count": 18
        }
      ]
    },
    {
      "cell_type": "code",
      "source": [
        "model.eval()\n",
        "with torch.inference_mode():\n",
        "  y_pred = model(X_test)\n",
        "\n",
        "y_pred"
      ],
      "metadata": {
        "id": "LNjI2h3vkNyP",
        "outputId": "9b63e625-baa7-453f-8638-4175122c3fbb",
        "colab": {
          "base_uri": "https://localhost:8080/"
        }
      },
      "execution_count": 25,
      "outputs": [
        {
          "output_type": "execute_result",
          "data": {
            "text/plain": [
              "tensor([[12.9271],\n",
              "        [13.2291],\n",
              "        [13.5310],\n",
              "        [13.8330],\n",
              "        [14.1350],\n",
              "        [14.4370],\n",
              "        [14.7390],\n",
              "        [15.0409],\n",
              "        [15.3429],\n",
              "        [15.6449]])"
            ]
          },
          "metadata": {},
          "execution_count": 25
        }
      ]
    },
    {
      "cell_type": "code",
      "source": [
        "plot_predictions()"
      ],
      "metadata": {
        "id": "cwBgHtEvt9bz",
        "outputId": "51a3d01e-5480-4da2-ce64-b7b842de0f53",
        "colab": {
          "base_uri": "https://localhost:8080/",
          "height": 599
        }
      },
      "execution_count": 29,
      "outputs": [
        {
          "output_type": "display_data",
          "data": {
            "text/plain": [
              "<Figure size 1000x700 with 1 Axes>"
            ],
            "image/png": "[encoded data removed]"
          },
          "metadata": {}
        }
      ]
    },
    {
      "cell_type": "code",
      "source": [
        "plot_predictions(predictions=y_pred)"
      ],
      "metadata": {
        "id": "sJOS2l8FuA70",
        "outputId": "5fda465f-8ec5-4eea-b94e-fa94d4f6e1d1",
        "colab": {
          "base_uri": "https://localhost:8080/",
          "height": 599
        }
      },
      "execution_count": 30,
      "outputs": [
        {
          "output_type": "display_data",
          "data": {
            "text/plain": [
              "<Figure size 1000x700 with 1 Axes>"
            ],
            "image/png": "[encoded data removed]"
          },
          "metadata": {}
        }
      ]
    },
    {
      "cell_type": "code",
      "source": [
        "model.state_dict()"
      ],
      "metadata": {
        "id": "vqq8HJS-uOss",
        "outputId": "8ce025e1-e115-4c6c-fe4e-409f6a87cc68",
        "colab": {
          "base_uri": "https://localhost:8080/"
        }
      },
      "execution_count": 31,
      "outputs": [
        {
          "output_type": "execute_result",
          "data": {
            "text/plain": [
              "OrderedDict([('linear.weight', tensor([[0.3020]])),\n",
              "             ('linear.bias', tensor([0.8479]))])"
            ]
          },
          "metadata": {},
          "execution_count": 31
        }
      ]
    },
    {
      "cell_type": "code",
      "source": [],
      "metadata": {
        "id": "G073chfYuTD7"
      },
      "execution_count": null,
      "outputs": []
    }
  ]
}